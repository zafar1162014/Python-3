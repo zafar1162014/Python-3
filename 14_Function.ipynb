{
 "cells": [
  {
   "cell_type": "markdown",
   "id": "8eecac2b-ec65-41fb-ad33-d90f66fbc1cd",
   "metadata": {},
   "source": [
    "# Function"
   ]
  },
  {
   "cell_type": "code",
   "execution_count": 3,
   "id": "b2482d09-469f-4d18-85f9-f0fd33681c15",
   "metadata": {},
   "outputs": [
    {
     "name": "stdout",
     "output_type": "stream",
     "text": [
      "Assalam o alaikum\n"
     ]
    }
   ],
   "source": [
    "def fun():\n",
    "    print(\"Assalam o alaikum\")\n",
    "fun()"
   ]
  },
  {
   "cell_type": "code",
   "execution_count": 5,
   "id": "51bcb284-bfd2-4215-87f8-e25b797790d6",
   "metadata": {},
   "outputs": [
    {
     "name": "stdout",
     "output_type": "stream",
     "text": [
      "Assalam o alaikum\n"
     ]
    }
   ],
   "source": [
    "fun()"
   ]
  },
  {
   "cell_type": "code",
   "execution_count": 7,
   "id": "3c6a1d00-3a6f-4832-97c7-47737d9fd2a1",
   "metadata": {},
   "outputs": [
    {
     "name": "stdout",
     "output_type": "stream",
     "text": [
      "Assalam o alaikum  :  Hamdan\n"
     ]
    }
   ],
   "source": [
    "def fun1(temp):\n",
    "    print(\"Assalam o alaikum  : \",temp)\n",
    "\n",
    "fun1('Hamdan')"
   ]
  },
  {
   "cell_type": "code",
   "execution_count": 11,
   "id": "a71663f3-483d-40af-b458-0f4e18a032ac",
   "metadata": {},
   "outputs": [
    {
     "name": "stdout",
     "output_type": "stream",
     "text": [
      "Aslam How old are you ?\n"
     ]
    }
   ],
   "source": [
    "def Q_age(name):\n",
    "    print(name + ' How old are you ?')\n",
    "\n",
    "Q_age('Aslam')"
   ]
  },
  {
   "cell_type": "code",
   "execution_count": 13,
   "id": "73955b1a-7b8c-44ec-bd3e-25202a4ea109",
   "metadata": {},
   "outputs": [
    {
     "name": "stdout",
     "output_type": "stream",
     "text": [
      "zafar ul haq\n"
     ]
    }
   ],
   "source": [
    "def name(fname,lname):\n",
    "  print(fname + \" \" + lname)\n",
    "\n",
    "name('zafar','ul haq')"
   ]
  },
  {
   "cell_type": "code",
   "execution_count": 15,
   "id": "ca951a36-8a4e-46ef-b634-ffe5bbc37091",
   "metadata": {},
   "outputs": [
    {
     "name": "stdout",
     "output_type": "stream",
     "text": [
      "ul haq zafar\n"
     ]
    }
   ],
   "source": [
    "name('ul haq','zafar')"
   ]
  },
  {
   "cell_type": "code",
   "execution_count": 19,
   "id": "fb98fbd7-6e9b-4793-b232-3595e25180cd",
   "metadata": {},
   "outputs": [
    {
     "name": "stdout",
     "output_type": "stream",
     "text": [
      "zafar ul haq\n"
     ]
    }
   ],
   "source": [
    "name(lname = 'ul haq',fname = 'zafar')"
   ]
  },
  {
   "cell_type": "code",
   "execution_count": 41,
   "id": "3f408a08-2594-454c-8bdc-e078a58396d8",
   "metadata": {},
   "outputs": [
    {
     "name": "stdout",
     "output_type": "stream",
     "text": [
      "🤝 Assalam o alaikum Zafar ,Hamdan ,Shahzaib & Ayaan!\n"
     ]
    }
   ],
   "source": [
    "def greeting(*names):\n",
    "    base = \"🤝 Assalam o alaikum\"\n",
    "    if not names:\n",
    "        return base + \"!\"\n",
    "    elif len(names) == 1:\n",
    "        return f\"{base} {names[0]}!\"\n",
    "    else:\n",
    "        return f'{base} {' ,'.join(names[:-1])} & {names[-1]}!'\n",
    "\n",
    "print(greeting('Zafar', 'Hamdan', 'Shahzaib', 'Ayaan'))\n"
   ]
  },
  {
   "cell_type": "code",
   "execution_count": 45,
   "id": "97c5f231-f89e-45b8-b28c-2ad692ca09b5",
   "metadata": {},
   "outputs": [
    {
     "name": "stdout",
     "output_type": "stream",
     "text": [
      "Ayaan,Shahzaib,Hamdan,Zafar\n"
     ]
    }
   ],
   "source": [
    "def reverse(*string):\n",
    "    return ','.join(string[::-1])\n",
    "\n",
    "print(reverse('Zafar', 'Hamdan', 'Shahzaib', 'Ayaan'))"
   ]
  },
  {
   "cell_type": "code",
   "execution_count": 49,
   "id": "5f4e684c-34fb-4a3b-bb66-5388d01e5354",
   "metadata": {},
   "outputs": [
    {
     "name": "stdout",
     "output_type": "stream",
     "text": [
      "rafaZ\n"
     ]
    }
   ],
   "source": [
    "def reverse(string):\n",
    "    return string[::-1]\n",
    "\n",
    "print(reverse('Zafar'))"
   ]
  },
  {
   "cell_type": "code",
   "execution_count": 57,
   "id": "756c2637-1168-46e5-84d4-7ac11d310dc2",
   "metadata": {},
   "outputs": [
    {
     "name": "stdout",
     "output_type": "stream",
     "text": [
      "{'n1': 'Zafar', 'n2': 'Ayaan', 'n3': 'Moeiz'}\n"
     ]
    }
   ],
   "source": [
    "def mul_name(**names):\n",
    "    print(names)\n",
    "mul_name(n1=\"Zafar\",n2=\"Ayaan\",n3=\"Moeiz\")"
   ]
  },
  {
   "cell_type": "code",
   "execution_count": 63,
   "id": "bf102658-9e37-4a10-b8f5-bf44efbf458c",
   "metadata": {},
   "outputs": [
    {
     "name": "stdout",
     "output_type": "stream",
     "text": [
      "🤝 Assalam o alaikum  Ayaan  !\n",
      "🤝 Assalam o alaikum  Zafar  !\n"
     ]
    }
   ],
   "source": [
    "def fu_n(p='Zafar'):\n",
    "    print(\"🤝 Assalam o alaikum \" ,p , \" !\")\n",
    "\n",
    "fu_n(\"Ayaan\")\n",
    "fu_n()"
   ]
  },
  {
   "cell_type": "code",
   "execution_count": 65,
   "id": "f9e7ac18-5d87-4c17-b89a-e312ae153aa7",
   "metadata": {},
   "outputs": [
    {
     "data": {
      "text/plain": [
       "3"
      ]
     },
     "execution_count": 65,
     "metadata": {},
     "output_type": "execute_result"
    }
   ],
   "source": [
    "def sum_fun(a,b):\n",
    "  c = a+b\n",
    "  return c\n",
    "\n",
    "sum_fun(1,2)"
   ]
  },
  {
   "cell_type": "code",
   "execution_count": 67,
   "id": "3e430982-ef42-446b-8ec3-55b93b93e59d",
   "metadata": {},
   "outputs": [
    {
     "ename": "NameError",
     "evalue": "name 'c' is not defined",
     "output_type": "error",
     "traceback": [
      "\u001b[0;31m---------------------------------------------------------------------------\u001b[0m",
      "\u001b[0;31mNameError\u001b[0m                                 Traceback (most recent call last)",
      "Cell \u001b[0;32mIn[67], line 1\u001b[0m\n\u001b[0;32m----> 1\u001b[0m c\n",
      "\u001b[0;31mNameError\u001b[0m: name 'c' is not defined"
     ]
    }
   ],
   "source": [
    "c"
   ]
  },
  {
   "cell_type": "code",
   "execution_count": 69,
   "id": "9bb0deb2-9c57-49ff-9453-feec1319d1ee",
   "metadata": {},
   "outputs": [
    {
     "data": {
      "text/plain": [
       "3"
      ]
     },
     "execution_count": 69,
     "metadata": {},
     "output_type": "execute_result"
    }
   ],
   "source": [
    "c = 5\n",
    "def sub_fun(a,b):\n",
    "  c = a-b\n",
    "  return c\n",
    "\n",
    "sub_fun(5,2)"
   ]
  },
  {
   "cell_type": "code",
   "execution_count": 82,
   "id": "f3be6e7f-1439-4e33-b026-6a3b9f113566",
   "metadata": {},
   "outputs": [
    {
     "data": {
      "text/plain": [
       "3"
      ]
     },
     "execution_count": 82,
     "metadata": {},
     "output_type": "execute_result"
    }
   ],
   "source": [
    "c = 5\n",
    "def sub_fun(a,b):\n",
    "  c = a-b\n",
    "  return c\n",
    "\n",
    "sub_fun(5,2)"
   ]
  },
  {
   "cell_type": "code",
   "execution_count": 84,
   "id": "0d9d4a22-0190-47df-8c8b-e71c7bf4da82",
   "metadata": {},
   "outputs": [
    {
     "data": {
      "text/plain": [
       "5"
      ]
     },
     "execution_count": 84,
     "metadata": {},
     "output_type": "execute_result"
    }
   ],
   "source": [
    "c\n"
   ]
  },
  {
   "cell_type": "code",
   "execution_count": 86,
   "id": "50f215d0-fae0-44a7-b554-51b234a1650a",
   "metadata": {},
   "outputs": [
    {
     "ename": "UnboundLocalError",
     "evalue": "cannot access local variable 'c' where it is not associated with a value",
     "output_type": "error",
     "traceback": [
      "\u001b[0;31m---------------------------------------------------------------------------\u001b[0m",
      "\u001b[0;31mUnboundLocalError\u001b[0m                         Traceback (most recent call last)",
      "Cell \u001b[0;32mIn[86], line 6\u001b[0m\n\u001b[1;32m      3\u001b[0m   c \u001b[38;5;241m=\u001b[39m c \u001b[38;5;241m+\u001b[39m \u001b[38;5;241m1\u001b[39m\n\u001b[1;32m      4\u001b[0m   \u001b[38;5;28;01mreturn\u001b[39;00m c\n\u001b[0;32m----> 6\u001b[0m fun()\n",
      "Cell \u001b[0;32mIn[86], line 3\u001b[0m, in \u001b[0;36mfun\u001b[0;34m()\u001b[0m\n\u001b[1;32m      2\u001b[0m \u001b[38;5;28;01mdef\u001b[39;00m \u001b[38;5;21mfun\u001b[39m():\n\u001b[0;32m----> 3\u001b[0m   c \u001b[38;5;241m=\u001b[39m c \u001b[38;5;241m+\u001b[39m \u001b[38;5;241m1\u001b[39m\n\u001b[1;32m      4\u001b[0m   \u001b[38;5;28;01mreturn\u001b[39;00m c\n",
      "\u001b[0;31mUnboundLocalError\u001b[0m: cannot access local variable 'c' where it is not associated with a value"
     ]
    }
   ],
   "source": [
    "c = 5\n",
    "def fun():\n",
    "  c = c + 1\n",
    "  return c\n",
    "\n",
    "fun()"
   ]
  },
  {
   "cell_type": "code",
   "execution_count": 88,
   "id": "db2de540-36f0-4921-bb28-f893a72eea6e",
   "metadata": {},
   "outputs": [
    {
     "data": {
      "text/plain": [
       "6"
      ]
     },
     "execution_count": 88,
     "metadata": {},
     "output_type": "execute_result"
    }
   ],
   "source": [
    "c = 5\n",
    "def fun():\n",
    "  global c\n",
    "  c = c + 1\n",
    "  return c\n",
    "\n",
    "fun()"
   ]
  }
 ],
 "metadata": {
  "kernelspec": {
   "display_name": "Python 3 (ipykernel)",
   "language": "python",
   "name": "python3"
  },
  "language_info": {
   "codemirror_mode": {
    "name": "ipython",
    "version": 3
   },
   "file_extension": ".py",
   "mimetype": "text/x-python",
   "name": "python",
   "nbconvert_exporter": "python",
   "pygments_lexer": "ipython3",
   "version": "3.12.2"
  }
 },
 "nbformat": 4,
 "nbformat_minor": 5
}
