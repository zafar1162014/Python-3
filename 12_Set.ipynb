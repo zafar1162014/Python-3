{
 "cells": [
  {
   "cell_type": "markdown",
   "id": "c3639878-cbd0-4e18-9b0f-ca129b0dfd1f",
   "metadata": {},
   "source": [
    "# Set"
   ]
  },
  {
   "cell_type": "code",
   "execution_count": 5,
   "id": "ffc2ad67-4d7d-4e4a-a719-b75af28624ca",
   "metadata": {},
   "outputs": [],
   "source": [
    "s1 = {1,2,3,4,5}\n",
    "s2 = {'one','two','three'}\n",
    "s3 = {True, False}\n",
    "s4 = {1.1,2.2,3.3,4.4,5.5}"
   ]
  },
  {
   "cell_type": "code",
   "execution_count": 7,
   "id": "9bfd8596-1e34-4b72-8372-773b65a8c875",
   "metadata": {},
   "outputs": [
    {
     "name": "stdout",
     "output_type": "stream",
     "text": [
      "<class 'set'>\n",
      "<class 'set'>\n",
      "<class 'set'>\n",
      "<class 'set'>\n"
     ]
    }
   ],
   "source": [
    "print(type(s1))\n",
    "print(type(s2))\n",
    "print(type(s3))\n",
    "print(type(s4))"
   ]
  },
  {
   "cell_type": "code",
   "execution_count": 9,
   "id": "c5a5ce0b-c180-4c3d-bf85-76290035d5b4",
   "metadata": {},
   "outputs": [
    {
     "ename": "TypeError",
     "evalue": "'set' object is not subscriptable",
     "output_type": "error",
     "traceback": [
      "\u001b[0;31m---------------------------------------------------------------------------\u001b[0m",
      "\u001b[0;31mTypeError\u001b[0m                                 Traceback (most recent call last)",
      "Cell \u001b[0;32mIn[9], line 1\u001b[0m\n\u001b[0;32m----> 1\u001b[0m \u001b[38;5;28mprint\u001b[39m(s1[\u001b[38;5;241m0\u001b[39m])\n",
      "\u001b[0;31mTypeError\u001b[0m: 'set' object is not subscriptable"
     ]
    }
   ],
   "source": [
    "print(s1[0])"
   ]
  },
  {
   "cell_type": "code",
   "execution_count": 11,
   "id": "dfeaba23-f5c5-4257-bc1e-ba7e9c97e933",
   "metadata": {},
   "outputs": [
    {
     "data": {
      "text/plain": [
       "{'one', 'three', 'two'}"
      ]
     },
     "execution_count": 11,
     "metadata": {},
     "output_type": "execute_result"
    }
   ],
   "source": [
    "s2"
   ]
  },
  {
   "cell_type": "code",
   "execution_count": 15,
   "id": "c184f00c-6e9d-44c1-9b35-54953ff4079d",
   "metadata": {},
   "outputs": [
    {
     "data": {
      "text/plain": [
       "{1, 2, 3, 4, 5, 6}"
      ]
     },
     "execution_count": 15,
     "metadata": {},
     "output_type": "execute_result"
    }
   ],
   "source": [
    "sett={1,2,2,3,4,3,6,5,4}\n",
    "sett"
   ]
  },
  {
   "cell_type": "code",
   "execution_count": 17,
   "id": "213ef296-c557-4a8c-9829-882406f64578",
   "metadata": {},
   "outputs": [
    {
     "name": "stdout",
     "output_type": "stream",
     "text": [
      "True\n"
     ]
    }
   ],
   "source": [
    "print(5 in s1)"
   ]
  },
  {
   "cell_type": "code",
   "execution_count": 19,
   "id": "e16b74af-04ca-45d8-8d24-03957fc5def5",
   "metadata": {},
   "outputs": [
    {
     "name": "stdout",
     "output_type": "stream",
     "text": [
      "False\n"
     ]
    }
   ],
   "source": [
    "print(15 in s1)"
   ]
  },
  {
   "cell_type": "code",
   "execution_count": 21,
   "id": "56d9aecc-fffb-4b2b-a1f5-20a884f9e1f6",
   "metadata": {},
   "outputs": [
    {
     "data": {
      "text/plain": [
       "{1, 2, 3, 4, 5, 6}"
      ]
     },
     "execution_count": 21,
     "metadata": {},
     "output_type": "execute_result"
    }
   ],
   "source": [
    "s1.add(6)\n",
    "s1"
   ]
  },
  {
   "cell_type": "code",
   "execution_count": 25,
   "id": "25aeabab-ef4f-446f-a9f8-3002fda31e76",
   "metadata": {},
   "outputs": [
    {
     "data": {
      "text/plain": [
       "{1, 2, 3, 4, 5, 6, 'four'}"
      ]
     },
     "execution_count": 25,
     "metadata": {},
     "output_type": "execute_result"
    }
   ],
   "source": [
    "s1.add('four')\n",
    "s1"
   ]
  },
  {
   "cell_type": "code",
   "execution_count": 31,
   "id": "d00c24ea-f401-4902-9659-7180be735f80",
   "metadata": {},
   "outputs": [
    {
     "data": {
      "text/plain": [
       "{'four', 'one', 'three', 'two'}"
      ]
     },
     "execution_count": 31,
     "metadata": {},
     "output_type": "execute_result"
    }
   ],
   "source": [
    "s2.add('four')\n",
    "s2 # store alphabetically "
   ]
  },
  {
   "cell_type": "code",
   "execution_count": 35,
   "id": "e93aaa02-b01e-4c91-8ad9-9b717e8ae7f3",
   "metadata": {},
   "outputs": [
    {
     "data": {
      "text/plain": [
       "{'five', 'four', 'one', 'three', 'two'}"
      ]
     },
     "execution_count": 35,
     "metadata": {},
     "output_type": "execute_result"
    }
   ],
   "source": [
    "s2.add('five')\n",
    "s2"
   ]
  },
  {
   "cell_type": "code",
   "execution_count": 45,
   "id": "dc946c8d-74fd-4200-b512-c2d4b1398dfa",
   "metadata": {},
   "outputs": [
    {
     "data": {
      "text/plain": [
       "{'five', 'four', 'one', 'six', 'three', 'two'}"
      ]
     },
     "execution_count": 45,
     "metadata": {},
     "output_type": "execute_result"
    }
   ],
   "source": [
    "s2.add('six')\n",
    "s2"
   ]
  },
  {
   "cell_type": "code",
   "execution_count": 47,
   "id": "e35cb36e-52a8-4983-b2d4-0e7958f278a2",
   "metadata": {},
   "outputs": [
    {
     "data": {
      "text/plain": [
       "{'five', 'four', 'one', 'three', 'two'}"
      ]
     },
     "execution_count": 47,
     "metadata": {},
     "output_type": "execute_result"
    }
   ],
   "source": [
    "s2.remove('six')\n",
    "s2"
   ]
  },
  {
   "cell_type": "code",
   "execution_count": 49,
   "id": "6aca604b-8a54-4408-a24e-5d5af937cc27",
   "metadata": {},
   "outputs": [
    {
     "ename": "KeyError",
     "evalue": "'six'",
     "output_type": "error",
     "traceback": [
      "\u001b[0;31m---------------------------------------------------------------------------\u001b[0m",
      "\u001b[0;31mKeyError\u001b[0m                                  Traceback (most recent call last)",
      "Cell \u001b[0;32mIn[49], line 1\u001b[0m\n\u001b[0;32m----> 1\u001b[0m s2\u001b[38;5;241m.\u001b[39mremove(\u001b[38;5;124m'\u001b[39m\u001b[38;5;124msix\u001b[39m\u001b[38;5;124m'\u001b[39m)\n\u001b[1;32m      2\u001b[0m s2\n",
      "\u001b[0;31mKeyError\u001b[0m: 'six'"
     ]
    }
   ],
   "source": [
    "s2.remove('six')\n",
    "s2"
   ]
  },
  {
   "cell_type": "code",
   "execution_count": 51,
   "id": "5d9f84da-a19f-416a-8713-3e3ab59ef810",
   "metadata": {},
   "outputs": [
    {
     "data": {
      "text/plain": [
       "{'five', 'four', 'one', 'three', 'two'}"
      ]
     },
     "execution_count": 51,
     "metadata": {},
     "output_type": "execute_result"
    }
   ],
   "source": [
    "s2.discard('six')\n",
    "s2"
   ]
  },
  {
   "cell_type": "code",
   "execution_count": 53,
   "id": "39e83260-12c9-4496-b51d-c9e2534f0392",
   "metadata": {},
   "outputs": [
    {
     "data": {
      "text/plain": [
       "'three'"
      ]
     },
     "execution_count": 53,
     "metadata": {},
     "output_type": "execute_result"
    }
   ],
   "source": [
    "s2.pop()"
   ]
  },
  {
   "cell_type": "code",
   "execution_count": 55,
   "id": "2760c699-02c3-4343-9d1e-ab5fd94ad755",
   "metadata": {},
   "outputs": [
    {
     "data": {
      "text/plain": [
       "{'five', 'four', 'one', 'two'}"
      ]
     },
     "execution_count": 55,
     "metadata": {},
     "output_type": "execute_result"
    }
   ],
   "source": [
    "s2"
   ]
  },
  {
   "cell_type": "code",
   "execution_count": 71,
   "id": "2ad9ddd5-2dbf-465c-83a2-b480fccea4aa",
   "metadata": {},
   "outputs": [],
   "source": [
    "s1.remove('four')"
   ]
  },
  {
   "cell_type": "code",
   "execution_count": 73,
   "id": "4b8f96e2-f240-4352-b8cc-6689b0625e43",
   "metadata": {},
   "outputs": [
    {
     "data": {
      "text/plain": [
       "{1, 2, 3, 4, 5, 6}"
      ]
     },
     "execution_count": 73,
     "metadata": {},
     "output_type": "execute_result"
    }
   ],
   "source": [
    "s1\n"
   ]
  },
  {
   "cell_type": "code",
   "execution_count": 75,
   "id": "7fd305df-d929-4e09-ad0f-bbd6ad73676c",
   "metadata": {},
   "outputs": [
    {
     "data": {
      "text/plain": [
       "2"
      ]
     },
     "execution_count": 75,
     "metadata": {},
     "output_type": "execute_result"
    }
   ],
   "source": [
    "s1.pop()"
   ]
  },
  {
   "cell_type": "code",
   "execution_count": 79,
   "id": "fe6e2c62-90ae-463d-aa99-e36b40af481b",
   "metadata": {},
   "outputs": [
    {
     "data": {
      "text/plain": [
       "{1, 2, 3, 4, 5, 6}"
      ]
     },
     "execution_count": 79,
     "metadata": {},
     "output_type": "execute_result"
    }
   ],
   "source": [
    "s1.add(2)\n",
    "s1"
   ]
  },
  {
   "cell_type": "code",
   "execution_count": 81,
   "id": "21e63cce-83be-4dcf-b176-72507a498f15",
   "metadata": {},
   "outputs": [
    {
     "data": {
      "text/plain": [
       "{False, 1, 2, 3, 4, 5, 6}"
      ]
     },
     "execution_count": 81,
     "metadata": {},
     "output_type": "execute_result"
    }
   ],
   "source": [
    "s5=s1.union(s3)\n",
    "s5"
   ]
  },
  {
   "cell_type": "code",
   "execution_count": 85,
   "id": "8a6df5f5-e390-448b-9ac2-62d947abae91",
   "metadata": {},
   "outputs": [
    {
     "data": {
      "text/plain": [
       "{0, 1, 2, 3, 4, 5, 6}"
      ]
     },
     "execution_count": 85,
     "metadata": {},
     "output_type": "execute_result"
    }
   ],
   "source": [
    "s1.add(0)\n",
    "s1"
   ]
  },
  {
   "cell_type": "code",
   "execution_count": 87,
   "id": "e45a026b-f84d-4413-b08a-b18f2e13aae1",
   "metadata": {},
   "outputs": [
    {
     "data": {
      "text/plain": [
       "{0, 1, 2, 3, 4, 5, 6}"
      ]
     },
     "execution_count": 87,
     "metadata": {},
     "output_type": "execute_result"
    }
   ],
   "source": [
    "s6=s1.union(s3)\n",
    "s6"
   ]
  },
  {
   "cell_type": "code",
   "execution_count": 91,
   "id": "621f5a7f-bf39-421f-809e-e895fd83f4ab",
   "metadata": {},
   "outputs": [
    {
     "data": {
      "text/plain": [
       "{0, 1, 1.1, 2, 2.2, 3, 3.3, 4, 4.4, 5, 5.5, 6}"
      ]
     },
     "execution_count": 91,
     "metadata": {},
     "output_type": "execute_result"
    }
   ],
   "source": [
    "s6.update(s4)\n",
    "s6"
   ]
  },
  {
   "cell_type": "code",
   "execution_count": 97,
   "id": "77706ac3-0e13-4344-ba08-3f5a888067bc",
   "metadata": {},
   "outputs": [
    {
     "data": {
      "text/plain": [
       "{0, 1, 2, 3, 4, 5, 6}"
      ]
     },
     "execution_count": 97,
     "metadata": {},
     "output_type": "execute_result"
    }
   ],
   "source": [
    "s6.difference(s4)"
   ]
  },
  {
   "cell_type": "code",
   "execution_count": 99,
   "id": "a6852927-3428-4e01-b7c0-9ae2d60f76c7",
   "metadata": {},
   "outputs": [
    {
     "data": {
      "text/plain": [
       "{0, 1, 1.1, 2, 2.2, 3, 3.3, 4, 4.4, 5, 5.5, 6}"
      ]
     },
     "execution_count": 99,
     "metadata": {},
     "output_type": "execute_result"
    }
   ],
   "source": [
    "s6"
   ]
  },
  {
   "cell_type": "code",
   "execution_count": 101,
   "id": "82b36579-5cc9-4243-9b4f-c885cf15597b",
   "metadata": {},
   "outputs": [
    {
     "data": {
      "text/plain": [
       "{1.1, 2.2, 3.3, 4.4, 5.5}"
      ]
     },
     "execution_count": 101,
     "metadata": {},
     "output_type": "execute_result"
    }
   ],
   "source": [
    "s6.intersection(s4)"
   ]
  },
  {
   "cell_type": "code",
   "execution_count": 103,
   "id": "b085c092-4658-46c1-b4a4-5c95b344c8eb",
   "metadata": {},
   "outputs": [],
   "source": [
    "s6.clear()"
   ]
  },
  {
   "cell_type": "code",
   "execution_count": 105,
   "id": "8f572879-9229-4d07-bdfd-0c06d2041be4",
   "metadata": {},
   "outputs": [
    {
     "data": {
      "text/plain": [
       "set()"
      ]
     },
     "execution_count": 105,
     "metadata": {},
     "output_type": "execute_result"
    }
   ],
   "source": [
    "s6\n"
   ]
  },
  {
   "cell_type": "code",
   "execution_count": 107,
   "id": "592ad697-1743-4eba-bf3f-be147467ff82",
   "metadata": {},
   "outputs": [],
   "source": [
    "del s6"
   ]
  },
  {
   "cell_type": "code",
   "execution_count": 109,
   "id": "f222ab81-a44c-44f6-a942-33743bf2dd7b",
   "metadata": {},
   "outputs": [
    {
     "ename": "NameError",
     "evalue": "name 's6' is not defined",
     "output_type": "error",
     "traceback": [
      "\u001b[0;31m---------------------------------------------------------------------------\u001b[0m",
      "\u001b[0;31mNameError\u001b[0m                                 Traceback (most recent call last)",
      "Cell \u001b[0;32mIn[109], line 1\u001b[0m\n\u001b[0;32m----> 1\u001b[0m s6\n",
      "\u001b[0;31mNameError\u001b[0m: name 's6' is not defined"
     ]
    }
   ],
   "source": [
    "s6\n"
   ]
  },
  {
   "cell_type": "code",
   "execution_count": 111,
   "id": "121459c9-e9ff-4c66-a466-04998eddc115",
   "metadata": {},
   "outputs": [
    {
     "data": {
      "text/plain": [
       "{1, 2, 3, 4, 5, 6, 7, 8}"
      ]
     },
     "execution_count": 111,
     "metadata": {},
     "output_type": "execute_result"
    }
   ],
   "source": [
    "s={1,1,2,3,4,7,5,6,8}\n",
    "s"
   ]
  },
  {
   "cell_type": "code",
   "execution_count": 113,
   "id": "bd0170bf-8d51-4fa7-87ad-43338a0146f6",
   "metadata": {},
   "outputs": [
    {
     "data": {
      "text/plain": [
       "1"
      ]
     },
     "execution_count": 113,
     "metadata": {},
     "output_type": "execute_result"
    }
   ],
   "source": [
    "s.pop()"
   ]
  },
  {
   "cell_type": "code",
   "execution_count": 123,
   "id": "eccac973-b24b-44b8-a259-81bb6dbb7774",
   "metadata": {},
   "outputs": [
    {
     "data": {
      "text/plain": [
       "{2, 3, 4, 5, 6, 7, 8}"
      ]
     },
     "execution_count": 123,
     "metadata": {},
     "output_type": "execute_result"
    }
   ],
   "source": [
    "s"
   ]
  },
  {
   "cell_type": "code",
   "execution_count": 130,
   "id": "106d0aa4-8d7a-41fd-8e1a-a72b8c59fb73",
   "metadata": {},
   "outputs": [
    {
     "data": {
      "text/plain": [
       "2"
      ]
     },
     "execution_count": 130,
     "metadata": {},
     "output_type": "execute_result"
    }
   ],
   "source": [
    "s.pop()"
   ]
  },
  {
   "cell_type": "code",
   "execution_count": 134,
   "id": "bbb7951b-c72b-4f51-96d9-98ebd329ecf2",
   "metadata": {},
   "outputs": [
    {
     "data": {
      "text/plain": [
       "3"
      ]
     },
     "execution_count": 134,
     "metadata": {},
     "output_type": "execute_result"
    }
   ],
   "source": [
    "s.pop()\n"
   ]
  },
  {
   "cell_type": "code",
   "execution_count": 138,
   "id": "949dc131-09e1-43e3-9925-7afbc15d1757",
   "metadata": {},
   "outputs": [
    {
     "ename": "AttributeError",
     "evalue": "'set' object has no attribute 'count'",
     "output_type": "error",
     "traceback": [
      "\u001b[0;31m---------------------------------------------------------------------------\u001b[0m",
      "\u001b[0;31mAttributeError\u001b[0m                            Traceback (most recent call last)",
      "Cell \u001b[0;32mIn[138], line 1\u001b[0m\n\u001b[0;32m----> 1\u001b[0m s\u001b[38;5;241m.\u001b[39mcount(\u001b[38;5;241m2\u001b[39m)\n",
      "\u001b[0;31mAttributeError\u001b[0m: 'set' object has no attribute 'count'"
     ]
    }
   ],
   "source": [
    "s.count(2)"
   ]
  },
  {
   "cell_type": "code",
   "execution_count": 149,
   "id": "5c1b9405-8151-4bd0-a6fe-3bcc2bcb9f46",
   "metadata": {},
   "outputs": [
    {
     "data": {
      "text/plain": [
       "2"
      ]
     },
     "execution_count": 149,
     "metadata": {},
     "output_type": "execute_result"
    }
   ],
   "source": [
    "l=[1,2,1,3,2,4,5,6]\n",
    "t=(1,2,1,3,2,4,5,6)\n",
    "s={1,2,1,3,2,4,5,6}\n",
    "l.count(1)\n",
    "t.count(1)"
   ]
  },
  {
   "cell_type": "code",
   "execution_count": 151,
   "id": "56c6440e-1e79-4da2-9bfd-1e71f276f521",
   "metadata": {},
   "outputs": [
    {
     "ename": "AttributeError",
     "evalue": "'set' object has no attribute 'count'",
     "output_type": "error",
     "traceback": [
      "\u001b[0;31m---------------------------------------------------------------------------\u001b[0m",
      "\u001b[0;31mAttributeError\u001b[0m                            Traceback (most recent call last)",
      "Cell \u001b[0;32mIn[151], line 1\u001b[0m\n\u001b[0;32m----> 1\u001b[0m s\u001b[38;5;241m.\u001b[39mcount(\u001b[38;5;241m1\u001b[39m)\n",
      "\u001b[0;31mAttributeError\u001b[0m: 'set' object has no attribute 'count'"
     ]
    }
   ],
   "source": [
    "s.count(1)"
   ]
  },
  {
   "cell_type": "code",
   "execution_count": null,
   "id": "1ff3146f-657e-422c-b780-e5e75a72c62f",
   "metadata": {},
   "outputs": [],
   "source": []
  }
 ],
 "metadata": {
  "kernelspec": {
   "display_name": "Python 3 (ipykernel)",
   "language": "python",
   "name": "python3"
  },
  "language_info": {
   "codemirror_mode": {
    "name": "ipython",
    "version": 3
   },
   "file_extension": ".py",
   "mimetype": "text/x-python",
   "name": "python",
   "nbconvert_exporter": "python",
   "pygments_lexer": "ipython3",
   "version": "3.12.2"
  }
 },
 "nbformat": 4,
 "nbformat_minor": 5
}
