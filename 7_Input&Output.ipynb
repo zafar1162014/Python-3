{
 "cells": [
  {
   "cell_type": "markdown",
   "id": "e211a7e0-c490-427f-a2a6-c93517577b9e",
   "metadata": {},
   "source": [
    "# Input and Output"
   ]
  },
  {
   "cell_type": "code",
   "execution_count": 3,
   "id": "523b7f82-7464-4f1d-b673-7fc4dd9fb204",
   "metadata": {},
   "outputs": [
    {
     "name": "stdin",
     "output_type": "stream",
     "text": [
      "Enter a number -> 01\n"
     ]
    },
    {
     "name": "stdout",
     "output_type": "stream",
     "text": [
      "You entered -> 01\n"
     ]
    }
   ],
   "source": [
    "num=input('Enter a number ->')\n",
    "print('You entered ->',num)"
   ]
  },
  {
   "cell_type": "code",
   "execution_count": 7,
   "id": "3eeebe00-31f0-44db-959b-faacfd1e6caf",
   "metadata": {},
   "outputs": [
    {
     "name": "stdin",
     "output_type": "stream",
     "text": [
      "Enter a number -> 2\n"
     ]
    },
    {
     "name": "stdout",
     "output_type": "stream",
     "text": [
      "You entered -> <class 'str'>\n"
     ]
    }
   ],
   "source": [
    "num=input('Enter a number ->')\n",
    "print('You entered ->',type(num))"
   ]
  },
  {
   "cell_type": "code",
   "execution_count": 11,
   "id": "73810f7f-1bc8-47fa-97d8-09d8d8983150",
   "metadata": {},
   "outputs": [
    {
     "name": "stdin",
     "output_type": "stream",
     "text": [
      "Enter a number -> 3\n"
     ]
    },
    {
     "name": "stdout",
     "output_type": "stream",
     "text": [
      "You entered -> <class 'int'>\n"
     ]
    }
   ],
   "source": [
    "num=int(input('Enter a number ->'))\n",
    "print('You entered ->',type(num))"
   ]
  },
  {
   "cell_type": "code",
   "execution_count": 15,
   "id": "30dfc7ad-2e4f-4c71-a594-d7cc9bebcff1",
   "metadata": {},
   "outputs": [
    {
     "name": "stdout",
     "output_type": "stream",
     "text": [
      "Muhammad Zafar Ul Haq\n"
     ]
    }
   ],
   "source": [
    "print('Muhammad',end=' ')\n",
    "print('Zafar',end=' ')\n",
    "print('Ul',end=' ')\n",
    "print('Haq')"
   ]
  },
  {
   "cell_type": "code",
   "execution_count": 17,
   "id": "2fb848e5-6d38-4faa-b97e-f818d0760bc4",
   "metadata": {},
   "outputs": [
    {
     "name": "stdout",
     "output_type": "stream",
     "text": [
      "Muhammad Zafar Ul Haq\n"
     ]
    }
   ],
   "source": [
    "print('Muhammad','Zafar','Ul','Haq' ,sep=' ')"
   ]
  },
  {
   "cell_type": "code",
   "execution_count": 19,
   "id": "18c251b9-c728-40fa-942a-50e122a33a6c",
   "metadata": {},
   "outputs": [
    {
     "name": "stdout",
     "output_type": "stream",
     "text": [
      "ZafarUL Haq\n"
     ]
    }
   ],
   "source": [
    "print('Zafar' + 'UL Haq')"
   ]
  },
  {
   "cell_type": "code",
   "execution_count": 21,
   "id": "bbe05b42-0b39-4091-88f2-42c852e19510",
   "metadata": {},
   "outputs": [
    {
     "name": "stdout",
     "output_type": "stream",
     "text": [
      "Zafar UL Haq\n"
     ]
    }
   ],
   "source": [
    "print('Zafar' + ' ' +'UL Haq')\n"
   ]
  },
  {
   "cell_type": "code",
   "execution_count": null,
   "id": "73744a0b-3c6a-4cf9-9202-aa25ea57fa10",
   "metadata": {},
   "outputs": [],
   "source": [
    "num=5\n",
    "num=8\n",
    "print('The value of num"
   ]
  }
 ],
 "metadata": {
  "kernelspec": {
   "display_name": "Python 3 (ipykernel)",
   "language": "python",
   "name": "python3"
  },
  "language_info": {
   "codemirror_mode": {
    "name": "ipython",
    "version": 3
   },
   "file_extension": ".py",
   "mimetype": "text/x-python",
   "name": "python",
   "nbconvert_exporter": "python",
   "pygments_lexer": "ipython3",
   "version": "3.12.2"
  }
 },
 "nbformat": 4,
 "nbformat_minor": 5
}
