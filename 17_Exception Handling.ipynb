{
 "cells": [
  {
   "cell_type": "markdown",
   "id": "c3815c51-eac2-4e6d-a381-d9880c34def8",
   "metadata": {},
   "source": [
    "# Exception Handling"
   ]
  },
  {
   "cell_type": "code",
   "execution_count": 3,
   "id": "d77d77b1-25d6-4e98-9561-f43253cb7c46",
   "metadata": {},
   "outputs": [
    {
     "name": "stdout",
     "output_type": "stream",
     "text": [
      "Indexerror\n"
     ]
    }
   ],
   "source": [
    "try:\n",
    " listt = [1,2,3,4,5]\n",
    " print(listt[99])\n",
    "except IndexError:\n",
    "    print(\"Indexerror\")"
   ]
  },
  {
   "cell_type": "code",
   "execution_count": 5,
   "id": "2b3a5ca4-8808-4d81-b0e2-5870c6d1d439",
   "metadata": {},
   "outputs": [
    {
     "ename": "IndexError",
     "evalue": "list index out of range",
     "output_type": "error",
     "traceback": [
      "\u001b[0;31m---------------------------------------------------------------------------\u001b[0m",
      "\u001b[0;31mIndexError\u001b[0m                                Traceback (most recent call last)",
      "Cell \u001b[0;32mIn[5], line 2\u001b[0m\n\u001b[1;32m      1\u001b[0m listt \u001b[38;5;241m=\u001b[39m [\u001b[38;5;241m1\u001b[39m,\u001b[38;5;241m2\u001b[39m,\u001b[38;5;241m3\u001b[39m,\u001b[38;5;241m4\u001b[39m,\u001b[38;5;241m5\u001b[39m]\n\u001b[0;32m----> 2\u001b[0m \u001b[38;5;28mprint\u001b[39m(listt[\u001b[38;5;241m99\u001b[39m])\n",
      "\u001b[0;31mIndexError\u001b[0m: list index out of range"
     ]
    }
   ],
   "source": [
    "listt = [1,2,3,4,5]\n",
    "print(listt[99])"
   ]
  },
  {
   "cell_type": "code",
   "execution_count": 7,
   "id": "9635d300-dcf8-4277-8f13-99a4389b7eab",
   "metadata": {},
   "outputs": [
    {
     "name": "stdout",
     "output_type": "stream",
     "text": [
      "NameError\n"
     ]
    }
   ],
   "source": [
    "def func(x):\n",
    "   print(a)\n",
    "     \n",
    "try:\n",
    "    func(5)\n",
    "except ZeroDivisionError:\n",
    "    print(\"ZeroDivisionError\")\n",
    "except NameError:\n",
    "    print(\"NameError\")"
   ]
  },
  {
   "cell_type": "code",
   "execution_count": 9,
   "id": "dba0d088-101b-4313-af79-276674b6a857",
   "metadata": {},
   "outputs": [
    {
     "name": "stdout",
     "output_type": "stream",
     "text": [
      "Indexerror\n",
      "Executing rest of the code\n",
      "Executing rest of the code\n",
      "Executing rest of the code\n",
      "Executing rest of the code\n",
      "Executing rest of the code\n",
      "Executing rest of the code\n"
     ]
    }
   ],
   "source": [
    "try:\n",
    " listt = [1,2,3,4,5]\n",
    " print(listt[99])\n",
    "except IndexError:\n",
    "    print(\"Indexerror\")\n",
    "finally:\n",
    "    print(\"Executing rest of the code\")\n",
    "    print(\"Executing rest of the code\")\n",
    "    print(\"Executing rest of the code\")\n",
    "    print(\"Executing rest of the code\")\n",
    "    print(\"Executing rest of the code\")\n",
    "    print(\"Executing rest of the code\")\n",
    "    "
   ]
  },
  {
   "cell_type": "code",
   "execution_count": 18,
   "id": "b3c33543-4773-4dd3-b492-4a5da34ca4d7",
   "metadata": {},
   "outputs": [
    {
     "name": "stdout",
     "output_type": "stream",
     "text": [
      "done\n"
     ]
    }
   ],
   "source": [
    "''' try:\n",
    "if any code have possible error write in this portion \n",
    "and run check the error name and copy \n",
    "except write_copy_error_above:\n",
    "and print the error\n",
    "finall:\n",
    "executing rest of the code\n",
    "'''\n",
    "print('done')"
   ]
  },
  {
   "cell_type": "code",
   "execution_count": 26,
   "id": "d5a1c80a-a580-4ba5-97ec-84796e12735d",
   "metadata": {},
   "outputs": [
    {
     "name": "stdin",
     "output_type": "stream",
     "text": [
      "Enter your Marks :  20\n"
     ]
    },
    {
     "name": "stdout",
     "output_type": "stream",
     "text": [
      "Fail\n"
     ]
    }
   ],
   "source": [
    "class CustomException(Exception):\n",
    "    pass\n",
    "\n",
    "threshold=40\n",
    "\n",
    "try:\n",
    "    mark=int(input(\"Enter your Marks : \"))\n",
    "    if mark<threshold:\n",
    "        raise CustomException\n",
    "    else :\n",
    "       print('pass')\n",
    "except CustomException:\n",
    "   print(\"Fail\")"
   ]
  },
  {
   "cell_type": "code",
   "execution_count": null,
   "id": "ae477cb3-1b20-4add-bf07-892f8b7e9cf5",
   "metadata": {},
   "outputs": [],
   "source": []
  }
 ],
 "metadata": {
  "kernelspec": {
   "display_name": "Python 3 (ipykernel)",
   "language": "python",
   "name": "python3"
  },
  "language_info": {
   "codemirror_mode": {
    "name": "ipython",
    "version": 3
   },
   "file_extension": ".py",
   "mimetype": "text/x-python",
   "name": "python",
   "nbconvert_exporter": "python",
   "pygments_lexer": "ipython3",
   "version": "3.12.2"
  }
 },
 "nbformat": 4,
 "nbformat_minor": 5
}
