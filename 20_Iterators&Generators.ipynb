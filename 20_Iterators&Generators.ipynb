{
 "cells": [
  {
   "cell_type": "markdown",
   "id": "76786b43-d58d-4af0-abca-fc854a1472d0",
   "metadata": {},
   "source": [
    "# Iterators and Generators"
   ]
  },
  {
   "cell_type": "code",
   "execution_count": 3,
   "id": "589008dd-3765-416b-aa41-ad805e883301",
   "metadata": {},
   "outputs": [
    {
     "name": "stdout",
     "output_type": "stream",
     "text": [
      "['__add__', '__class__', '__class_getitem__', '__contains__', '__delattr__', '__delitem__', '__dir__', '__doc__', '__eq__', '__format__', '__ge__', '__getattribute__', '__getitem__', '__getstate__', '__gt__', '__hash__', '__iadd__', '__imul__', '__init__', '__init_subclass__', '__iter__', '__le__', '__len__', '__lt__', '__mul__', '__ne__', '__new__', '__reduce__', '__reduce_ex__', '__repr__', '__reversed__', '__rmul__', '__setattr__', '__setitem__', '__sizeof__', '__str__', '__subclasshook__', 'append', 'clear', 'copy', 'count', 'extend', 'index', 'insert', 'pop', 'remove', 'reverse', 'sort']\n"
     ]
    }
   ],
   "source": [
    "listt = [1,2,3,4,5]\n",
    "print(dir(listt))"
   ]
  },
  {
   "cell_type": "code",
   "execution_count": 4,
   "id": "1312c4e7-9f98-4d4c-9f75-9f829bcee243",
   "metadata": {},
   "outputs": [
    {
     "name": "stdout",
     "output_type": "stream",
     "text": [
      "<list_iterator object at 0x13c8f5090>\n"
     ]
    }
   ],
   "source": [
    "print(listt.__iter__())"
   ]
  },
  {
   "cell_type": "code",
   "execution_count": 5,
   "id": "efd7ba2a-dd92-40bd-93a9-7cd0152f3e35",
   "metadata": {},
   "outputs": [
    {
     "name": "stdout",
     "output_type": "stream",
     "text": [
      "<list_iterator object at 0x13c8f54b0>\n"
     ]
    }
   ],
   "source": [
    "print(iter(listt))"
   ]
  },
  {
   "cell_type": "code",
   "execution_count": 6,
   "id": "838ebe35-62f3-4290-80a7-92f0c1c89f2b",
   "metadata": {},
   "outputs": [
    {
     "name": "stdout",
     "output_type": "stream",
     "text": [
      "1\n",
      "2\n"
     ]
    }
   ],
   "source": [
    "listt = [1,2,3,4,5]\n",
    "\n",
    "ite = iter(listt)\n",
    "\n",
    "print(next(ite)) \n",
    "print(next(ite))"
   ]
  },
  {
   "cell_type": "code",
   "execution_count": 7,
   "id": "3d063629-944b-4b33-88e6-653fee5372f8",
   "metadata": {},
   "outputs": [
    {
     "name": "stdout",
     "output_type": "stream",
     "text": [
      "1\n",
      "2\n",
      "3\n",
      "4\n",
      "5\n"
     ]
    }
   ],
   "source": [
    "for i in listt:\n",
    "    print(i)"
   ]
  },
  {
   "cell_type": "code",
   "execution_count": 8,
   "id": "c59eb590-8ee4-429d-99e8-8d4de58a7942",
   "metadata": {},
   "outputs": [
    {
     "name": "stdout",
     "output_type": "stream",
     "text": [
      "3\n",
      "4\n",
      "5\n"
     ]
    }
   ],
   "source": [
    "for i in ite:\n",
    "    print(i)"
   ]
  },
  {
   "cell_type": "code",
   "execution_count": 9,
   "id": "38561f63-88c3-4b10-92e3-78e116e09165",
   "metadata": {},
   "outputs": [
    {
     "name": "stdout",
     "output_type": "stream",
     "text": [
      "4\n",
      "8\n",
      "12\n"
     ]
    }
   ],
   "source": [
    "class iterator:\n",
    "    def __init__(self,val):\n",
    "        self.val = val\n",
    "\n",
    "    def __iter__(self):\n",
    "        self.num = 1\n",
    "        return self\n",
    "\n",
    "    def __next__(self):\n",
    "        if self.num <= self.val:\n",
    "            final = self.num * self.val\n",
    "            self.num += 1\n",
    "            return final\n",
    "        else:\n",
    "            raise StopIteration\n",
    "\n",
    "obj = iterator(4)\n",
    "itr = iter(obj)\n",
    "\n",
    "print(next(itr))\n",
    "print(next(itr)) \n",
    "print(next(itr)) "
   ]
  },
  {
   "cell_type": "code",
   "execution_count": 10,
   "id": "531d2236-060c-4aa8-89e9-77c8b30cb7c2",
   "metadata": {},
   "outputs": [
    {
     "name": "stdout",
     "output_type": "stream",
     "text": [
      "<generator object generator0 at 0x13c88d840>\n",
      "G0 5\n",
      "G0 10\n",
      "G0 15\n",
      "G0 20\n"
     ]
    }
   ],
   "source": [
    "def generator0():\n",
    "    n=0\n",
    "    \n",
    "    n = n+5\n",
    "    yield n\n",
    "    n = n+5\n",
    "    \n",
    "    yield n\n",
    "    n = n+5\n",
    "\n",
    "    yield n\n",
    "    n = n+5\n",
    "    \n",
    "    yield n\n",
    "\n",
    "obj = generator0()\n",
    "print(obj)\n",
    "print(\"G0\",next(obj))\n",
    "print(\"G0\",next(obj))\n",
    "print(\"G0\",next(obj))\n",
    "print(\"G0\",next(obj))"
   ]
  },
  {
   "cell_type": "code",
   "execution_count": 11,
   "id": "f8710fd7-0e85-46ef-a342-b3484fe926b9",
   "metadata": {},
   "outputs": [],
   "source": [
    "def generator1(n):\n",
    "    x = 5\n",
    "    while x < n:\n",
    "        yield x\n",
    "        x = x + 5"
   ]
  },
  {
   "cell_type": "code",
   "execution_count": 12,
   "id": "8ac61ae9-1d40-4ba6-8a2b-923bfdef210a",
   "metadata": {},
   "outputs": [
    {
     "name": "stdout",
     "output_type": "stream",
     "text": [
      "5\n",
      "10\n",
      "15\n",
      "20\n",
      "25\n",
      "30\n",
      "35\n",
      "40\n",
      "45\n",
      "50\n",
      "55\n",
      "60\n",
      "65\n",
      "70\n",
      "75\n",
      "80\n",
      "85\n",
      "90\n",
      "95\n"
     ]
    }
   ],
   "source": [
    "for i in generator1(100):\n",
    "    print(i)"
   ]
  },
  {
   "cell_type": "code",
   "execution_count": 13,
   "id": "4c1d9d4c-d930-4638-b839-5966ad92b4b3",
   "metadata": {},
   "outputs": [
    {
     "name": "stdout",
     "output_type": "stream",
     "text": [
      "0\n",
      "1\n",
      "2\n",
      "3\n",
      "4\n"
     ]
    }
   ],
   "source": [
    "def counter():\n",
    "    for i in range(5):\n",
    "        yield i\n",
    "\n",
    "gen = counter()\n",
    "\n",
    "for val in gen:\n",
    "    print(val)\n"
   ]
  },
  {
   "cell_type": "code",
   "execution_count": null,
   "id": "d86c67e1-4f01-479e-856d-3b7ae05c0454",
   "metadata": {},
   "outputs": [],
   "source": []
  }
 ],
 "metadata": {
  "kernelspec": {
   "display_name": "Python 3 (ipykernel)",
   "language": "python",
   "name": "python3"
  },
  "language_info": {
   "codemirror_mode": {
    "name": "ipython",
    "version": 3
   },
   "file_extension": ".py",
   "mimetype": "text/x-python",
   "name": "python",
   "nbconvert_exporter": "python",
   "pygments_lexer": "ipython3",
   "version": "3.12.2"
  }
 },
 "nbformat": 4,
 "nbformat_minor": 5
}
