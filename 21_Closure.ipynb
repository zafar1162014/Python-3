{
 "cells": [
  {
   "cell_type": "markdown",
   "id": "079cae0e-0a98-43cc-a8ce-8cb7d48e29d1",
   "metadata": {},
   "source": [
    "# Closure"
   ]
  },
  {
   "cell_type": "code",
   "execution_count": 3,
   "id": "ef2e52ab-e62e-423e-b222-6ade21ce2b30",
   "metadata": {},
   "outputs": [],
   "source": [
    "def abc(x):\n",
    "    def xyz():\n",
    "        print(x)\n",
    "\n",
    "abc(5)"
   ]
  },
  {
   "cell_type": "code",
   "execution_count": 5,
   "id": "9f7acf68-1649-4f22-821b-df82cd0ca370",
   "metadata": {},
   "outputs": [
    {
     "name": "stdout",
     "output_type": "stream",
     "text": [
      "5\n"
     ]
    }
   ],
   "source": [
    "def abc(x):\n",
    "    def xyz():\n",
    "        print(x)\n",
    "    xyz()\n",
    "\n",
    "abc(5)"
   ]
  },
  {
   "cell_type": "code",
   "execution_count": 7,
   "id": "f83032ec-0c80-4d92-8bbc-d74e0342da22",
   "metadata": {},
   "outputs": [
    {
     "name": "stdout",
     "output_type": "stream",
     "text": [
      "5\n"
     ]
    }
   ],
   "source": [
    "def abc(x):\n",
    "    def xyz():\n",
    "        print(x)\n",
    "    return xyz\n",
    "\n",
    "x = abc(5)\n",
    "x()"
   ]
  },
  {
   "cell_type": "code",
   "execution_count": 9,
   "id": "b9b4368b-ca6a-47ab-9a14-2c6903d13e7e",
   "metadata": {},
   "outputs": [
    {
     "name": "stdout",
     "output_type": "stream",
     "text": [
      "5\n"
     ]
    }
   ],
   "source": [
    "def abc1(x):\n",
    "\n",
    "    return lambda: x\n",
    "\n",
    "num = abc1(5)\n",
    "print(num())"
   ]
  },
  {
   "cell_type": "code",
   "execution_count": 12,
   "id": "63e98436-c861-4db8-92c9-a15e98a7beaa",
   "metadata": {},
   "outputs": [],
   "source": [
    "def make_multiplier_of(n):\n",
    "    def multiplier(x):\n",
    "        return x * n\n",
    "    return multiplier"
   ]
  },
  {
   "cell_type": "code",
   "execution_count": 14,
   "id": "e3575d2d-ac59-4cc2-a96b-9d85d0cb6ec3",
   "metadata": {},
   "outputs": [
    {
     "name": "stdout",
     "output_type": "stream",
     "text": [
      "27\n",
      "15\n"
     ]
    }
   ],
   "source": [
    "times3 = make_multiplier_of(3)\n",
    "times5 = make_multiplier_of(5)\n",
    "\n",
    "print(times3(9))\n",
    "print(times5(3))"
   ]
  },
  {
   "cell_type": "code",
   "execution_count": null,
   "id": "84fd4dde-a188-44d0-bef7-3e126e83d3a0",
   "metadata": {},
   "outputs": [],
   "source": []
  }
 ],
 "metadata": {
  "kernelspec": {
   "display_name": "Python 3 (ipykernel)",
   "language": "python",
   "name": "python3"
  },
  "language_info": {
   "codemirror_mode": {
    "name": "ipython",
    "version": 3
   },
   "file_extension": ".py",
   "mimetype": "text/x-python",
   "name": "python",
   "nbconvert_exporter": "python",
   "pygments_lexer": "ipython3",
   "version": "3.12.2"
  }
 },
 "nbformat": 4,
 "nbformat_minor": 5
}
