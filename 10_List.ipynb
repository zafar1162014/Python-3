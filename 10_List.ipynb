{
 "cells": [
  {
   "cell_type": "markdown",
   "id": "12a959e9-efee-4a05-88c1-1c9ec1366229",
   "metadata": {},
   "source": [
    "# List"
   ]
  },
  {
   "cell_type": "code",
   "execution_count": 3,
   "id": "db0883be-7e60-432a-b947-70610be12891",
   "metadata": {},
   "outputs": [],
   "source": [
    "l1=[1,2,3,4,5]\n",
    "l2=[1.1,2.2,3.3,4.4,5.5]\n",
    "l3=['One','Two','Three','Four','Five']\n",
    "l4=[True,False]\n"
   ]
  },
  {
   "cell_type": "code",
   "execution_count": 4,
   "id": "e54d5645-854c-45b6-b2d2-a83a865c85ad",
   "metadata": {},
   "outputs": [
    {
     "name": "stdout",
     "output_type": "stream",
     "text": [
      "<class 'list'>\n",
      "<class 'list'>\n",
      "<class 'list'>\n",
      "<class 'list'>\n"
     ]
    }
   ],
   "source": [
    "print(type(l1))\n",
    "print(type(l2))\n",
    "print(type(l3))\n",
    "print(type(l4))"
   ]
  },
  {
   "cell_type": "code",
   "execution_count": 5,
   "id": "ba617150-7568-4d47-a2e6-2a5ef7a53a46",
   "metadata": {},
   "outputs": [
    {
     "name": "stdout",
     "output_type": "stream",
     "text": [
      "1 2 3 4 5 "
     ]
    }
   ],
   "source": [
    "for i in l1:\n",
    "    print(i, end=' ')"
   ]
  },
  {
   "cell_type": "code",
   "execution_count": 6,
   "id": "a748eeae-36ef-4dad-be13-55dcb54f489e",
   "metadata": {},
   "outputs": [
    {
     "name": "stdout",
     "output_type": "stream",
     "text": [
      "1.1 2.2 3.3 4.4 5.5 "
     ]
    }
   ],
   "source": [
    "for i in l2:\n",
    "    print(i, end=' ')"
   ]
  },
  {
   "cell_type": "code",
   "execution_count": 7,
   "id": "683e027c-6b82-4e1e-9250-5dcac89e6310",
   "metadata": {},
   "outputs": [
    {
     "name": "stdout",
     "output_type": "stream",
     "text": [
      "One Two Three Four Five "
     ]
    }
   ],
   "source": [
    "for i in l3:\n",
    "    print(i, end=' ')"
   ]
  },
  {
   "cell_type": "code",
   "execution_count": 8,
   "id": "106c5173-8d88-4b72-b9f2-a741bc022071",
   "metadata": {},
   "outputs": [
    {
     "name": "stdout",
     "output_type": "stream",
     "text": [
      "True False "
     ]
    }
   ],
   "source": [
    "for i in l4:\n",
    "    print(i, end=' ')"
   ]
  },
  {
   "cell_type": "code",
   "execution_count": 9,
   "id": "13158df7-c249-4398-90cf-e0fda316d10e",
   "metadata": {},
   "outputs": [
    {
     "ename": "IndexError",
     "evalue": "list index out of range",
     "output_type": "error",
     "traceback": [
      "\u001b[0;31m---------------------------------------------------------------------------\u001b[0m",
      "\u001b[0;31mIndexError\u001b[0m                                Traceback (most recent call last)",
      "Cell \u001b[0;32mIn[9], line 1\u001b[0m\n\u001b[0;32m----> 1\u001b[0m \u001b[38;5;28mprint\u001b[39m(l4[\u001b[38;5;241m2\u001b[39m])\n",
      "\u001b[0;31mIndexError\u001b[0m: list index out of range"
     ]
    }
   ],
   "source": [
    "print(l4[2])"
   ]
  },
  {
   "cell_type": "code",
   "execution_count": 15,
   "id": "b1801ceb-1e36-4c05-9f46-d2b0292e56cc",
   "metadata": {},
   "outputs": [
    {
     "name": "stdout",
     "output_type": "stream",
     "text": [
      "5\n",
      "4\n",
      "3\n",
      "2\n",
      "1\n"
     ]
    }
   ],
   "source": [
    "for i in range(-1,-6,-1):\n",
    "    print(l1[i])"
   ]
  },
  {
   "cell_type": "code",
   "execution_count": 17,
   "id": "9b290e10-b34a-4e50-8cdc-96855ebb08e7",
   "metadata": {},
   "outputs": [],
   "source": [
    "l1[4]=6"
   ]
  },
  {
   "cell_type": "code",
   "execution_count": 19,
   "id": "16150689-dfb5-428f-878a-6f0143c4b83d",
   "metadata": {},
   "outputs": [
    {
     "name": "stdout",
     "output_type": "stream",
     "text": [
      "[1, 2, 3, 4, 6]\n"
     ]
    }
   ],
   "source": [
    "print(l1)"
   ]
  },
  {
   "cell_type": "code",
   "execution_count": 21,
   "id": "8943d370-4872-4381-8435-71a06adf64b2",
   "metadata": {},
   "outputs": [],
   "source": [
    "l1.append(7)"
   ]
  },
  {
   "cell_type": "code",
   "execution_count": 23,
   "id": "f1ab5769-902e-415a-9813-fd333637e292",
   "metadata": {},
   "outputs": [
    {
     "data": {
      "text/plain": [
       "[1, 2, 3, 4, 6, 7]"
      ]
     },
     "execution_count": 23,
     "metadata": {},
     "output_type": "execute_result"
    }
   ],
   "source": [
    "l1"
   ]
  },
  {
   "cell_type": "code",
   "execution_count": 25,
   "id": "9ebffd0a-f7a1-41af-9a04-096272a684aa",
   "metadata": {},
   "outputs": [],
   "source": [
    "l1.insert(4,5)"
   ]
  },
  {
   "cell_type": "code",
   "execution_count": 27,
   "id": "20925ea7-68ce-4d97-8638-ba7334292a95",
   "metadata": {},
   "outputs": [
    {
     "data": {
      "text/plain": [
       "[1, 2, 3, 4, 5, 6, 7]"
      ]
     },
     "execution_count": 27,
     "metadata": {},
     "output_type": "execute_result"
    }
   ],
   "source": [
    "l1"
   ]
  },
  {
   "cell_type": "code",
   "execution_count": 29,
   "id": "30ae5a0b-ac7a-4ba9-b87a-fde0aa251acb",
   "metadata": {},
   "outputs": [],
   "source": [
    "l1.remove(7)"
   ]
  },
  {
   "cell_type": "code",
   "execution_count": 31,
   "id": "402ff2e6-cdea-497a-a1ed-3d8c2586d3e5",
   "metadata": {},
   "outputs": [
    {
     "data": {
      "text/plain": [
       "[1, 2, 3, 4, 5, 6]"
      ]
     },
     "execution_count": 31,
     "metadata": {},
     "output_type": "execute_result"
    }
   ],
   "source": [
    "l1"
   ]
  },
  {
   "cell_type": "code",
   "execution_count": 33,
   "id": "3ece8605-1623-4da1-83e3-3ffb681a0164",
   "metadata": {},
   "outputs": [],
   "source": [
    "l2.extend(l1)"
   ]
  },
  {
   "cell_type": "code",
   "execution_count": 35,
   "id": "e9c3389a-dd74-4d5f-b2dc-7fc1dcc604cd",
   "metadata": {},
   "outputs": [
    {
     "data": {
      "text/plain": [
       "[1.1, 2.2, 3.3, 4.4, 5.5, 1, 2, 3, 4, 5, 6]"
      ]
     },
     "execution_count": 35,
     "metadata": {},
     "output_type": "execute_result"
    }
   ],
   "source": [
    "l2"
   ]
  },
  {
   "cell_type": "code",
   "execution_count": 37,
   "id": "37a3c762-99f6-4832-9f68-4616a75002d6",
   "metadata": {},
   "outputs": [
    {
     "data": {
      "text/plain": [
       "6"
      ]
     },
     "execution_count": 37,
     "metadata": {},
     "output_type": "execute_result"
    }
   ],
   "source": [
    "l1.pop()"
   ]
  },
  {
   "cell_type": "code",
   "execution_count": 39,
   "id": "e57bb286-f8e4-4419-8595-1fad353f490a",
   "metadata": {},
   "outputs": [
    {
     "data": {
      "text/plain": [
       "[1, 2, 3, 4, 5]"
      ]
     },
     "execution_count": 39,
     "metadata": {},
     "output_type": "execute_result"
    }
   ],
   "source": [
    "l1"
   ]
  },
  {
   "cell_type": "code",
   "execution_count": 41,
   "id": "7fc2bc25-a63c-497e-b27f-4e2d82a91423",
   "metadata": {},
   "outputs": [
    {
     "data": {
      "text/plain": [
       "3"
      ]
     },
     "execution_count": 41,
     "metadata": {},
     "output_type": "execute_result"
    }
   ],
   "source": [
    "l1.pop(2)"
   ]
  },
  {
   "cell_type": "code",
   "execution_count": 43,
   "id": "fe7a728b-c028-4aa6-9dce-89645c15c4c5",
   "metadata": {},
   "outputs": [
    {
     "data": {
      "text/plain": [
       "[1, 2, 4, 5]"
      ]
     },
     "execution_count": 43,
     "metadata": {},
     "output_type": "execute_result"
    }
   ],
   "source": [
    "l1"
   ]
  },
  {
   "cell_type": "code",
   "execution_count": 45,
   "id": "8e989fd1-74c5-4189-9c22-babb5a53c0e3",
   "metadata": {},
   "outputs": [
    {
     "data": {
      "text/plain": [
       "[5, 4, 2, 1]"
      ]
     },
     "execution_count": 45,
     "metadata": {},
     "output_type": "execute_result"
    }
   ],
   "source": [
    "l1.sort(reverse=True)\n",
    "l1"
   ]
  },
  {
   "cell_type": "code",
   "execution_count": 47,
   "id": "ac2fc759-1113-4e08-a482-d7c0ca89fad4",
   "metadata": {},
   "outputs": [],
   "source": [
    "l5=l1.copy()"
   ]
  },
  {
   "cell_type": "code",
   "execution_count": 49,
   "id": "76432db9-3da9-4c01-b6a8-c570870b4afd",
   "metadata": {},
   "outputs": [
    {
     "data": {
      "text/plain": [
       "[5, 4, 2, 1]"
      ]
     },
     "execution_count": 49,
     "metadata": {},
     "output_type": "execute_result"
    }
   ],
   "source": [
    "l5"
   ]
  },
  {
   "cell_type": "code",
   "execution_count": 51,
   "id": "94611a54-1da6-4a01-9985-9eacadd5a213",
   "metadata": {},
   "outputs": [],
   "source": [
    "l1.clear()"
   ]
  },
  {
   "cell_type": "code",
   "execution_count": 53,
   "id": "7f527538-a224-463a-9449-5cf25b4c5647",
   "metadata": {},
   "outputs": [
    {
     "data": {
      "text/plain": [
       "[]"
      ]
     },
     "execution_count": 53,
     "metadata": {},
     "output_type": "execute_result"
    }
   ],
   "source": [
    "l1\n"
   ]
  },
  {
   "cell_type": "code",
   "execution_count": 55,
   "id": "2db6cd8e-9547-4fdc-9a00-6f2d3e855943",
   "metadata": {},
   "outputs": [],
   "source": [
    "del l1"
   ]
  },
  {
   "cell_type": "code",
   "execution_count": 57,
   "id": "ce628018-d17a-4280-884a-5804582694c3",
   "metadata": {},
   "outputs": [
    {
     "ename": "NameError",
     "evalue": "name 'l1' is not defined",
     "output_type": "error",
     "traceback": [
      "\u001b[0;31m---------------------------------------------------------------------------\u001b[0m",
      "\u001b[0;31mNameError\u001b[0m                                 Traceback (most recent call last)",
      "Cell \u001b[0;32mIn[57], line 1\u001b[0m\n\u001b[0;32m----> 1\u001b[0m l1\n",
      "\u001b[0;31mNameError\u001b[0m: name 'l1' is not defined"
     ]
    }
   ],
   "source": [
    "l1"
   ]
  },
  {
   "cell_type": "markdown",
   "id": "0e08c6dd-b089-4300-833b-6d5e8c76a583",
   "metadata": {},
   "source": [
    "# List comprehensions"
   ]
  },
  {
   "cell_type": "markdown",
   "id": "0cff8d68-ba4d-42e4-bd41-daf26d440370",
   "metadata": {},
   "source": [
    "### 1. Basic List Comprehension"
   ]
  },
  {
   "cell_type": "code",
   "execution_count": 61,
   "id": "2511b98b-333c-468c-82b5-a7a7c248e38c",
   "metadata": {},
   "outputs": [],
   "source": [
    "nums = [1, 2, 3, 4]\n",
    "squares = [x ** 2 for x in nums]\n",
    "# Output: [1, 4, 9, 16]\n"
   ]
  },
  {
   "cell_type": "code",
   "execution_count": 63,
   "id": "08dad6e6-8fc8-4dbe-a921-192bec55060a",
   "metadata": {},
   "outputs": [
    {
     "name": "stdout",
     "output_type": "stream",
     "text": [
      "[1, 4, 9, 16]\n"
     ]
    }
   ],
   "source": [
    "print(squares)"
   ]
  },
  {
   "cell_type": "markdown",
   "id": "82a692ac-5696-4ffb-b3a4-6494d7883e87",
   "metadata": {},
   "source": [
    "### 2. With if Condition"
   ]
  },
  {
   "cell_type": "code",
   "execution_count": 66,
   "id": "b34e91c7-28f8-4248-a31b-5b39d8f593c1",
   "metadata": {},
   "outputs": [
    {
     "name": "stdout",
     "output_type": "stream",
     "text": [
      "[2, 4]\n"
     ]
    }
   ],
   "source": [
    "evens = [x for x in nums if x % 2 == 0]\n",
    "# Output: [2, 4]\n",
    "print(evens)"
   ]
  },
  {
   "cell_type": "markdown",
   "id": "6bcd5948-65f5-4292-9134-81c2c5ee6285",
   "metadata": {},
   "source": [
    "### 3. With if-else Inside"
   ]
  },
  {
   "cell_type": "code",
   "execution_count": 69,
   "id": "6c6a6b59-eaee-41f4-99d6-c8e62db960a8",
   "metadata": {},
   "outputs": [
    {
     "name": "stdout",
     "output_type": "stream",
     "text": [
      "['Odd', 'Even', 'Odd', 'Even']\n"
     ]
    }
   ],
   "source": [
    "labels = ['Even' if x % 2 == 0 else 'Odd' for x in nums]\n",
    "# Output: ['Odd', 'Even', 'Odd', 'Even']\n",
    "print(labels)"
   ]
  },
  {
   "cell_type": "markdown",
   "id": "98eba095-8c92-4131-ae3d-d108b941f1a4",
   "metadata": {},
   "source": [
    "### 4. Nested Loops (Matrix, anyone?)"
   ]
  },
  {
   "cell_type": "code",
   "execution_count": 72,
   "id": "67b0bd04-ed42-46f7-9a96-6062be2efe99",
   "metadata": {},
   "outputs": [
    {
     "name": "stdout",
     "output_type": "stream",
     "text": [
      "[1, 2, 3, 4]\n"
     ]
    }
   ],
   "source": [
    "matrix = [[1, 2], [3, 4]]\n",
    "flattened = [item for row in matrix for item in row]\n",
    "# Output: [1, 2, 3, 4]\n",
    "print(flattened)"
   ]
  },
  {
   "cell_type": "markdown",
   "id": "8edfbc52-6bbd-4782-aa06-5f088b8b32df",
   "metadata": {},
   "source": [
    "### 5. Using Functions in List Comprehension"
   ]
  },
  {
   "cell_type": "code",
   "execution_count": 75,
   "id": "07f8d57c-781f-4b6d-bae6-522b5b607de6",
   "metadata": {},
   "outputs": [
    {
     "name": "stdout",
     "output_type": "stream",
     "text": [
      "[0, 1, 4, 9, 16]\n"
     ]
    }
   ],
   "source": [
    "def square(n):\n",
    "    return n * n\n",
    "\n",
    "squares = [square(x) for x in range(5)]\n",
    "# Output: [0, 1, 4, 9, 16]\n",
    "print(squares)"
   ]
  },
  {
   "cell_type": "markdown",
   "id": "dee73f1c-ed20-4677-ba8e-82e3aba778f6",
   "metadata": {},
   "source": [
    "### 6. List of Tuples"
   ]
  },
  {
   "cell_type": "code",
   "execution_count": 78,
   "id": "07099f37-e4dc-4981-b5dd-9856b6aa4797",
   "metadata": {},
   "outputs": [
    {
     "name": "stdout",
     "output_type": "stream",
     "text": [
      "[(0, 0), (1, 1), (2, 4), (3, 9), (4, 16)]\n"
     ]
    }
   ],
   "source": [
    "pairs = [(x, x**2) for x in range(5)]\n",
    "# Output: [(0, 0), (1, 1), (2, 4), (3, 9), (4, 16)]\n",
    "print(pairs)"
   ]
  },
  {
   "cell_type": "markdown",
   "id": "48bdffc7-89fe-426c-8b79-100dfcbc1727",
   "metadata": {},
   "source": [
    "### 7. With zip()"
   ]
  },
  {
   "cell_type": "code",
   "execution_count": 81,
   "id": "514a021f-1a5a-4366-8022-dbfc48432069",
   "metadata": {},
   "outputs": [
    {
     "name": "stdout",
     "output_type": "stream",
     "text": [
      "['A is 20', 'B is 21']\n"
     ]
    }
   ],
   "source": [
    "names = ['A', 'B']\n",
    "ages = [20, 21]\n",
    "combined = [f\"{n} is {a}\" for n, a in zip(names, ages)]\n",
    "# Output: ['A is 20', 'B is 21']\n",
    "print(combined)"
   ]
  },
  {
   "cell_type": "markdown",
   "id": "f2dc5bb8-7245-4c9a-aaa9-0f11b1b86763",
   "metadata": {},
   "source": [
    "### 8. Comprehension with Strings"
   ]
  },
  {
   "cell_type": "code",
   "execution_count": 84,
   "id": "5258d739-ae70-4a42-8107-ce2fbff686c1",
   "metadata": {},
   "outputs": [
    {
     "name": "stdout",
     "output_type": "stream",
     "text": [
      "['H', 'E', 'L', 'L', 'O']\n"
     ]
    }
   ],
   "source": [
    "text = \"hello\"\n",
    "uppercase = [char.upper() for char in text]\n",
    "# Output: ['H', 'E', 'L', 'L', 'O']\n",
    "print(uppercase)"
   ]
  },
  {
   "cell_type": "markdown",
   "id": "8626a968-d7e1-4701-a3fa-854137a3199a",
   "metadata": {},
   "source": [
    "### 9. Set and Dict Comprehensions (Bonus)"
   ]
  },
  {
   "cell_type": "code",
   "execution_count": 87,
   "id": "82fde12b-341a-4cf2-bfbd-17a8d3257262",
   "metadata": {},
   "outputs": [
    {
     "name": "stdout",
     "output_type": "stream",
     "text": [
      "{1, 4, 9}\n",
      "{0: 0, 1: 1, 2: 4, 3: 9, 4: 16}\n"
     ]
    }
   ],
   "source": [
    "# Set comprehension\n",
    "unique_squares = {x**2 for x in [1, 2, 2, 3]}\n",
    "# Output: {1, 4, 9}\n",
    "print(unique_squares)\n",
    "# Dict comprehension\n",
    "squared_dict = {x: x**2 for x in range(5)}\n",
    "# Output: {0: 0, 1: 1, 2: 4, 3: 9, 4: 16}\n",
    "print(squared_dict)"
   ]
  }
 ],
 "metadata": {
  "kernelspec": {
   "display_name": "Python 3 (ipykernel)",
   "language": "python",
   "name": "python3"
  },
  "language_info": {
   "codemirror_mode": {
    "name": "ipython",
    "version": 3
   },
   "file_extension": ".py",
   "mimetype": "text/x-python",
   "name": "python",
   "nbconvert_exporter": "python",
   "pygments_lexer": "ipython3",
   "version": "3.12.2"
  }
 },
 "nbformat": 4,
 "nbformat_minor": 5
}
