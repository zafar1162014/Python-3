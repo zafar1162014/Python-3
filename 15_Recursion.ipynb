{
 "cells": [
  {
   "cell_type": "markdown",
   "id": "b2d364de-db58-495d-b653-e6a43eaa95b8",
   "metadata": {},
   "source": [
    "# Recursion"
   ]
  },
  {
   "cell_type": "code",
   "execution_count": 5,
   "id": "f24612ac-d92e-4be5-918a-4f9da03295a7",
   "metadata": {},
   "outputs": [
    {
     "name": "stdout",
     "output_type": "stream",
     "text": [
      "5\n",
      "4\n",
      "3\n",
      "2\n",
      "1\n",
      "0\n"
     ]
    }
   ],
   "source": [
    "def print_normal(x):\n",
    "    while x>=0:\n",
    "     print(x)\n",
    "     x-=1\n",
    "\n",
    "print_normal(5)"
   ]
  },
  {
   "cell_type": "code",
   "execution_count": 7,
   "id": "3d28b03d-b281-43b4-8d40-b964e9076a50",
   "metadata": {},
   "outputs": [
    {
     "name": "stdout",
     "output_type": "stream",
     "text": [
      "5\n",
      "4\n",
      "3\n",
      "2\n",
      "1\n",
      "0\n"
     ]
    }
   ],
   "source": [
    "def pri_nt(x):\n",
    "    if x<0:\n",
    "        return;\n",
    "    else:\n",
    "        print(x)\n",
    "        pri_nt(x-1)\n",
    "pri_nt(5)"
   ]
  },
  {
   "cell_type": "code",
   "execution_count": 13,
   "id": "69ff7260-f827-475a-8a58-07f8f3078e46",
   "metadata": {},
   "outputs": [
    {
     "data": {
      "text/plain": [
       "3000"
      ]
     },
     "execution_count": 13,
     "metadata": {},
     "output_type": "execute_result"
    }
   ],
   "source": [
    "from sys import getrecursionlimit\n",
    "getrecursionlimit()"
   ]
  },
  {
   "cell_type": "code",
   "execution_count": 17,
   "id": "aaa53bc7-579e-4af7-be18-2aee1b972234",
   "metadata": {},
   "outputs": [],
   "source": [
    "def recursion():\n",
    "    x = 10\n",
    "    recursion()\n"
   ]
  },
  {
   "cell_type": "code",
   "execution_count": 19,
   "id": "d0968245-830b-405d-bdf7-5f9e55692dfa",
   "metadata": {},
   "outputs": [
    {
     "ename": "RecursionError",
     "evalue": "maximum recursion depth exceeded",
     "output_type": "error",
     "traceback": [
      "\u001b[0;31m---------------------------------------------------------------------------\u001b[0m",
      "\u001b[0;31mRecursionError\u001b[0m                            Traceback (most recent call last)",
      "Cell \u001b[0;32mIn[19], line 1\u001b[0m\n\u001b[0;32m----> 1\u001b[0m recursion()\n",
      "Cell \u001b[0;32mIn[17], line 3\u001b[0m, in \u001b[0;36mrecursion\u001b[0;34m()\u001b[0m\n\u001b[1;32m      1\u001b[0m \u001b[38;5;28;01mdef\u001b[39;00m \u001b[38;5;21mrecursion\u001b[39m():\n\u001b[1;32m      2\u001b[0m     x \u001b[38;5;241m=\u001b[39m \u001b[38;5;241m10\u001b[39m\n\u001b[0;32m----> 3\u001b[0m     recursion()\n",
      "Cell \u001b[0;32mIn[17], line 3\u001b[0m, in \u001b[0;36mrecursion\u001b[0;34m()\u001b[0m\n\u001b[1;32m      1\u001b[0m \u001b[38;5;28;01mdef\u001b[39;00m \u001b[38;5;21mrecursion\u001b[39m():\n\u001b[1;32m      2\u001b[0m     x \u001b[38;5;241m=\u001b[39m \u001b[38;5;241m10\u001b[39m\n\u001b[0;32m----> 3\u001b[0m     recursion()\n",
      "    \u001b[0;31m[... skipping similar frames: recursion at line 3 (2974 times)]\u001b[0m\n",
      "Cell \u001b[0;32mIn[17], line 3\u001b[0m, in \u001b[0;36mrecursion\u001b[0;34m()\u001b[0m\n\u001b[1;32m      1\u001b[0m \u001b[38;5;28;01mdef\u001b[39;00m \u001b[38;5;21mrecursion\u001b[39m():\n\u001b[1;32m      2\u001b[0m     x \u001b[38;5;241m=\u001b[39m \u001b[38;5;241m10\u001b[39m\n\u001b[0;32m----> 3\u001b[0m     recursion()\n",
      "\u001b[0;31mRecursionError\u001b[0m: maximum recursion depth exceeded"
     ]
    }
   ],
   "source": [
    "recursion()"
   ]
  },
  {
   "cell_type": "code",
   "execution_count": 31,
   "id": "17cbc0c8-bc31-4467-adb7-144fe36d6bfd",
   "metadata": {},
   "outputs": [
    {
     "name": "stdout",
     "output_type": "stream",
     "text": [
      "5 * 4 * 3 * 2 * 1\n"
     ]
    },
    {
     "data": {
      "text/plain": [
       "120"
      ]
     },
     "execution_count": 31,
     "metadata": {},
     "output_type": "execute_result"
    }
   ],
   "source": [
    "def factorial(x):\n",
    "    if x==0 or x==1:\n",
    "       print(x)\n",
    "       return x\n",
    "    print(x,'*',end=' ')\n",
    "    return x*factorial(x-1)\n",
    "factorial(5)"
   ]
  },
  {
   "cell_type": "code",
   "execution_count": 33,
   "id": "55468554-7d1d-4f48-8fde-5b0a7c7d9672",
   "metadata": {},
   "outputs": [],
   "source": [
    "# --->> 0,1,1,2,3,5,8  (fibonacci numbers)\n",
    "# --->> 0,1,2,3,4,5,6  (index)"
   ]
  },
  {
   "cell_type": "code",
   "execution_count": 52,
   "id": "bfc89a28-3b37-4aae-a277-01b299190ab0",
   "metadata": {},
   "outputs": [
    {
     "data": {
      "text/plain": [
       "8"
      ]
     },
     "execution_count": 52,
     "metadata": {},
     "output_type": "execute_result"
    }
   ],
   "source": [
    "def fib(x):\n",
    "    if x==0 or x==1:\n",
    "       return x\n",
    "    return fib(x-1)+fib(x-2)\n",
    "fib(6)"
   ]
  },
  {
   "cell_type": "code",
   "execution_count": 54,
   "id": "027bae2b-4c40-42c2-9e98-ce4cd65f2760",
   "metadata": {},
   "outputs": [
    {
     "data": {
      "text/plain": [
       "3"
      ]
     },
     "execution_count": 54,
     "metadata": {},
     "output_type": "execute_result"
    }
   ],
   "source": [
    "fib(4)"
   ]
  },
  {
   "cell_type": "code",
   "execution_count": null,
   "id": "522de3e0-1a9b-4d8d-a52f-e0e8ebda2537",
   "metadata": {},
   "outputs": [],
   "source": []
  }
 ],
 "metadata": {
  "kernelspec": {
   "display_name": "Python 3 (ipykernel)",
   "language": "python",
   "name": "python3"
  },
  "language_info": {
   "codemirror_mode": {
    "name": "ipython",
    "version": 3
   },
   "file_extension": ".py",
   "mimetype": "text/x-python",
   "name": "python",
   "nbconvert_exporter": "python",
   "pygments_lexer": "ipython3",
   "version": "3.12.2"
  }
 },
 "nbformat": 4,
 "nbformat_minor": 5
}
