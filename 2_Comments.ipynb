{
 "cells": [
  {
   "cell_type": "markdown",
   "id": "2ee7c782-b5ae-4caf-b714-b46df6259eee",
   "metadata": {},
   "source": [
    "# Comments"
   ]
  },
  {
   "cell_type": "code",
   "execution_count": 3,
   "id": "317bb023-1dc2-430d-9263-8aab3b7cacf8",
   "metadata": {},
   "outputs": [],
   "source": [
    "#This is an example of single line comment"
   ]
  },
  {
   "cell_type": "code",
   "execution_count": 5,
   "id": "f807d0fe-1061-4496-81cb-451e386b5d26",
   "metadata": {},
   "outputs": [
    {
     "name": "stdout",
     "output_type": "stream",
     "text": [
      "comments\n"
     ]
    }
   ],
   "source": [
    "'''This is an example \n",
    "of multiline comment'''\n",
    "print('comments')"
   ]
  },
  {
   "cell_type": "code",
   "execution_count": null,
   "id": "09cf088e-2d12-4259-8e78-6e3660a8af7b",
   "metadata": {},
   "outputs": [],
   "source": []
  }
 ],
 "metadata": {
  "kernelspec": {
   "display_name": "Python 3 (ipykernel)",
   "language": "python",
   "name": "python3"
  },
  "language_info": {
   "codemirror_mode": {
    "name": "ipython",
    "version": 3
   },
   "file_extension": ".py",
   "mimetype": "text/x-python",
   "name": "python",
   "nbconvert_exporter": "python",
   "pygments_lexer": "ipython3",
   "version": "3.12.2"
  }
 },
 "nbformat": 4,
 "nbformat_minor": 5
}
