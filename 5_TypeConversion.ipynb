{
 "cells": [
  {
   "cell_type": "markdown",
   "id": "f8b58d66-2449-4663-a27c-06cb3f1b6fe9",
   "metadata": {},
   "source": [
    "# Type Conversion"
   ]
  },
  {
   "cell_type": "markdown",
   "id": "562a9663-3184-4846-9e26-a05f8028d520",
   "metadata": {},
   "source": [
    "### Implicit "
   ]
  },
  {
   "cell_type": "code",
   "execution_count": 19,
   "id": "f9010d12-6208-45a1-a2b9-21273ed32f83",
   "metadata": {},
   "outputs": [
    {
     "name": "stdout",
     "output_type": "stream",
     "text": [
      "<class 'float'>\n"
     ]
    },
    {
     "data": {
      "text/plain": [
       "10.0"
      ]
     },
     "execution_count": 19,
     "metadata": {},
     "output_type": "execute_result"
    }
   ],
   "source": [
    "intt = 5\n",
    "flt  = 5.0\n",
    "add  = intt + flt\n",
    "print(type(add))\n",
    "add"
   ]
  },
  {
   "cell_type": "code",
   "execution_count": 21,
   "id": "1905167d-fdd1-460a-a68d-d1e7f3b8d6bf",
   "metadata": {},
   "outputs": [
    {
     "ename": "TypeError",
     "evalue": "unsupported operand type(s) for +: 'int' and 'str'",
     "output_type": "error",
     "traceback": [
      "\u001b[0;31m---------------------------------------------------------------------------\u001b[0m",
      "\u001b[0;31mTypeError\u001b[0m                                 Traceback (most recent call last)",
      "Cell \u001b[0;32mIn[21], line 3\u001b[0m\n\u001b[1;32m      1\u001b[0m intt \u001b[38;5;241m=\u001b[39m \u001b[38;5;241m5\u001b[39m\n\u001b[1;32m      2\u001b[0m strr \u001b[38;5;241m=\u001b[39m \u001b[38;5;124m'\u001b[39m\u001b[38;5;124m5\u001b[39m\u001b[38;5;124m'\u001b[39m\n\u001b[0;32m----> 3\u001b[0m addd  \u001b[38;5;241m=\u001b[39m intt \u001b[38;5;241m+\u001b[39m strr\n\u001b[1;32m      4\u001b[0m \u001b[38;5;28mprint\u001b[39m(\u001b[38;5;28mtype\u001b[39m(addd))\n\u001b[1;32m      5\u001b[0m addd\n",
      "\u001b[0;31mTypeError\u001b[0m: unsupported operand type(s) for +: 'int' and 'str'"
     ]
    }
   ],
   "source": [
    "intt = 5\n",
    "strr = '5'\n",
    "addd  = intt + strr\n",
    "print(type(addd))\n",
    "addd"
   ]
  },
  {
   "cell_type": "markdown",
   "id": "5978cb18-3d2f-423a-a8a8-22213a836939",
   "metadata": {},
   "source": [
    "#  Explicit"
   ]
  },
  {
   "cell_type": "code",
   "execution_count": 4,
   "id": "b796473a-025a-4de2-9ca3-0c7143880b5d",
   "metadata": {},
   "outputs": [
    {
     "name": "stdout",
     "output_type": "stream",
     "text": [
      "<class 'float'>\n"
     ]
    },
    {
     "data": {
      "text/plain": [
       "9.5"
      ]
     },
     "execution_count": 4,
     "metadata": {},
     "output_type": "execute_result"
    }
   ],
   "source": [
    "intt=5\n",
    "floatt=4.5\n",
    "add=float(intt)+floatt\n",
    "print(type(add))\n",
    "add"
   ]
  },
  {
   "cell_type": "code",
   "execution_count": 5,
   "id": "391176f0-6cd9-4de7-bfd7-dc9872f616a7",
   "metadata": {},
   "outputs": [
    {
     "name": "stdout",
     "output_type": "stream",
     "text": [
      "<class 'float'>\n"
     ]
    },
    {
     "data": {
      "text/plain": [
       "9.5"
      ]
     },
     "execution_count": 5,
     "metadata": {},
     "output_type": "execute_result"
    }
   ],
   "source": [
    "intt=5\n",
    "floatt=4.5\n",
    "add=intt+floatt\n",
    "print(type(add))\n",
    "add"
   ]
  },
  {
   "cell_type": "code",
   "execution_count": 6,
   "id": "a1edb372-c8b4-4c65-8589-758193f196bd",
   "metadata": {},
   "outputs": [
    {
     "name": "stdout",
     "output_type": "stream",
     "text": [
      "<class 'int'>\n"
     ]
    },
    {
     "data": {
      "text/plain": [
       "9"
      ]
     },
     "execution_count": 6,
     "metadata": {},
     "output_type": "execute_result"
    }
   ],
   "source": [
    "intt=5\n",
    "floatt=4.5\n",
    "add=intt+int(floatt)\n",
    "print(type(add))\n",
    "add"
   ]
  },
  {
   "cell_type": "code",
   "execution_count": 7,
   "id": "a84846dc-3354-4128-8d3c-994e3fc01fcb",
   "metadata": {},
   "outputs": [
    {
     "name": "stdout",
     "output_type": "stream",
     "text": [
      "<class 'float'>\n"
     ]
    },
    {
     "data": {
      "text/plain": [
       "9.5"
      ]
     },
     "execution_count": 7,
     "metadata": {},
     "output_type": "execute_result"
    }
   ],
   "source": [
    "intt=5\n",
    "strt='5'\n",
    "add=int(strt)+floatt\n",
    "print(type(add))\n",
    "add"
   ]
  },
  {
   "cell_type": "code",
   "execution_count": 8,
   "id": "056fd889-58a4-4df9-ac95-74bedd1e8a3f",
   "metadata": {},
   "outputs": [
    {
     "name": "stdout",
     "output_type": "stream",
     "text": [
      "<class 'str'>\n"
     ]
    },
    {
     "data": {
      "text/plain": [
       "'55'"
      ]
     },
     "execution_count": 8,
     "metadata": {},
     "output_type": "execute_result"
    }
   ],
   "source": [
    "intt=5\n",
    "strt='5'\n",
    "add=strt + str(intt)\n",
    "print(type(add))\n",
    "add"
   ]
  },
  {
   "cell_type": "code",
   "execution_count": 9,
   "id": "9c3076b4-8147-4477-b673-9202112d60e9",
   "metadata": {},
   "outputs": [
    {
     "name": "stdout",
     "output_type": "stream",
     "text": [
      "<class 'int'>\n"
     ]
    },
    {
     "data": {
      "text/plain": [
       "1"
      ]
     },
     "execution_count": 9,
     "metadata": {},
     "output_type": "execute_result"
    }
   ],
   "source": [
    "intt=5\n",
    "boll=False\n",
    "add=bool(intt)+boll\n",
    "print(type(add))\n",
    "add"
   ]
  },
  {
   "cell_type": "code",
   "execution_count": null,
   "id": "e62c609a-582e-4475-906a-f73e0c211014",
   "metadata": {},
   "outputs": [],
   "source": []
  }
 ],
 "metadata": {
  "kernelspec": {
   "display_name": "Python 3 (ipykernel)",
   "language": "python",
   "name": "python3"
  },
  "language_info": {
   "codemirror_mode": {
    "name": "ipython",
    "version": 3
   },
   "file_extension": ".py",
   "mimetype": "text/x-python",
   "name": "python",
   "nbconvert_exporter": "python",
   "pygments_lexer": "ipython3",
   "version": "3.12.2"
  }
 },
 "nbformat": 4,
 "nbformat_minor": 5
}
