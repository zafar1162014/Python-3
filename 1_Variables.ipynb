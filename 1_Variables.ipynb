{
 "cells": [
  {
   "cell_type": "markdown",
   "id": "343744bf-6404-4047-a120-a1e4f6aa2e19",
   "metadata": {},
   "source": [
    "# Variables\n"
   ]
  },
  {
   "cell_type": "code",
   "execution_count": 3,
   "id": "34044fe8-4972-46e5-9bfb-2ec3d7a07bfb",
   "metadata": {},
   "outputs": [],
   "source": [
    "a=1\n",
    "b='1'\n",
    "c=\"1\"\n",
    "d=1.0"
   ]
  },
  {
   "cell_type": "code",
   "execution_count": 4,
   "id": "da8022a5-870c-4b33-b925-7de69a56c918",
   "metadata": {},
   "outputs": [
    {
     "name": "stdout",
     "output_type": "stream",
     "text": [
      "1\n",
      "1\n",
      "1\n",
      "1.0\n"
     ]
    }
   ],
   "source": [
    "print(a)\n",
    "print(b)\n",
    "print(c)\n",
    "print(d)"
   ]
  },
  {
   "cell_type": "code",
   "execution_count": 5,
   "id": "92d66cc7-e0ce-4bd4-9212-166835055a23",
   "metadata": {},
   "outputs": [
    {
     "name": "stdout",
     "output_type": "stream",
     "text": [
      "<class 'int'>\n",
      "<class 'str'>\n",
      "<class 'str'>\n",
      "<class 'float'>\n"
     ]
    }
   ],
   "source": [
    "print(type(a))\n",
    "print(type(b))\n",
    "print(type(c))\n",
    "print(type(d))"
   ]
  },
  {
   "cell_type": "code",
   "execution_count": 6,
   "id": "63c8685c-aff8-46a2-8e6f-f3772b92ecba",
   "metadata": {},
   "outputs": [
    {
     "name": "stdout",
     "output_type": "stream",
     "text": [
      "4524763096\n"
     ]
    }
   ],
   "source": [
    "print(id(a)) # address"
   ]
  },
  {
   "cell_type": "code",
   "execution_count": 7,
   "id": "6be5725f-4c2d-47b1-8b97-6100787aeae3",
   "metadata": {},
   "outputs": [],
   "source": [
    "x='Python'\n",
    "X=\"Practice\""
   ]
  },
  {
   "cell_type": "code",
   "execution_count": 8,
   "id": "724f2ac8-4169-4027-821e-1f5e41e67414",
   "metadata": {},
   "outputs": [
    {
     "name": "stdout",
     "output_type": "stream",
     "text": [
      "Python\n",
      "Practice\n"
     ]
    }
   ],
   "source": [
    "print(x)\n",
    "print(X)"
   ]
  },
  {
   "cell_type": "code",
   "execution_count": 9,
   "id": "05f65c5a-fc52-4bfd-a7a3-27184ab22a9d",
   "metadata": {},
   "outputs": [],
   "source": [
    "python=1\n",
    "py_thon=1\n",
    "_python=1\n",
    "Python=1\n",
    "PYTHON=1\n",
    "python1=1"
   ]
  },
  {
   "cell_type": "code",
   "execution_count": 10,
   "id": "066c55de-515e-4c68-aa0e-7952873b7c40",
   "metadata": {},
   "outputs": [
    {
     "ename": "SyntaxError",
     "evalue": "invalid decimal literal (3033671000.py, line 1)",
     "output_type": "error",
     "traceback": [
      "\u001b[0;36m  Cell \u001b[0;32mIn[10], line 1\u001b[0;36m\u001b[0m\n\u001b[0;31m    1python=1\u001b[0m\n\u001b[0m    ^\u001b[0m\n\u001b[0;31mSyntaxError\u001b[0m\u001b[0;31m:\u001b[0m invalid decimal literal\n"
     ]
    }
   ],
   "source": [
    "1python=1"
   ]
  },
  {
   "cell_type": "code",
   "execution_count": null,
   "id": "970ce239-9bca-4a3b-a9f6-b81f96637e0d",
   "metadata": {},
   "outputs": [],
   "source": [
    "if =1"
   ]
  },
  {
   "cell_type": "code",
   "execution_count": null,
   "id": "71775039-cffd-4f29-9d2e-e058e0a8850d",
   "metadata": {},
   "outputs": [],
   "source": [
    "py$thon=1"
   ]
  },
  {
   "cell_type": "code",
   "execution_count": null,
   "id": "86dd4ef2-7823-4907-b785-057dcf064f07",
   "metadata": {},
   "outputs": [],
   "source": [
    "pyt@hon=1"
   ]
  },
  {
   "cell_type": "code",
   "execution_count": null,
   "id": "19ac2c08-de8a-432d-998f-9f13be93bba7",
   "metadata": {},
   "outputs": [],
   "source": [
    "a,b,c=10,20,30"
   ]
  },
  {
   "cell_type": "code",
   "execution_count": null,
   "id": "f10ccc4f-267d-48c7-8f45-440291bc52dc",
   "metadata": {},
   "outputs": [],
   "source": [
    "a=b=c=30"
   ]
  },
  {
   "cell_type": "code",
   "execution_count": null,
   "id": "5066e5ce-8df1-4eb3-a25d-b20b57e2746d",
   "metadata": {},
   "outputs": [],
   "source": []
  }
 ],
 "metadata": {
  "kernelspec": {
   "display_name": "Python 3 (ipykernel)",
   "language": "python",
   "name": "python3"
  },
  "language_info": {
   "codemirror_mode": {
    "name": "ipython",
    "version": 3
   },
   "file_extension": ".py",
   "mimetype": "text/x-python",
   "name": "python",
   "nbconvert_exporter": "python",
   "pygments_lexer": "ipython3",
   "version": "3.12.2"
  }
 },
 "nbformat": 4,
 "nbformat_minor": 5
}
