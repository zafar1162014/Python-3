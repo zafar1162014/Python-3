{
 "cells": [
  {
   "cell_type": "markdown",
   "id": "5feca539-52f3-4455-8e1c-7b994b43ae55",
   "metadata": {},
   "source": [
    "# Loops\n"
   ]
  },
  {
   "cell_type": "markdown",
   "id": "f63154d7-f2d3-40bb-b2c1-80e5a6375b52",
   "metadata": {},
   "source": [
    "## For loops"
   ]
  },
  {
   "cell_type": "code",
   "execution_count": 6,
   "id": "19176893-96df-4932-89fd-f59f9c2322b4",
   "metadata": {},
   "outputs": [],
   "source": [
    "abc = (1,2,3,4,5,6,7,8,9,10)"
   ]
  },
  {
   "cell_type": "code",
   "execution_count": 8,
   "id": "c10e551d-86b2-45e4-b83c-57f4fef214ee",
   "metadata": {},
   "outputs": [
    {
     "name": "stdout",
     "output_type": "stream",
     "text": [
      "1\n",
      "2\n",
      "3\n",
      "4\n",
      "5\n",
      "6\n",
      "7\n",
      "8\n",
      "9\n",
      "10\n"
     ]
    }
   ],
   "source": [
    "for i in abc:\n",
    "    print(i)"
   ]
  },
  {
   "cell_type": "code",
   "execution_count": 10,
   "id": "deeb7644-dcb6-4d37-805d-038de3e392dd",
   "metadata": {},
   "outputs": [
    {
     "ename": "IndentationError",
     "evalue": "expected an indented block after 'for' statement on line 1 (1815254530.py, line 2)",
     "output_type": "error",
     "traceback": [
      "\u001b[0;36m  Cell \u001b[0;32mIn[10], line 2\u001b[0;36m\u001b[0m\n\u001b[0;31m    print(i)\u001b[0m\n\u001b[0m    ^\u001b[0m\n\u001b[0;31mIndentationError\u001b[0m\u001b[0;31m:\u001b[0m expected an indented block after 'for' statement on line 1\n"
     ]
    }
   ],
   "source": [
    "for i in abc:\n",
    "print(i)"
   ]
  },
  {
   "cell_type": "code",
   "execution_count": 12,
   "id": "a2a39f59-b795-42d3-ae9c-a04dca9bc21d",
   "metadata": {},
   "outputs": [
    {
     "name": "stdout",
     "output_type": "stream",
     "text": [
      "1\n",
      "2\n",
      "3\n",
      "4\n",
      "5\n",
      "6\n",
      "7\n",
      "8\n",
      "9\n",
      "10\n"
     ]
    }
   ],
   "source": [
    "for i in abc:\n",
    "                  print(i)"
   ]
  },
  {
   "cell_type": "code",
   "execution_count": 14,
   "id": "1f2bc924-5357-4f81-932d-dcc04f2bab92",
   "metadata": {},
   "outputs": [
    {
     "name": "stdout",
     "output_type": "stream",
     "text": [
      "1\n",
      "2\n",
      "3\n",
      "4\n"
     ]
    }
   ],
   "source": [
    "for i in abc :\n",
    " if i == 5 :\n",
    "    break # break the loop\n",
    " print(i)"
   ]
  },
  {
   "cell_type": "code",
   "execution_count": 18,
   "id": "75f2d56c-5ab4-49ba-b457-d3e509785963",
   "metadata": {},
   "outputs": [
    {
     "name": "stdout",
     "output_type": "stream",
     "text": [
      "1\n",
      "2\n",
      "3\n",
      "4\n",
      "6\n",
      "7\n",
      "8\n",
      "9\n",
      "10\n"
     ]
    }
   ],
   "source": [
    "for i in abc :\n",
    " if i == 5 :\n",
    "    continue # will skip  below for the current interation\n",
    " print(i)"
   ]
  },
  {
   "cell_type": "code",
   "execution_count": 20,
   "id": "e0f8be3c-8f01-46c5-a344-cb4cc98ca0b1",
   "metadata": {},
   "outputs": [
    {
     "name": "stdout",
     "output_type": "stream",
     "text": [
      "Z\n",
      "a\n",
      "f\n",
      "a\n",
      "r\n"
     ]
    }
   ],
   "source": [
    "for i in \"Zafar\":\n",
    "    print(i)"
   ]
  },
  {
   "cell_type": "code",
   "execution_count": 24,
   "id": "44c80736-0685-43a5-b158-7797eacfb676",
   "metadata": {},
   "outputs": [
    {
     "name": "stdout",
     "output_type": "stream",
     "text": [
      "0\n",
      "1\n",
      "2\n",
      "3\n",
      "4\n",
      "5\n",
      "6\n",
      "7\n",
      "8\n",
      "9\n"
     ]
    }
   ],
   "source": [
    "for i in range(10):\n",
    "    print(i)"
   ]
  },
  {
   "cell_type": "code",
   "execution_count": 28,
   "id": "15db1f4c-0253-4229-8145-e5304ce89768",
   "metadata": {},
   "outputs": [
    {
     "name": "stdout",
     "output_type": "stream",
     "text": [
      "5\n",
      "6\n",
      "7\n",
      "8\n",
      "9\n"
     ]
    }
   ],
   "source": [
    "for i in range(5,10):\n",
    "    print(i)"
   ]
  },
  {
   "cell_type": "code",
   "execution_count": 30,
   "id": "a82718ad-5d0e-4715-849b-87b5c985a8ee",
   "metadata": {},
   "outputs": [
    {
     "name": "stdout",
     "output_type": "stream",
     "text": [
      "0\n",
      "2\n",
      "4\n",
      "6\n",
      "8\n"
     ]
    }
   ],
   "source": [
    "for i in range(0,10,2):\n",
    "    print(i)"
   ]
  },
  {
   "cell_type": "code",
   "execution_count": 36,
   "id": "ebc77359-1c0d-4e6f-8cd6-0d0ba6afa174",
   "metadata": {},
   "outputs": [
    {
     "name": "stdout",
     "output_type": "stream",
     "text": [
      "*  \n",
      "* *  \n",
      "* * *  \n",
      "* * * *  \n",
      "* * * * *  \n"
     ]
    }
   ],
   "source": [
    "for i in range(5): \n",
    " for j in  range(i+1):\n",
    "    print('*',end=' ')\n",
    "\n",
    " print(' ')"
   ]
  },
  {
   "cell_type": "markdown",
   "id": "2db43ac7-739f-4d8f-ba10-b32a2ddd055e",
   "metadata": {},
   "source": [
    "## While Loop"
   ]
  },
  {
   "cell_type": "code",
   "execution_count": 40,
   "id": "4e22e665-90e4-4c03-a334-ff54ea1f7c09",
   "metadata": {},
   "outputs": [
    {
     "name": "stdout",
     "output_type": "stream",
     "text": [
      "1\n",
      "2\n",
      "3\n",
      "4\n",
      "5\n",
      "6\n",
      "7\n",
      "8\n",
      "9\n"
     ]
    }
   ],
   "source": [
    "xyz = 1\n",
    "while xyz < 10:\n",
    "  print(xyz)\n",
    "  xyz += 1"
   ]
  },
  {
   "cell_type": "code",
   "execution_count": 42,
   "id": "80f64b32-d5f1-4c4a-8741-1d842f4064d5",
   "metadata": {},
   "outputs": [
    {
     "name": "stdout",
     "output_type": "stream",
     "text": [
      "1\n",
      "4\n",
      "7\n"
     ]
    }
   ],
   "source": [
    "xyz = 1\n",
    "while xyz < 10:\n",
    "  print(xyz)\n",
    "  xyz += 3"
   ]
  },
  {
   "cell_type": "code",
   "execution_count": 44,
   "id": "8856be8e-ad6d-484e-aa74-bc2af111b318",
   "metadata": {},
   "outputs": [
    {
     "name": "stdout",
     "output_type": "stream",
     "text": [
      "2\n",
      "3\n",
      "4\n",
      "5\n"
     ]
    }
   ],
   "source": [
    "xyz = 1\n",
    "while xyz < 10:\n",
    " if xyz==5:\n",
    "  break\n",
    " xyz += 1\n",
    " print(xyz)"
   ]
  },
  {
   "cell_type": "code",
   "execution_count": 46,
   "id": "bba16720-ebaa-4d78-97e3-17558e82ee71",
   "metadata": {},
   "outputs": [
    {
     "name": "stdout",
     "output_type": "stream",
     "text": [
      "2\n",
      "3\n",
      "4\n",
      "6\n",
      "7\n",
      "8\n",
      "9\n",
      "10\n"
     ]
    }
   ],
   "source": [
    "xyz = 1\n",
    "while xyz < 10:\n",
    "  xyz += 1\n",
    "  if xyz == 5:\n",
    "    continue\n",
    "  print(xyz)"
   ]
  },
  {
   "cell_type": "code",
   "execution_count": 48,
   "id": "a0e931af-0366-4a2e-958a-267bf3fec177",
   "metadata": {},
   "outputs": [
    {
     "name": "stdout",
     "output_type": "stream",
     "text": [
      "x-> 1 y-> 1 x + y -> 2\n",
      "x-> 1 y-> 2 x + y -> 3\n",
      "x-> 1 y-> 3 x + y -> 4\n",
      "x-> 1 y-> 4 x + y -> 5\n",
      "\n",
      "\n",
      "x-> 2 y-> 1 x + y -> 3\n",
      "x-> 2 y-> 2 x + y -> 4\n",
      "x-> 2 y-> 3 x + y -> 5\n",
      "x-> 2 y-> 4 x + y -> 6\n",
      "\n",
      "\n",
      "x-> 3 y-> 1 x + y -> 4\n",
      "x-> 3 y-> 2 x + y -> 5\n",
      "x-> 3 y-> 3 x + y -> 6\n",
      "x-> 3 y-> 4 x + y -> 7\n",
      "\n",
      "\n",
      "x-> 4 y-> 1 x + y -> 5\n",
      "x-> 4 y-> 2 x + y -> 6\n",
      "x-> 4 y-> 3 x + y -> 7\n",
      "x-> 4 y-> 4 x + y -> 8\n",
      "\n",
      "\n"
     ]
    }
   ],
   "source": [
    "x = 1\n",
    "while x < 5 :\n",
    "    y = 1\n",
    "    while  y < 5 :\n",
    "        print('x->',x,'y->',y,'x + y ->',x+y)\n",
    "        y += 1\n",
    "    print(\"\\n\")\n",
    "    x += 1"
   ]
  }
 ],
 "metadata": {
  "kernelspec": {
   "display_name": "Python 3 (ipykernel)",
   "language": "python",
   "name": "python3"
  },
  "language_info": {
   "codemirror_mode": {
    "name": "ipython",
    "version": 3
   },
   "file_extension": ".py",
   "mimetype": "text/x-python",
   "name": "python",
   "nbconvert_exporter": "python",
   "pygments_lexer": "ipython3",
   "version": "3.12.2"
  }
 },
 "nbformat": 4,
 "nbformat_minor": 5
}
