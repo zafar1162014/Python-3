{
 "cells": [
  {
   "cell_type": "markdown",
   "id": "7b6e51ca-9ba2-4153-b515-e44574584714",
   "metadata": {},
   "source": [
    "# Class & Object"
   ]
  },
  {
   "cell_type": "code",
   "execution_count": 3,
   "id": "7832d501-a686-4663-94c9-19ed36253947",
   "metadata": {},
   "outputs": [
    {
     "name": "stdout",
     "output_type": "stream",
     "text": [
      "zafar\n",
      "1\n"
     ]
    }
   ],
   "source": [
    "class class1:\n",
    "    d1 = \"zafar\"\n",
    "    d2 = 1\n",
    "\n",
    "obj1 = class1()\n",
    "print(obj1.d1)\n",
    "print(obj1.d2)"
   ]
  },
  {
   "cell_type": "code",
   "execution_count": 4,
   "id": "48b110e5-4078-47fa-8884-2135e61ae7cf",
   "metadata": {},
   "outputs": [
    {
     "name": "stdout",
     "output_type": "stream",
     "text": [
      "zafar\n",
      "Shahzaib\n"
     ]
    }
   ],
   "source": [
    "obj2 = class1()\n",
    "print(obj2.d1)\n",
    "obj2.d1 = \"Shahzaib\"\n",
    "print(obj2.d1)"
   ]
  },
  {
   "cell_type": "code",
   "execution_count": 5,
   "id": "be94aa19-14fe-4b4d-b760-4ba4178c2802",
   "metadata": {},
   "outputs": [
    {
     "name": "stdout",
     "output_type": "stream",
     "text": [
      "10\n"
     ]
    }
   ],
   "source": [
    "obj2.d2=10\n",
    "print(obj2.d2)"
   ]
  },
  {
   "cell_type": "code",
   "execution_count": 6,
   "id": "cf1efd08-6361-425a-a941-925f92f12981",
   "metadata": {},
   "outputs": [
    {
     "name": "stdout",
     "output_type": "stream",
     "text": [
      "name--> zafar\n",
      "name--> Muhammad\n"
     ]
    }
   ],
   "source": [
    "class class2:\n",
    "    name = \"zafar\"\n",
    "    roll_no = 1\n",
    "\n",
    "    def abc(self):\n",
    "        print(\"name-->\",self.name)\n",
    "\n",
    "obj11 = class2()\n",
    "obj11.abc()\n",
    "obj11.name = \"Muhammad\"\n",
    "obj11.abc()"
   ]
  },
  {
   "cell_type": "code",
   "execution_count": 7,
   "id": "a9cd74de-161d-440d-93ae-a03980e23ddc",
   "metadata": {},
   "outputs": [
    {
     "name": "stdout",
     "output_type": "stream",
     "text": [
      "Zafar\n"
     ]
    }
   ],
   "source": [
    "class class3:\n",
    "    def __init__(self,name):\n",
    "        self.name=name\n",
    "    rollnumber=193\n",
    "    \n",
    "    def abc(self):\n",
    "        print('name->',self.name)\n",
    "\n",
    "\n",
    "obj1=class3(\"Zafar\")\n",
    "print(obj1.name)"
   ]
  },
  {
   "cell_type": "code",
   "execution_count": 8,
   "id": "beea147b-2546-47f7-bc44-3c0af572e4d4",
   "metadata": {},
   "outputs": [
    {
     "name": "stdout",
     "output_type": "stream",
     "text": [
      "Manisha\n",
      "name--> Manisha\n"
     ]
    }
   ],
   "source": [
    "class class3:\n",
    "    def __init__(self,name):\n",
    "        self.name = name\n",
    "\n",
    "    roll_no = 1\n",
    "\n",
    "    def abc(self):\n",
    "        print(\"name-->\",self.name)\n",
    "\n",
    "obj111 = class3(\"Manisha\")\n",
    "print(obj111.name)\n",
    "obj111.abc()\n"
   ]
  },
  {
   "cell_type": "markdown",
   "id": "8eb0eeed-1abd-4bbd-80c0-8a86d9f2edfa",
   "metadata": {},
   "source": [
    "## Class Definition"
   ]
  },
  {
   "cell_type": "code",
   "execution_count": 10,
   "id": "1ce3dbef-0b0c-4d12-8cc1-1a77d8f1eb28",
   "metadata": {},
   "outputs": [],
   "source": [
    "class Car:\n",
    "    pass\n"
   ]
  },
  {
   "cell_type": "markdown",
   "id": "f2a18c35-63c1-4e69-82bd-f82bde5a9240",
   "metadata": {},
   "source": [
    "## Creating an Object"
   ]
  },
  {
   "cell_type": "code",
   "execution_count": 12,
   "id": "4278f636-892d-4e77-8930-9fe5abcbdb05",
   "metadata": {},
   "outputs": [],
   "source": [
    "my_car = Car()\n"
   ]
  },
  {
   "cell_type": "markdown",
   "id": "c0cc479e-d21d-41b4-b89e-1ae770cef5d2",
   "metadata": {},
   "source": [
    "##  __init__ Constructor Method"
   ]
  },
  {
   "cell_type": "code",
   "execution_count": 14,
   "id": "b780d169-3c0c-444d-aa21-2858073e767e",
   "metadata": {},
   "outputs": [],
   "source": [
    "# Used to initialize object properties.\n",
    "class Car:\n",
    "    def __init__(self, brand, model, year):\n",
    "        self.brand = brand\n",
    "        self.model = model\n",
    "        self.year = year\n"
   ]
  },
  {
   "cell_type": "code",
   "execution_count": 15,
   "id": "8569ca4b-be77-4f80-b480-bf2ce03920ad",
   "metadata": {},
   "outputs": [
    {
     "name": "stdout",
     "output_type": "stream",
     "text": [
      "Toyota\n"
     ]
    }
   ],
   "source": [
    "my_car = Car(\"Toyota\", \"Corolla\", 2020)\n",
    "print(my_car.brand)  # Toyota\n"
   ]
  },
  {
   "cell_type": "markdown",
   "id": "0f6011f4-a445-4d5d-aec7-36204f42b93a",
   "metadata": {},
   "source": [
    "## Instance Methods"
   ]
  },
  {
   "cell_type": "code",
   "execution_count": 17,
   "id": "f627bc5f-3e70-4424-90d7-f189e6a894dd",
   "metadata": {},
   "outputs": [
    {
     "name": "stdout",
     "output_type": "stream",
     "text": [
      "Tesla Model 3 is starting...\n"
     ]
    }
   ],
   "source": [
    "# Functions that work on object data.\n",
    "class Car:\n",
    "    def __init__(self, brand, model):\n",
    "        self.brand = brand\n",
    "        self.model = model\n",
    "\n",
    "    def start(self):\n",
    "        return f\"{self.brand} {self.model} is starting...\"\n",
    "\n",
    "car1 = Car(\"Tesla\", \"Model 3\")\n",
    "print(car1.start())  # Tesla Model 3 is starting...\n"
   ]
  },
  {
   "cell_type": "markdown",
   "id": "8d16393e-c4bf-4441-a7b3-e487fa6ccf51",
   "metadata": {},
   "source": [
    "## Encapsulation (Public, Protected, Private)"
   ]
  },
  {
   "cell_type": "code",
   "execution_count": 19,
   "id": "8c5e80a0-7958-418a-a5c7-e15b0907d8ed",
   "metadata": {},
   "outputs": [
    {
     "name": "stdout",
     "output_type": "stream",
     "text": [
      "Zafar\n",
      "5000\n",
      "1234\n"
     ]
    }
   ],
   "source": [
    "## Encapsulation (Public, Protected, Private)\n",
    "class BankAccount:\n",
    "    def __init__(self, owner, balance):\n",
    "        self.owner = owner       # Public\n",
    "        self._balance = balance  # Protected (by convention)\n",
    "        self.__pin = 1234        # Private (name mangled)\n",
    "\n",
    "    def show_pin(self):\n",
    "        return self.__pin\n",
    "\n",
    "acc = BankAccount(\"Zafar\", 5000)\n",
    "print(acc.owner)          # ✅\n",
    "print(acc._balance)       # ⚠️ Don't touch it unless necessary\n",
    "# print(acc.__pin)        # ❌ AttributeError\n",
    "print(acc._BankAccount__pin)  # ✅ Accessing via name mangling\n"
   ]
  },
  {
   "cell_type": "code",
   "execution_count": 20,
   "id": "9753feb3-0064-46c4-8441-f43ee3bf99db",
   "metadata": {},
   "outputs": [
    {
     "data": {
      "text/plain": [
       "1234"
      ]
     },
     "execution_count": 20,
     "metadata": {},
     "output_type": "execute_result"
    }
   ],
   "source": [
    "acc.show_pin()"
   ]
  },
  {
   "cell_type": "code",
   "execution_count": 21,
   "id": "32599d8f-91b3-4d80-b6f5-40afd4895c18",
   "metadata": {},
   "outputs": [
    {
     "name": "stdout",
     "output_type": "stream",
     "text": [
      "Zafar\n"
     ]
    }
   ],
   "source": [
    "class CNIC:\n",
    "   def __init__(self,name,cnic,location):\n",
    "       self.name=name # public\n",
    "       self.__cnic=cnic # private\n",
    "       self._location=location # protected\n",
    "   def show_cnic(self):\n",
    "       return self.__cnic\n",
    "obj=CNIC('Zafar',15201,'Chitral')\n",
    "print(obj.name)"
   ]
  },
  {
   "cell_type": "code",
   "execution_count": 22,
   "id": "cfb9dbb7-96d1-4032-9225-26b887c85a8d",
   "metadata": {},
   "outputs": [
    {
     "data": {
      "text/plain": [
       "'Chitral'"
      ]
     },
     "execution_count": 22,
     "metadata": {},
     "output_type": "execute_result"
    }
   ],
   "source": [
    "obj._location"
   ]
  },
  {
   "cell_type": "code",
   "execution_count": 23,
   "id": "5e48edcb-30f7-43ee-aefe-62ddf1bad240",
   "metadata": {},
   "outputs": [
    {
     "ename": "AttributeError",
     "evalue": "'CNIC' object has no attribute '__cnic'",
     "output_type": "error",
     "traceback": [
      "\u001b[0;31m---------------------------------------------------------------------------\u001b[0m",
      "\u001b[0;31mAttributeError\u001b[0m                            Traceback (most recent call last)",
      "Cell \u001b[0;32mIn[23], line 1\u001b[0m\n\u001b[0;32m----> 1\u001b[0m obj\u001b[38;5;241m.\u001b[39m__cnic\n",
      "\u001b[0;31mAttributeError\u001b[0m: 'CNIC' object has no attribute '__cnic'"
     ]
    }
   ],
   "source": [
    "obj.__cnic"
   ]
  },
  {
   "cell_type": "code",
   "execution_count": 40,
   "id": "0f41f3f8-a64b-458c-8af5-eff34df05d4d",
   "metadata": {},
   "outputs": [
    {
     "name": "stdout",
     "output_type": "stream",
     "text": [
      "15201\n"
     ]
    }
   ],
   "source": [
    "print(obj.show_cnic())"
   ]
  },
  {
   "cell_type": "code",
   "execution_count": 42,
   "id": "b5beb5bb-489e-4d41-83a9-21343e686031",
   "metadata": {},
   "outputs": [
    {
     "data": {
      "text/plain": [
       "15201"
      ]
     },
     "execution_count": 42,
     "metadata": {},
     "output_type": "execute_result"
    }
   ],
   "source": [
    "obj._CNIC__cnic"
   ]
  },
  {
   "cell_type": "markdown",
   "id": "771946c2-bf1e-4e89-9fe7-f12156da7df0",
   "metadata": {},
   "source": [
    "## Class Variables vs Instance Variables"
   ]
  },
  {
   "cell_type": "code",
   "execution_count": 45,
   "id": "e931d1dd-97d4-424a-adac-2032dc5cdb97",
   "metadata": {},
   "outputs": [
    {
     "name": "stdout",
     "output_type": "stream",
     "text": [
      "ABC School\n",
      "Zain\n"
     ]
    }
   ],
   "source": [
    "class Student:\n",
    "    school = \"ABC School\"  # Class variable\n",
    "\n",
    "    def __init__(self, name):\n",
    "        self.name = name   # Instance variable\n",
    "\n",
    "s1 = Student(\"Ali\")\n",
    "s2 = Student(\"Zain\")\n",
    "\n",
    "print(s1.school)  # ABC School\n",
    "print(s2.name)    # Zain\n"
   ]
  },
  {
   "cell_type": "code",
   "execution_count": 47,
   "id": "ef7eec4b-b936-47e8-9f52-184a915f1b75",
   "metadata": {},
   "outputs": [
    {
     "data": {
      "text/plain": [
       "'ABC School'"
      ]
     },
     "execution_count": 47,
     "metadata": {},
     "output_type": "execute_result"
    }
   ],
   "source": [
    "s2.school"
   ]
  },
  {
   "cell_type": "markdown",
   "id": "9051e992-57fa-4bd6-acb6-b58ad138956a",
   "metadata": {},
   "source": [
    "## Class Methods"
   ]
  },
  {
   "cell_type": "code",
   "execution_count": 50,
   "id": "621e2ee8-cce4-4745-9b5f-673fd1ef9d2c",
   "metadata": {},
   "outputs": [
    {
     "name": "stdout",
     "output_type": "stream",
     "text": [
      "Total persons: 2\n"
     ]
    }
   ],
   "source": [
    "# Use @classmethod to create methods that deal with class itself.\n",
    "class Person:\n",
    "    count = 0\n",
    "\n",
    "    def __init__(self):\n",
    "        Person.count += 1\n",
    "\n",
    "    @classmethod\n",
    "    def show_count(cls):\n",
    "        return f\"Total persons: {cls.count}\"\n",
    "\n",
    "p1 = Person()\n",
    "p2 = Person()\n",
    "print(Person.show_count())  # Total persons: 2\n"
   ]
  },
  {
   "cell_type": "code",
   "execution_count": 52,
   "id": "b7697827-41bd-4e90-ac5d-c0ec6b4e8a51",
   "metadata": {},
   "outputs": [
    {
     "name": "stdout",
     "output_type": "stream",
     "text": [
      "Total persons: 2\n"
     ]
    }
   ],
   "source": [
    "class Person:\n",
    "    count = 0\n",
    "\n",
    "    def __init__(self,name='Zafar'):\n",
    "        Person.count+=1\n",
    "        self.name=name\n",
    "    \n",
    "    @classmethod\n",
    "    def show_count(cls):\n",
    "        return f\"Total persons: {cls.count}\"\n",
    "\n",
    "p1 = Person()\n",
    "p2 = Person()\n",
    "print(Person.show_count())  # Total persons: 2\n"
   ]
  },
  {
   "cell_type": "code",
   "execution_count": 54,
   "id": "b5bc31ae-51d3-4d35-8ef5-602f288e71f8",
   "metadata": {},
   "outputs": [
    {
     "data": {
      "text/plain": [
       "'Zafar'"
      ]
     },
     "execution_count": 54,
     "metadata": {},
     "output_type": "execute_result"
    }
   ],
   "source": [
    "p2.name"
   ]
  },
  {
   "cell_type": "code",
   "execution_count": 56,
   "id": "8ebe768b-9cc8-4943-a52f-bb97f70c9fd9",
   "metadata": {},
   "outputs": [],
   "source": [
    "p3=Person(\"Shahzaib\")"
   ]
  },
  {
   "cell_type": "code",
   "execution_count": 58,
   "id": "1c416bb1-deec-45e9-bb9a-efc735689b76",
   "metadata": {},
   "outputs": [
    {
     "data": {
      "text/plain": [
       "'Shahzaib'"
      ]
     },
     "execution_count": 58,
     "metadata": {},
     "output_type": "execute_result"
    }
   ],
   "source": [
    "p3.name"
   ]
  },
  {
   "cell_type": "code",
   "execution_count": 60,
   "id": "ccf80eb3-ca2b-4d2f-bc70-967d576fdb49",
   "metadata": {},
   "outputs": [
    {
     "data": {
      "text/plain": [
       "'Total persons: 3'"
      ]
     },
     "execution_count": 60,
     "metadata": {},
     "output_type": "execute_result"
    }
   ],
   "source": [
    "Person.show_count()"
   ]
  },
  {
   "cell_type": "code",
   "execution_count": 62,
   "id": "a305ba50-08e1-4848-900c-a230b4e84e3b",
   "metadata": {},
   "outputs": [
    {
     "name": "stdout",
     "output_type": "stream",
     "text": [
      "Age of zafar is 23\n",
      "Age of Taha is 0\n"
     ]
    }
   ],
   "source": [
    "class A:\n",
    "    def __init__(self, name='zafar', age=23):\n",
    "        self.name = name\n",
    "        self.age = age if age >= 0 else 0  \n",
    "\n",
    "    def display(self):\n",
    "        print(f\"Age of {self.name} is {self.age}\")\n",
    "\n",
    "obj = A()\n",
    "obj.display()\n",
    "\n",
    "obj2 = A(\"Taha\", -5)\n",
    "obj2.display()  # Age of Taha is 0\n"
   ]
  },
  {
   "cell_type": "code",
   "execution_count": 64,
   "id": "29c0860d-3a92-4e4c-9a72-e2c1d5b3e2c8",
   "metadata": {},
   "outputs": [
    {
     "name": "stdout",
     "output_type": "stream",
     "text": [
      "Age of zafar is 23\n"
     ]
    }
   ],
   "source": [
    "obj.display()"
   ]
  },
  {
   "cell_type": "markdown",
   "id": "73effca7-9e44-4c55-a222-bc11f09938ed",
   "metadata": {},
   "source": [
    "## Static Methods"
   ]
  },
  {
   "cell_type": "code",
   "execution_count": 67,
   "id": "29ac684c-886f-4597-b9f5-188594c4d7f5",
   "metadata": {},
   "outputs": [
    {
     "name": "stdout",
     "output_type": "stream",
     "text": [
      "8\n"
     ]
    }
   ],
   "source": [
    "# They don’t touch class or instance variables\n",
    "class Math:\n",
    "    @staticmethod\n",
    "    def add(a, b):\n",
    "        return a + b\n",
    "\n",
    "print(Math.add(3, 5))  # 8\n"
   ]
  },
  {
   "cell_type": "code",
   "execution_count": 69,
   "id": "1ff89f75-892d-427d-ac2b-ad70bb30d44e",
   "metadata": {},
   "outputs": [],
   "source": [
    "class operation:\n",
    "    @staticmethod\n",
    "    def sum(a,b):\n",
    "        return a+b\n",
    "    def sub(a,b):\n",
    "        return a-b\n",
    "    def mul(a,b):\n",
    "        return a*b\n",
    "    def reminder(a,b):\n",
    "        return a%b\n",
    "    def power(a,b):\n",
    "        return a**b  "
   ]
  },
  {
   "cell_type": "code",
   "execution_count": 71,
   "id": "b780462c-20ca-4ca6-901a-9e9e1a270d26",
   "metadata": {},
   "outputs": [
    {
     "name": "stdout",
     "output_type": "stream",
     "text": [
      "3\n",
      "2\n",
      "15\n",
      "2\n",
      "125\n"
     ]
    }
   ],
   "source": [
    "print(operation.sum(1,2))\n",
    "print(operation.sub(5,3))\n",
    "print(operation.mul(5,3))\n",
    "print(operation.reminder(5,3))\n",
    "print(operation.power(5,3))"
   ]
  },
  {
   "cell_type": "code",
   "execution_count": 73,
   "id": "6e7c8525-8022-4b6b-80c5-e1aaa3bbb885",
   "metadata": {},
   "outputs": [],
   "source": [
    "obj=operation()"
   ]
  },
  {
   "cell_type": "code",
   "execution_count": 74,
   "id": "b656ff85-ca46-4172-be3c-fce43e5df84a",
   "metadata": {},
   "outputs": [
    {
     "data": {
      "text/plain": [
       "5"
      ]
     },
     "execution_count": 74,
     "metadata": {},
     "output_type": "execute_result"
    }
   ],
   "source": [
    "obj.sum(2,3)"
   ]
  },
  {
   "cell_type": "code",
   "execution_count": 77,
   "id": "9def81e0-4ec4-4e3e-9ab0-910b6749525f",
   "metadata": {},
   "outputs": [
    {
     "ename": "TypeError",
     "evalue": "operation.mul() missing 1 required positional argument: 'b'",
     "output_type": "error",
     "traceback": [
      "\u001b[0;31m---------------------------------------------------------------------------\u001b[0m",
      "\u001b[0;31mTypeError\u001b[0m                                 Traceback (most recent call last)",
      "Cell \u001b[0;32mIn[77], line 1\u001b[0m\n\u001b[0;32m----> 1\u001b[0m obj\u001b[38;5;241m.\u001b[39mmul()\n",
      "\u001b[0;31mTypeError\u001b[0m: operation.mul() missing 1 required positional argument: 'b'"
     ]
    }
   ],
   "source": [
    "obj.mul()"
   ]
  },
  {
   "cell_type": "markdown",
   "id": "27981a0a-fe6e-4bf9-944e-f35c1559f384",
   "metadata": {},
   "source": [
    "##  Inheritance (Reusing a Class)"
   ]
  },
  {
   "cell_type": "code",
   "execution_count": 80,
   "id": "b0888e4d-4166-434b-93ba-c4c59d41598a",
   "metadata": {},
   "outputs": [
    {
     "name": "stdout",
     "output_type": "stream",
     "text": [
      "Bark!\n"
     ]
    }
   ],
   "source": [
    "class Animal:\n",
    "    def sound(self):\n",
    "        return \"Some sound\"\n",
    "\n",
    "class Dog(Animal):  # Inheriting\n",
    "    def sound(self):\n",
    "        return \"Bark!\"\n",
    "\n",
    "d = Dog()\n",
    "print(d.sound())  # Bark!\n"
   ]
  },
  {
   "cell_type": "markdown",
   "id": "0d6cf8ab-3a24-4669-8d28-4de4a591313f",
   "metadata": {},
   "source": [
    "## Polymorphism (Same Method, Different Behavior)"
   ]
  },
  {
   "cell_type": "code",
   "execution_count": 83,
   "id": "c11ca788-c337-4ad3-a1fd-2038018bc0e9",
   "metadata": {},
   "outputs": [
    {
     "name": "stdout",
     "output_type": "stream",
     "text": [
      "Tweet\n",
      "Meow\n"
     ]
    }
   ],
   "source": [
    "class Bird:\n",
    "    def speak(self):\n",
    "        return \"Tweet\"\n",
    "\n",
    "class Cat:\n",
    "    def speak(self):\n",
    "        return \"Meow\"\n",
    "\n",
    "def animal_sound(animal):\n",
    "    print(animal.speak())\n",
    "\n",
    "animal_sound(Bird())  # Tweet\n",
    "animal_sound(Cat())   # Meow\n"
   ]
  },
  {
   "cell_type": "markdown",
   "id": "7e3b7ef3-60fd-4af9-baa3-833b03b4c953",
   "metadata": {},
   "source": [
    "## Destructor (__del__)"
   ]
  },
  {
   "cell_type": "code",
   "execution_count": 86,
   "id": "f6bd85a6-4c3d-48f2-a46a-eda443dc426a",
   "metadata": {},
   "outputs": [
    {
     "name": "stdout",
     "output_type": "stream",
     "text": [
      "Object is deleted.\n"
     ]
    }
   ],
   "source": [
    "class Temp:\n",
    "    def __del__(self):\n",
    "        print(\"Object is deleted.\")\n",
    "\n",
    "t = Temp()\n",
    "del t  # 🔥 Object is deleted.\n"
   ]
  },
  {
   "cell_type": "markdown",
   "id": "73b2d11a-1bba-4b0b-8b8d-de6729b0ca73",
   "metadata": {},
   "source": [
    "## Magic Methods (a.k.a Dunder Methods)"
   ]
  },
  {
   "cell_type": "code",
   "execution_count": 89,
   "id": "a72ce296-7344-4573-9989-f21d5f740217",
   "metadata": {},
   "outputs": [
    {
     "name": "stdout",
     "output_type": "stream",
     "text": [
      "Book: 1984\n"
     ]
    }
   ],
   "source": [
    "# Like __str__, __len__, __add__, etc.\n",
    "class Book:\n",
    "    def __init__(self, title):\n",
    "        self.title = title\n",
    "\n",
    "    def __str__(self):\n",
    "        return f\"Book: {self.title}\"\n",
    "\n",
    "b = Book(\"1984\")\n",
    "print(b)  # Book: 1984\n"
   ]
  },
  {
   "cell_type": "code",
   "execution_count": 91,
   "id": "256b62d8-ac46-47c3-aab3-9a4c2f1a52e0",
   "metadata": {},
   "outputs": [
    {
     "name": "stdout",
     "output_type": "stream",
     "text": [
      "Zafar is 23 years old and has 3 friends.\n",
      "MagicPerson(name='Zafar', age=23)\n",
      "3\n",
      "Sherry\n",
      "True\n",
      "Zafar-Ahmad is 44 years old and has 4 friends.\n",
      "☠️ Zafar-Ahmad has been deleted.\n",
      "False\n",
      "False\n",
      "Hello! I'm Zafar, call me maybe? 🎵\n",
      "True\n",
      "Friend: Hamza\n",
      "Friend: Zeeshan\n",
      "1973585847778832402\n",
      "🌀 Entering the world of Asad\n",
      "Asad is 30 years old and has 1 friends.\n",
      "👋 Exiting the world of Asad\n",
      "Zafar (23)\n",
      "☠️ Zafar has been deleted.\n"
     ]
    }
   ],
   "source": [
    "from copy import copy, deepcopy\n",
    "\n",
    "class MagicPerson:\n",
    "    def __init__(self, name, age, friends):\n",
    "        # Constructor to initialize object state\n",
    "        self.name = name\n",
    "        self.age = age\n",
    "        self.friends = friends\n",
    "        self._index = 0  # for iterator support\n",
    "\n",
    "    # Human-readable string (print)\n",
    "    def __str__(self):\n",
    "        return f\"{self.name} is {self.age} years old and has {len(self.friends)} friends.\"\n",
    "\n",
    "    # Developer string (repr or debugger)\n",
    "    def __repr__(self):\n",
    "        return f\"MagicPerson(name='{self.name}', age={self.age})\"\n",
    "\n",
    "    # Length: len(obj)\n",
    "    def __len__(self):\n",
    "        return len(self.friends)\n",
    "\n",
    "    # Indexing support: obj[index]\n",
    "    def __getitem__(self, index):\n",
    "        return self.friends[index]\n",
    "\n",
    "    # Set value at index: obj[index] = value\n",
    "    def __setitem__(self, index, value):\n",
    "        self.friends[index] = value\n",
    "\n",
    "    # Delete item: del obj[index]\n",
    "    def __delitem__(self, index):\n",
    "        del self.friends[index]\n",
    "\n",
    "    # 'in' keyword: \"Ali\" in obj\n",
    "    def __contains__(self, item):\n",
    "        return item in self.friends\n",
    "\n",
    "    # Object addition: obj1 + obj2\n",
    "    def __add__(self, other):\n",
    "        new_name = self.name + \"-\" + other.name\n",
    "        new_age = self.age + other.age\n",
    "        new_friends = self.friends + other.friends\n",
    "        return MagicPerson(new_name, new_age, new_friends)\n",
    "\n",
    "    # Equality check: obj1 == obj2\n",
    "    def __eq__(self, other):\n",
    "        return self.name == other.name and self.age == other.age\n",
    "\n",
    "    # Less than: obj1 < obj2 (by age)\n",
    "    def __lt__(self, other):\n",
    "        return self.age < other.age\n",
    "\n",
    "    # Callable: obj() like a function\n",
    "    def __call__(self):\n",
    "        return f\"Hello! I'm {self.name}, call me maybe? 🎵\"\n",
    "\n",
    "    # Destructor\n",
    "    def __del__(self):\n",
    "        print(f\"☠️ {self.name} has been deleted.\")\n",
    "\n",
    "    # Boolean value of object\n",
    "    def __bool__(self):\n",
    "        return bool(self.friends)\n",
    "\n",
    "    # Iterable support (for friend in obj)\n",
    "    def __iter__(self):\n",
    "        self._index = 0\n",
    "        return self\n",
    "\n",
    "    def __next__(self):\n",
    "        if self._index < len(self.friends):\n",
    "            result = self.friends[self._index]\n",
    "            self._index += 1\n",
    "            return result\n",
    "        raise StopIteration\n",
    "\n",
    "    # Custom hash (useful in sets, dict keys)\n",
    "    def __hash__(self):\n",
    "        return hash((self.name, self.age))\n",
    "\n",
    "    # Context manager support\n",
    "    def __enter__(self):\n",
    "        print(f\"🌀 Entering the world of {self.name}\")\n",
    "        return self\n",
    "\n",
    "    def __exit__(self, exc_type, exc_val, exc_tb):\n",
    "        print(f\"👋 Exiting the world of {self.name}\")\n",
    "\n",
    "    # Format support: format(obj, \"short\")\n",
    "    def __format__(self, format_spec):\n",
    "        if format_spec == \"short\":\n",
    "            return f\"{self.name} ({self.age})\"\n",
    "        return str(self)\n",
    "\n",
    "    # Shallow copy support\n",
    "    def __copy__(self):\n",
    "        return MagicPerson(self.name, self.age, self.friends[:])\n",
    "\n",
    "    # Deep copy support\n",
    "    def __deepcopy__(self, memo):\n",
    "        return MagicPerson(deepcopy(self.name, memo), deepcopy(self.age, memo), deepcopy(self.friends, memo))\n",
    "\n",
    "# -----------------------------\n",
    "# USAGE DEMO (like a test suite)\n",
    "# -----------------------------\n",
    "if __name__ == \"__main__\":\n",
    "    zafar = MagicPerson(\"Zafar\", 23, [\"Hamza\", \"Sherry\", \"Ali\"])\n",
    "    ahmad = MagicPerson(\"Ahmad\", 21, [\"Imran\", \"Tariq\"])\n",
    "\n",
    "    print(zafar)                     # __str__\n",
    "    print(repr(zafar))              # __repr__\n",
    "    print(len(zafar))               # __len__\n",
    "    print(zafar[1])                 # __getitem__\n",
    "    zafar[1] = \"Zeeshan\"            # __setitem__\n",
    "    del zafar[2]                    # __delitem__\n",
    "    print(\"Hamza\" in zafar)         # __contains__\n",
    "    print((zafar + ahmad))          # __add__\n",
    "    print(zafar == ahmad)           # __eq__\n",
    "    print(zafar < ahmad)            # __lt__\n",
    "    print(zafar())                  # __call__\n",
    "\n",
    "    print(bool(zafar))              # __bool__\n",
    "    for friend in zafar:            # __iter__ + __next__\n",
    "        print(\"Friend:\", friend)\n",
    "\n",
    "    print(hash(zafar))              # __hash__\n",
    "\n",
    "    with MagicPerson(\"Asad\", 30, [\"Qasim\"]) as mp:  # __enter__, __exit__\n",
    "        print(mp)\n",
    "\n",
    "    print(format(zafar, \"short\"))   # __format__\n",
    "\n",
    "    zafar_copy = copy(zafar)        # __copy__\n",
    "    zafar_deep = deepcopy(zafar)    # __deepcopy__\n",
    "\n",
    "    del zafar                       # __del__\n"
   ]
  },
  {
   "cell_type": "markdown",
   "id": "c0384dc0-eb5e-4200-baf6-2d1ceb7e846c",
   "metadata": {},
   "source": [
    "## Abstraction "
   ]
  },
  {
   "cell_type": "code",
   "execution_count": 94,
   "id": "c3cf9254-4521-4874-b82c-ae89c34c4d8b",
   "metadata": {},
   "outputs": [
    {
     "name": "stdout",
     "output_type": "stream",
     "text": [
      "Zafar's balance is: 1000 💰\n",
      "Deposited 500 ✅\n",
      "Withdrawn 300 ✅\n",
      "Zafar's balance is: 1200 💰\n"
     ]
    }
   ],
   "source": [
    "# Abstraction is about hiding unnecessary details and showing only the essential features of an object.\n",
    "from abc import ABC, abstractmethod\n",
    "\n",
    "# 🔐 Abstract Base Class\n",
    "class Account(ABC):\n",
    "    def __init__(self, owner, balance=0):\n",
    "        self.owner = owner\n",
    "        self.balance = balance\n",
    "\n",
    "    @abstractmethod\n",
    "    def deposit(self, amount):\n",
    "        pass  # 💡 Must be implemented by subclasses\n",
    "\n",
    "    @abstractmethod\n",
    "    def withdraw(self, amount):\n",
    "        pass\n",
    "\n",
    "    def show_balance(self):\n",
    "        print(f\"{self.owner}'s balance is: {self.balance} 💰\")\n",
    "\n",
    "# 🏦 Concrete Subclass\n",
    "class SavingsAccount(Account):\n",
    "    def deposit(self, amount):\n",
    "        self.balance += amount\n",
    "        print(f\"Deposited {amount} ✅\")\n",
    "\n",
    "    def withdraw(self, amount):\n",
    "        if amount > self.balance:\n",
    "            print(\"❌ Not enough balance!\")\n",
    "        else:\n",
    "            self.balance -= amount\n",
    "            print(f\"Withdrawn {amount} ✅\")\n",
    "\n",
    "# -----------------------------\n",
    "# 🚀 Usage\n",
    "# -----------------------------\n",
    "zafar_acc = SavingsAccount(\"Zafar\", 1000)\n",
    "zafar_acc.show_balance()\n",
    "zafar_acc.deposit(500)\n",
    "zafar_acc.withdraw(300)\n",
    "zafar_acc.show_balance()\n"
   ]
  },
  {
   "cell_type": "markdown",
   "id": "be2f81bb-3a3a-4119-98bf-d46403ec4f5e",
   "metadata": {},
   "source": [
    "# THE FOUR PILLARS OF OOP"
   ]
  },
  {
   "cell_type": "markdown",
   "id": "3149560d-2ef4-4b1e-ab1c-6f940c96b328",
   "metadata": {},
   "source": [
    "## 1. Encapsulation\n",
    "### Definition:\n",
    "#### Wrapping data and methods into a single unit (class), and restricting direct access to some of the object's components.\n",
    "\n",
    "### Real-life Example:\n",
    "#### A bank ATM: You can deposit or withdraw using buttons, but you can't directly access the ATM's internal cash vault."
   ]
  },
  {
   "cell_type": "code",
   "execution_count": 98,
   "id": "2a152ee1-0bad-42b5-8be7-447afe7b562e",
   "metadata": {},
   "outputs": [
    {
     "name": "stdout",
     "output_type": "stream",
     "text": [
      "1500\n"
     ]
    }
   ],
   "source": [
    "class BankAccount:\n",
    "    def __init__(self, balance):\n",
    "        self.__balance = balance  # private variable\n",
    "\n",
    "    def deposit(self, amount):\n",
    "        self.__balance += amount\n",
    "\n",
    "    def get_balance(self):\n",
    "        return self.__balance\n",
    "\n",
    "acc = BankAccount(1000)\n",
    "acc.deposit(500)\n",
    "print(acc.get_balance())  # ✅ 1500\n",
    "# print(acc.__balance)   ❌ Will throw error: private\n"
   ]
  },
  {
   "cell_type": "markdown",
   "id": "a7e2a843-8774-45bd-be6b-cb30bca5f862",
   "metadata": {},
   "source": [
    "## 2. Inheritance"
   ]
  },
  {
   "cell_type": "markdown",
   "id": "13cad459-2efe-4f0a-8474-5620a088c690",
   "metadata": {},
   "source": [
    "### Definition:\n",
    "#### When a class (child) inherits properties and behavior from another class (parent).\n",
    "\n",
    "### Real-life Example:\n",
    "#### A Car inherits features like wheels and engine from a general Vehicle class."
   ]
  },
  {
   "cell_type": "code",
   "execution_count": 102,
   "id": "de499ac4-256a-4c48-854f-c18441ebc74f",
   "metadata": {},
   "outputs": [
    {
     "name": "stdout",
     "output_type": "stream",
     "text": [
      "Engine started 🚗\n",
      "Car is driving...\n"
     ]
    }
   ],
   "source": [
    "class Vehicle:\n",
    "    def start_engine(self):\n",
    "        print(\"Engine started 🚗\")\n",
    "\n",
    "class Car(Vehicle):\n",
    "    def drive(self):\n",
    "        print(\"Car is driving...\")\n",
    "\n",
    "c = Car()\n",
    "c.start_engine()  # Inherited\n",
    "c.drive()         # Own method\n"
   ]
  },
  {
   "cell_type": "markdown",
   "id": "6149a327-4366-4358-b226-684bebc0672f",
   "metadata": {},
   "source": [
    "## 3. Polymorphism\n",
    "### Definition:\n",
    "#### Same method name behaving differently in different classes.\n",
    "\n",
    "### Real-life Example:\n",
    "#### Humans, Birds, and Dogs all respond to the word \"speak\" differently:\n",
    "  #### Human talks\n",
    "\n",
    "  #### Dog barks\n",
    "\n",
    "  #### Bird chirps"
   ]
  },
  {
   "cell_type": "code",
   "execution_count": 105,
   "id": "f8b848bd-ba09-4fdc-b0ee-ada7c01cb107",
   "metadata": {},
   "outputs": [
    {
     "name": "stdout",
     "output_type": "stream",
     "text": [
      "Hello!\n",
      "Woof!\n",
      "Tweet!\n"
     ]
    }
   ],
   "source": [
    "class Human:\n",
    "    def speak(self):\n",
    "        print(\"Hello!\")\n",
    "\n",
    "class Dog:\n",
    "    def speak(self):\n",
    "        print(\"Woof!\")\n",
    "\n",
    "class Bird:\n",
    "    def speak(self):\n",
    "        print(\"Tweet!\")\n",
    "\n",
    "def animal_sound(obj):\n",
    "    obj.speak()\n",
    "\n",
    "animal_sound(Human())  # Hello!\n",
    "animal_sound(Dog())    # Woof!\n",
    "animal_sound(Bird())   # Tweet!\n"
   ]
  },
  {
   "cell_type": "markdown",
   "id": "92c590dc-ef30-4677-b045-9d7860896ea3",
   "metadata": {},
   "source": [
    "## 4. Abstraction\n",
    "### Definition:\n",
    "#### Hiding unnecessary details and showing only the essential ones using interfaces or abstract classes.\n",
    "\n",
    "### Real-life Example:\n",
    "#### You drive a car using steering, accelerator, brake — you don’t care how the engine transmits torque."
   ]
  },
  {
   "cell_type": "code",
   "execution_count": 108,
   "id": "d29effa0-aa2c-4e25-adf2-2edff1b966ca",
   "metadata": {},
   "outputs": [
    {
     "name": "stdout",
     "output_type": "stream",
     "text": [
      "Paid $100 via PayPal\n",
      "Charged $100 via Stripe\n"
     ]
    }
   ],
   "source": [
    "from abc import ABC, abstractmethod\n",
    "\n",
    "class Payment(ABC):\n",
    "    @abstractmethod\n",
    "    def pay(self, amount):\n",
    "        pass\n",
    "\n",
    "class PayPal(Payment):\n",
    "    def pay(self, amount):\n",
    "        print(f\"Paid ${amount} via PayPal\")\n",
    "\n",
    "class Stripe(Payment):\n",
    "    def pay(self, amount):\n",
    "        print(f\"Charged ${amount} via Stripe\")\n",
    "\n",
    "def checkout(payment_method):\n",
    "    payment_method.pay(100)\n",
    "\n",
    "checkout(PayPal())  # Paid $100 via PayPal\n",
    "checkout(Stripe())  # Charged $100 via Stripe\n"
   ]
  },
  {
   "cell_type": "code",
   "execution_count": 110,
   "id": "b8f853c2-029f-493c-82a8-ff2de3ef3039",
   "metadata": {},
   "outputs": [
    {
     "name": "stdout",
     "output_type": "stream",
     "text": [
      "Sending email: Hello, world!\n",
      "Sending SMS: Hello, world!\n"
     ]
    }
   ],
   "source": [
    "class NotificationSender(ABC):\n",
    "    @abstractmethod\n",
    "    def send(self, msg):\n",
    "        pass\n",
    "\n",
    "class EmailSender(NotificationSender):\n",
    "    def send(self, msg):\n",
    "        print(f\"Sending email: {msg}\")\n",
    "\n",
    "class SMSSender(NotificationSender):\n",
    "    def send(self, msg):\n",
    "        print(f\"Sending SMS: {msg}\")\n",
    "\n",
    "# Usage\n",
    "def notify_all(senders, message):\n",
    "    for sender in senders:\n",
    "        sender.send(message)\n",
    "\n",
    "notify_all([EmailSender(), SMSSender()], \"Hello, world!\")\n"
   ]
  },
  {
   "cell_type": "markdown",
   "id": "8697c548-f4d2-4233-8df9-02f5220460bd",
   "metadata": {},
   "source": [
    "##### You don’t know how EmailSender or SMSSender deliver the message. You just call .send() — this is classic abstraction."
   ]
  },
  {
   "cell_type": "code",
   "execution_count": 113,
   "id": "4ab4afb6-9aee-4c3a-bb09-af1da3bb50a0",
   "metadata": {},
   "outputs": [],
   "source": [
    "class phone(ABC):\n",
    "    def __init__(self,name,num):\n",
    "        self.name=name\n",
    "        self.num=num\n",
    "    @abstractmethod\n",
    "    def call(self,num):\n",
    "        pass\n",
    "    @abstractmethod\n",
    "    def receive(self):\n",
    "        pass\n",
    "    def phone_number(self):\n",
    "        print(f\"Phone number of {self.name} is {self.num}\" )  \n",
    "\n",
    "class android(phone):\n",
    "    def call(self):\n",
    "        print(f\"Calling to {self.num} through android \")\n",
    "        \n",
    "    def receive(self):\n",
    "        print(f\"Receiving num {self.num} through android \")\n",
    "class iphone(phone):\n",
    "    def call(self):\n",
    "        print(f\"Calling to {self.num} through android \")\n",
    "        \n",
    "    def receive(self):\n",
    "        print(f\"Receiving num  {self.num} through android \")\n",
    "\n",
    "      "
   ]
  },
  {
   "cell_type": "code",
   "execution_count": 115,
   "id": "53acec4c-28f8-4bc9-ac19-2cccfd94a028",
   "metadata": {},
   "outputs": [],
   "source": [
    "Redmi=android('Redmi Node 14',324)"
   ]
  },
  {
   "cell_type": "code",
   "execution_count": 117,
   "id": "edbab457-bc44-46f1-84b7-83ff73de198c",
   "metadata": {},
   "outputs": [
    {
     "name": "stdout",
     "output_type": "stream",
     "text": [
      "Calling to 324 through android \n"
     ]
    }
   ],
   "source": [
    "Redmi.call()"
   ]
  },
  {
   "cell_type": "code",
   "execution_count": 119,
   "id": "caa9c3d1-8aa0-4d58-af6d-01d997238c01",
   "metadata": {},
   "outputs": [
    {
     "name": "stdout",
     "output_type": "stream",
     "text": [
      "Phone number of Redmi Node 14 is 324\n"
     ]
    }
   ],
   "source": [
    "Redmi.phone_number()"
   ]
  },
  {
   "cell_type": "code",
   "execution_count": 121,
   "id": "f0dc392f-3137-45c4-a233-bcd7e47f0692",
   "metadata": {},
   "outputs": [
    {
     "name": "stdout",
     "output_type": "stream",
     "text": [
      "Receiving num 324 through android \n"
     ]
    }
   ],
   "source": [
    "Redmi.receive()"
   ]
  },
  {
   "cell_type": "code",
   "execution_count": 123,
   "id": "1f7d60c0-86e8-445f-aec2-eb57364ff38b",
   "metadata": {},
   "outputs": [
    {
     "name": "stdout",
     "output_type": "stream",
     "text": [
      "Calling to 555 through android \n",
      "Receiving num  555 through android \n",
      "Phone number of Iphone is 555\n"
     ]
    }
   ],
   "source": [
    "Apple=iphone('Iphone',555)\n",
    "Apple.call()\n",
    "Apple.receive()\n",
    "Apple.phone_number()"
   ]
  }
 ],
 "metadata": {
  "kernelspec": {
   "display_name": "Python 3 (ipykernel)",
   "language": "python",
   "name": "python3"
  },
  "language_info": {
   "codemirror_mode": {
    "name": "ipython",
    "version": 3
   },
   "file_extension": ".py",
   "mimetype": "text/x-python",
   "name": "python",
   "nbconvert_exporter": "python",
   "pygments_lexer": "ipython3",
   "version": "3.12.2"
  }
 },
 "nbformat": 4,
 "nbformat_minor": 5
}
