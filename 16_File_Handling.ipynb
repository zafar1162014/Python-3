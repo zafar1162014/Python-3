{
 "cells": [
  {
   "cell_type": "markdown",
   "id": "b91738b9-8d63-47d4-9803-fe66e0a0bdb1",
   "metadata": {},
   "source": [
    "# File Handling"
   ]
  },
  {
   "cell_type": "markdown",
   "id": "163bd51c-03ac-464a-89b3-9259cf401ac9",
   "metadata": {},
   "source": [
    "## TXT file"
   ]
  },
  {
   "cell_type": "code",
   "execution_count": 4,
   "id": "2d08fb9e-5b0e-4a8a-a876-53fade8cfc6e",
   "metadata": {},
   "outputs": [],
   "source": [
    "filename='zafar.txt'"
   ]
  },
  {
   "cell_type": "code",
   "execution_count": 5,
   "id": "a519cd01-894e-4381-b7a0-f0e8446bcc48",
   "metadata": {},
   "outputs": [],
   "source": [
    "with open(filename,'w') as file:\n",
    "    file.write('Assalam o alaikum Everyone \\n')\n",
    "    file.writelines(['Hamdan\\n','Shahzaib\\n','ayaan\\n'])\n",
    "    file.flush()\n",
    "    file.close()"
   ]
  },
  {
   "cell_type": "code",
   "execution_count": 6,
   "id": "c5030d48-057d-4fb4-86db-e780551a7fbb",
   "metadata": {},
   "outputs": [
    {
     "name": "stdout",
     "output_type": "stream",
     "text": [
      "Full Content with read() :\n",
      "Assalam o alaikum Everyone \n",
      "Hamdan\n",
      "Shahzaib\n",
      "ayaan\n",
      "\n",
      "50\n",
      "Display line by line : \n",
      "28\n",
      "Assalam o alaikum Everyone \n",
      "Hamdan\n",
      "Shahzaib\n",
      "ayaan\n",
      "50\n",
      "🔹 All lines as list using readlines():\n",
      "['Assalam o alaikum Everyone \\n', 'Hamdan\\n', 'Shahzaib\\n', 'ayaan\\n']\n"
     ]
    }
   ],
   "source": [
    "with open(filename,'r') as file:\n",
    "    print('Full Content with read() :')\n",
    "    read=file.read()\n",
    "    print(read)\n",
    "    print(file.tell())\n",
    "    file.seek(0) # reset to start\n",
    "    print('Display line by line : ')\n",
    "    x=file.readline()\n",
    "    print(file.tell())\n",
    "    while x:\n",
    "       print(x,end='')\n",
    "       x=file.readline()\n",
    "    print(file.tell())\n",
    "    file.seek(0)\n",
    "    print(\"🔹 All lines as list using readlines():\")\n",
    "    print(file.readlines())\n",
    "    file.close()"
   ]
  },
  {
   "cell_type": "code",
   "execution_count": 7,
   "id": "113d8938-abb1-4012-a242-cfbf8fe96caf",
   "metadata": {},
   "outputs": [
    {
     "name": "stdout",
     "output_type": "stream",
     "text": [
      "🔹 After append, position is: 76\n"
     ]
    }
   ],
   "source": [
    "\n",
    "with open(filename, 'a') as file:\n",
    "    file.write(\"This is an appended line.\\n\")\n",
    "    print(\"🔹 After append, position is:\", file.tell())\n",
    "    file.close()\n"
   ]
  },
  {
   "cell_type": "code",
   "execution_count": 8,
   "id": "62b9942c-8ad9-46d8-bfc0-a8618a440f06",
   "metadata": {},
   "outputs": [
    {
     "name": "stdout",
     "output_type": "stream",
     "text": [
      "🔹 Truncated the file to 50 bytes.\n",
      "Assalam o alaikum Everyone \n",
      "Hamdan\n",
      "Shahzaib\n",
      "ayaan\n",
      "\n",
      "🔁 Confirmed from new open:\n",
      "Assalam o alaikum Everyone \n",
      "Hamdan\n",
      "Shahzaib\n",
      "ayaan\n",
      "\n"
     ]
    }
   ],
   "source": [
    "with open(filename, 'r+') as file:\n",
    "    file.truncate(50)\n",
    "    file.seek(0)\n",
    "    print(\"🔹 Truncated the file to 50 bytes.\")\n",
    "    read = file.read()\n",
    "    print(read)\n",
    "    file.close()\n",
    "\n",
    "with open(filename, 'r') as file:\n",
    "    print(\"🔁 Confirmed from new open:\")\n",
    "    print(file.read())\n",
    "    file.close()"
   ]
  },
  {
   "cell_type": "code",
   "execution_count": 9,
   "id": "ca05f9d8-1685-4d0a-b6a4-12c5a12994ed",
   "metadata": {},
   "outputs": [
    {
     "name": "stdout",
     "output_type": "stream",
     "text": [
      "file zafar.txt is exists\n"
     ]
    }
   ],
   "source": [
    "import os \n",
    "\n",
    "if os.path.exists(filename):\n",
    "    print('file {} is exists'.format(filename))\n",
    "else:\n",
    "    print(\"file not exists\")"
   ]
  },
  {
   "cell_type": "code",
   "execution_count": 10,
   "id": "94829a10-2c88-496a-acd1-0553e80afec5",
   "metadata": {},
   "outputs": [],
   "source": [
    "new_file='temp.txt'\n",
    "os.rename(filename,new_file)\n"
   ]
  },
  {
   "cell_type": "code",
   "execution_count": 11,
   "id": "9c0fd17e-9aff-4510-bcfb-abf98ef97b8c",
   "metadata": {},
   "outputs": [
    {
     "name": "stdout",
     "output_type": "stream",
     "text": [
      "file not exists\n",
      "file zafar.txt is exists\n"
     ]
    }
   ],
   "source": [
    "if os.path.exists(filename):\n",
    "    print('file {} is exists'.format(filename))\n",
    "else:\n",
    "    print(\"file not exists\")\n",
    "\n",
    "if os.path.exists(new_file):\n",
    "    print('file {} is exists'.format(filename))\n",
    "else:\n",
    "    print(\"file not exists\")"
   ]
  },
  {
   "cell_type": "code",
   "execution_count": 12,
   "id": "553d8cc0-f637-47c2-8242-3ac60c5e90b3",
   "metadata": {},
   "outputs": [
    {
     "name": "stdout",
     "output_type": "stream",
     "text": [
      "zafar.txt   temp.txt\n"
     ]
    }
   ],
   "source": [
    "import shutil\n",
    "print(filename,' ' , new_file)\n"
   ]
  },
  {
   "cell_type": "code",
   "execution_count": 13,
   "id": "366b43c6-22ce-4c94-b31f-a8b4f8fc3435",
   "metadata": {},
   "outputs": [],
   "source": [
    "\n",
    "with open(filename, 'w') as f:\n",
    "    f.write(\" \")\n",
    "    file.close()"
   ]
  },
  {
   "cell_type": "code",
   "execution_count": 14,
   "id": "247df067-e395-4a65-8e4a-eb7af4b8cdc6",
   "metadata": {},
   "outputs": [
    {
     "data": {
      "text/plain": [
       "'zafar.txt'"
      ]
     },
     "execution_count": 14,
     "metadata": {},
     "output_type": "execute_result"
    }
   ],
   "source": [
    "shutil.copy(new_file,filename)"
   ]
  },
  {
   "cell_type": "code",
   "execution_count": 15,
   "id": "5ffd8d8e-fdca-4602-98fd-eeb4a7c75261",
   "metadata": {},
   "outputs": [
    {
     "name": "stdout",
     "output_type": "stream",
     "text": [
      "Assalam o alaikum Everyone \n",
      "Hamdan\n",
      "Shahzaib\n",
      "ayaan\n",
      "\n"
     ]
    }
   ],
   "source": [
    "with open(filename,'r') as file:\n",
    "    read=file.read()\n",
    "    print(read)"
   ]
  },
  {
   "cell_type": "code",
   "execution_count": 16,
   "id": "71d3505a-f2df-409b-8d87-6b74b0e4e2fc",
   "metadata": {},
   "outputs": [],
   "source": [
    "os.remove(filename)"
   ]
  },
  {
   "cell_type": "code",
   "execution_count": 17,
   "id": "b6f800a7-64ad-4858-adc3-55f6925a2f45",
   "metadata": {},
   "outputs": [],
   "source": [
    "os.remove(new_file)"
   ]
  },
  {
   "cell_type": "markdown",
   "id": "6f1f85a8-4118-4729-a5eb-7493047e9108",
   "metadata": {},
   "source": [
    " # CSV File"
   ]
  },
  {
   "cell_type": "code",
   "execution_count": 19,
   "id": "b86005ff-bdf2-4888-b184-95c1e13e8c90",
   "metadata": {},
   "outputs": [],
   "source": [
    "import csv\n",
    "import os\n",
    "import shutil"
   ]
  },
  {
   "cell_type": "code",
   "execution_count": 20,
   "id": "71f9d503-8ebb-49c9-b376-69ce05d547e8",
   "metadata": {},
   "outputs": [],
   "source": [
    "filename = 'zafar_data.csv'\n",
    "backup_file = 'zafar_backup.csv'"
   ]
  },
  {
   "cell_type": "code",
   "execution_count": 21,
   "id": "37805cbe-f2d6-4c57-a5ee-e874fe82f0f5",
   "metadata": {},
   "outputs": [],
   "source": [
    "data = [['Name', 'Age'], ['Zafar', 22], ['Hamdan', 21], ['Shahzaib', 20]]"
   ]
  },
  {
   "cell_type": "code",
   "execution_count": 22,
   "id": "fb9579a8-da16-49d1-87b9-0e2ec8433c20",
   "metadata": {},
   "outputs": [
    {
     "name": "stdout",
     "output_type": "stream",
     "text": [
      "['Name', 'Age']\n",
      "['Zafar', '22']\n",
      "['Hamdan', '21']\n",
      "['Shahzaib', '20']\n"
     ]
    }
   ],
   "source": [
    "with open(filename,'w+',newline='') as file:\n",
    "    writer=csv.writer(file)\n",
    "    writer.writerows(data)\n",
    "    file.seek(0)\n",
    "    for row in csv.reader(file):\n",
    "        print(row)"
   ]
  },
  {
   "cell_type": "code",
   "execution_count": 23,
   "id": "437e9793-2e77-49b1-b3b4-222c09b71020",
   "metadata": {},
   "outputs": [
    {
     "name": "stdout",
     "output_type": "stream",
     "text": [
      "✅ Appended 'Ayaan'.\n"
     ]
    }
   ],
   "source": [
    "with open(filename, 'a', newline='') as file:\n",
    "    writer = csv.writer(file)\n",
    "    writer.writerow(['Ayaan', 19])\n",
    "print(\"✅ Appended 'Ayaan'.\")\n"
   ]
  },
  {
   "cell_type": "code",
   "execution_count": 24,
   "id": "5446f7f6-1311-4e44-b0f4-1817fec11bc6",
   "metadata": {},
   "outputs": [
    {
     "name": "stdout",
     "output_type": "stream",
     "text": [
      "📖 Reading file content:\n",
      "['Name', 'Age']\n",
      "['Zafar', '22']\n",
      "['Hamdan', '21']\n",
      "['Shahzaib', '20']\n",
      "['Ayaan', '19']\n"
     ]
    }
   ],
   "source": [
    "with open(filename, 'r') as file:\n",
    "    reader = csv.reader(file)\n",
    "    print(\"📖 Reading file content:\")\n",
    "    for row in reader:\n",
    "        print(row)"
   ]
  },
  {
   "cell_type": "code",
   "execution_count": 25,
   "id": "a9d59f41-9cad-4c54-9bac-ce98f642885d",
   "metadata": {},
   "outputs": [
    {
     "name": "stdout",
     "output_type": "stream",
     "text": [
      "✂️ Truncated file to 50 bytes. New content:\n",
      "Name,Age\n",
      "Zafar,22\n",
      "Hamdan,21\n",
      "Shahzaib,20\n",
      "Ayaan,\n"
     ]
    }
   ],
   "source": [
    "with open(filename, 'r+') as file:\n",
    "    file.truncate(50)\n",
    "    file.seek(0)\n",
    "    print(\"✂️ Truncated file to 50 bytes. New content:\")\n",
    "    print(file.read())"
   ]
  },
  {
   "cell_type": "code",
   "execution_count": 26,
   "id": "12b1a8b9-6820-4986-a4c3-5e41cebe6f25",
   "metadata": {},
   "outputs": [
    {
     "name": "stdout",
     "output_type": "stream",
     "text": [
      "✅ File 'zafar_data.csv' exists.\n"
     ]
    }
   ],
   "source": [
    "if os.path.exists(filename):\n",
    "    print(f\"✅ File '{filename}' exists.\")\n",
    "else:\n",
    "    print(f\"❌ File '{filename}' does not exist.\")\n"
   ]
  },
  {
   "cell_type": "code",
   "execution_count": 27,
   "id": "eb484185-7b8b-4e7a-8d7a-05586df25aab",
   "metadata": {},
   "outputs": [
    {
     "name": "stdout",
     "output_type": "stream",
     "text": [
      "📋 Copied 'zafar_data.csv' to 'zafar_backup.csv'.\n"
     ]
    }
   ],
   "source": [
    "if os.path.exists(filename):\n",
    "    shutil.copy(filename, backup_file)\n",
    "    print(f\"📋 Copied '{filename}' to '{backup_file}'.\")\n",
    "else:\n",
    "    print(f\"❌ Cannot copy. Source file '{filename}' missing.\")\n"
   ]
  },
  {
   "cell_type": "code",
   "execution_count": 28,
   "id": "56296faa-abca-4939-abd9-8b7c02965a51",
   "metadata": {},
   "outputs": [
    {
     "name": "stdout",
     "output_type": "stream",
     "text": [
      "📄 All raw lines (with newline chars):\n",
      "['Name,Age\\n', 'Zafar,22\\n', 'Hamdan,21\\n', 'Shahzaib,20\\n', 'Ayaan,']\n"
     ]
    }
   ],
   "source": [
    "with open(filename, 'r') as file:\n",
    "    lines = file.readlines()\n",
    "    print(\"📄 All raw lines (with newline chars):\")\n",
    "    print(lines)\n"
   ]
  },
  {
   "cell_type": "code",
   "execution_count": 29,
   "id": "109e34ca-d57a-44c3-9b57-0119cdd57e1b",
   "metadata": {},
   "outputs": [],
   "source": [
    "os.remove(filename)\n",
    "os.remove(backup_file)"
   ]
  },
  {
   "cell_type": "code",
   "execution_count": null,
   "id": "b9fbdc82-c961-42f5-ac74-40b98fd3cdfe",
   "metadata": {},
   "outputs": [],
   "source": []
  }
 ],
 "metadata": {
  "kernelspec": {
   "display_name": "Python 3 (ipykernel)",
   "language": "python",
   "name": "python3"
  },
  "language_info": {
   "codemirror_mode": {
    "name": "ipython",
    "version": 3
   },
   "file_extension": ".py",
   "mimetype": "text/x-python",
   "name": "python",
   "nbconvert_exporter": "python",
   "pygments_lexer": "ipython3",
   "version": "3.12.2"
  }
 },
 "nbformat": 4,
 "nbformat_minor": 5
}
