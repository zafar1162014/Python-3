{
 "cells": [
  {
   "cell_type": "markdown",
   "id": "dd4fd57a-07b4-415c-b44a-7bf2dd8c898a",
   "metadata": {},
   "source": [
    "# Dictionary"
   ]
  },
  {
   "cell_type": "code",
   "execution_count": 3,
   "id": "23e77b12-cde8-49a3-8b48-2b19269c20bb",
   "metadata": {},
   "outputs": [
    {
     "data": {
      "text/plain": [
       "{'name': 'Zafar', 'Roll no': 193}"
      ]
     },
     "execution_count": 3,
     "metadata": {},
     "output_type": "execute_result"
    }
   ],
   "source": [
    "d1={\n",
    "    'name':'Zafar',\n",
    "     'Roll no':193\n",
    "}\n",
    "d1"
   ]
  },
  {
   "cell_type": "code",
   "execution_count": 4,
   "id": "656b2ee1-0cd1-4519-ac96-5a9ba7a562b1",
   "metadata": {},
   "outputs": [
    {
     "data": {
      "text/plain": [
       "{'_id': 193, 'name': 'abc', 'price': 200}"
      ]
     },
     "execution_count": 4,
     "metadata": {},
     "output_type": "execute_result"
    }
   ],
   "source": [
    "d2=dict(_id=193,name='abc',price=200)\n",
    "d2"
   ]
  },
  {
   "cell_type": "code",
   "execution_count": 5,
   "id": "3160f212-eb85-489a-901f-859e8b48d5c8",
   "metadata": {},
   "outputs": [
    {
     "data": {
      "text/plain": [
       "{'name': 'Zafar'}"
      ]
     },
     "execution_count": 5,
     "metadata": {},
     "output_type": "execute_result"
    }
   ],
   "source": [
    "d3 ={\n",
    "    'name':'ayaan',\n",
    "    'name':'Zafar'\n",
    "}\n",
    "d3"
   ]
  },
  {
   "cell_type": "code",
   "execution_count": 6,
   "id": "46f8ec52-058d-482e-a81b-edf1aa1379cd",
   "metadata": {},
   "outputs": [
    {
     "data": {
      "text/plain": [
       "'Zafar'"
      ]
     },
     "execution_count": 6,
     "metadata": {},
     "output_type": "execute_result"
    }
   ],
   "source": [
    "d1['name']"
   ]
  },
  {
   "cell_type": "code",
   "execution_count": 7,
   "id": "43254253-9c5a-48a4-9d6d-51aa6b2f7064",
   "metadata": {},
   "outputs": [],
   "source": [
    "d4 = {\n",
    "    '_id'     : 1,\n",
    "    \"name\"    : 'MZA',\n",
    "    'M1'      : [10,20,30,40],\n",
    "    'M2'      : (10,20,30,40),\n",
    "    'M3'      : {10,20,30,40}\n",
    "}"
   ]
  },
  {
   "cell_type": "code",
   "execution_count": 8,
   "id": "46ba1717-a869-43d3-b35e-50563f6ac5a7",
   "metadata": {},
   "outputs": [
    {
     "data": {
      "text/plain": [
       "{'_id': 1,\n",
       " 'name': 'MZA',\n",
       " 'M1': [10, 20, 30, 40],\n",
       " 'M2': (10, 20, 30, 40),\n",
       " 'M3': {10, 20, 30, 40}}"
      ]
     },
     "execution_count": 8,
     "metadata": {},
     "output_type": "execute_result"
    }
   ],
   "source": [
    "d4"
   ]
  },
  {
   "cell_type": "code",
   "execution_count": 9,
   "id": "1b7d1a0f-0b30-47a0-ac18-4aaf8811b846",
   "metadata": {},
   "outputs": [
    {
     "data": {
      "text/plain": [
       "dict_keys(['_id', 'name', 'M1', 'M2', 'M3'])"
      ]
     },
     "execution_count": 9,
     "metadata": {},
     "output_type": "execute_result"
    }
   ],
   "source": [
    "d4.keys()"
   ]
  },
  {
   "cell_type": "code",
   "execution_count": 10,
   "id": "d4ec9943-e5ec-4efa-99f3-bc3b7d1c5280",
   "metadata": {},
   "outputs": [
    {
     "data": {
      "text/plain": [
       "dict_values([1, 'MZA', [10, 20, 30, 40], (10, 20, 30, 40), {40, 10, 20, 30}])"
      ]
     },
     "execution_count": 10,
     "metadata": {},
     "output_type": "execute_result"
    }
   ],
   "source": [
    "d4.values()"
   ]
  },
  {
   "cell_type": "code",
   "execution_count": 11,
   "id": "3619e2ce-cce7-4d70-a496-704657aaabcd",
   "metadata": {},
   "outputs": [
    {
     "data": {
      "text/plain": [
       "dict_items([('_id', 1), ('name', 'MZA'), ('M1', [10, 20, 30, 40]), ('M2', (10, 20, 30, 40)), ('M3', {40, 10, 20, 30})])"
      ]
     },
     "execution_count": 11,
     "metadata": {},
     "output_type": "execute_result"
    }
   ],
   "source": [
    "d4.items()"
   ]
  },
  {
   "cell_type": "code",
   "execution_count": 12,
   "id": "ce48beec-fd71-44ff-baff-b2fb40370430",
   "metadata": {},
   "outputs": [],
   "source": [
    "d4['item']=True"
   ]
  },
  {
   "cell_type": "code",
   "execution_count": 13,
   "id": "fe124306-9f21-47ba-8fa0-cb12ebad2b0e",
   "metadata": {},
   "outputs": [
    {
     "data": {
      "text/plain": [
       "{'_id': 1,\n",
       " 'name': 'MZA',\n",
       " 'M1': [10, 20, 30, 40],\n",
       " 'M2': (10, 20, 30, 40),\n",
       " 'M3': {10, 20, 30, 40},\n",
       " 'item': True}"
      ]
     },
     "execution_count": 13,
     "metadata": {},
     "output_type": "execute_result"
    }
   ],
   "source": [
    "d4"
   ]
  },
  {
   "cell_type": "code",
   "execution_count": 14,
   "id": "8ed732bf-bab6-47fa-8af2-39f8762a88e0",
   "metadata": {},
   "outputs": [
    {
     "data": {
      "text/plain": [
       "{'_id': 1,\n",
       " 'name': 'MZA',\n",
       " 'M1': [10, 20, 30, 40],\n",
       " 'M2': (10, 20, 30, 40),\n",
       " 'M3': {10, 20, 30, 40},\n",
       " 'item': True,\n",
       " 'M4': False}"
      ]
     },
     "execution_count": 14,
     "metadata": {},
     "output_type": "execute_result"
    }
   ],
   "source": [
    "d4['M4'] = False\n",
    "d4"
   ]
  },
  {
   "cell_type": "code",
   "execution_count": 15,
   "id": "5f6ce1aa-145e-486f-8a70-196ede92b761",
   "metadata": {},
   "outputs": [
    {
     "data": {
      "text/plain": [
       "{'_id': 1,\n",
       " 'name': 'MZA',\n",
       " 'M1': [10, 20, 30, 40],\n",
       " 'M2': (10, 20, 30, 40),\n",
       " 'M3': {10, 20, 30, 40},\n",
       " 'M4': False}"
      ]
     },
     "execution_count": 15,
     "metadata": {},
     "output_type": "execute_result"
    }
   ],
   "source": [
    "d4.pop('item')\n",
    "d4"
   ]
  },
  {
   "cell_type": "code",
   "execution_count": 16,
   "id": "e90af014-132c-4f96-8e42-175dc4b555d1",
   "metadata": {},
   "outputs": [],
   "source": [
    "d4['M4']=True"
   ]
  },
  {
   "cell_type": "code",
   "execution_count": 17,
   "id": "2798f143-6830-4cc9-bc8e-d1046038d418",
   "metadata": {},
   "outputs": [
    {
     "data": {
      "text/plain": [
       "{'_id': 1,\n",
       " 'name': 'MZA',\n",
       " 'M1': [10, 20, 30, 40],\n",
       " 'M2': (10, 20, 30, 40),\n",
       " 'M3': {10, 20, 30, 40},\n",
       " 'M4': True}"
      ]
     },
     "execution_count": 17,
     "metadata": {},
     "output_type": "execute_result"
    }
   ],
   "source": [
    "d4"
   ]
  },
  {
   "cell_type": "code",
   "execution_count": 18,
   "id": "d5703f22-8100-4557-939b-995dbea31cd0",
   "metadata": {},
   "outputs": [
    {
     "data": {
      "text/plain": [
       "{'_id': 1,\n",
       " 'name': 'MZA',\n",
       " 'M1': [10, 20, 30, 40],\n",
       " 'M2': (1, 2, 3, 4),\n",
       " 'M3': {10, 20, 30, 40},\n",
       " 'M4': True}"
      ]
     },
     "execution_count": 18,
     "metadata": {},
     "output_type": "execute_result"
    }
   ],
   "source": [
    "d4.update({'M2':(1,2,3,4)})\n",
    "d4"
   ]
  },
  {
   "cell_type": "code",
   "execution_count": 19,
   "id": "04d0461e-6545-4d74-b050-bd66092215d9",
   "metadata": {},
   "outputs": [
    {
     "data": {
      "text/plain": [
       "{'_id': 1,\n",
       " 'name': 'MZA',\n",
       " 'M1': [10, 20, 30, 40],\n",
       " 'M2': (1, 2, 3, 4),\n",
       " 'M3': {10, 20, 30, 40},\n",
       " 'M4': True}"
      ]
     },
     "execution_count": 19,
     "metadata": {},
     "output_type": "execute_result"
    }
   ],
   "source": [
    "d5=d4.copy()\n",
    "d5\n"
   ]
  },
  {
   "cell_type": "code",
   "execution_count": 22,
   "id": "76cd5bf5-a83b-4549-aca0-730b444b349b",
   "metadata": {},
   "outputs": [
    {
     "data": {
      "text/plain": [
       "{'_id': 1,\n",
       " 'name': 'MZA',\n",
       " 'M1': [10, 20, 30, 40],\n",
       " 'M2': (1, 2, 3, 4),\n",
       " 'M3': {10, 20, 30, 40}}"
      ]
     },
     "execution_count": 22,
     "metadata": {},
     "output_type": "execute_result"
    }
   ],
   "source": [
    "d4"
   ]
  },
  {
   "cell_type": "code",
   "execution_count": 24,
   "id": "abe5e3a3-a794-4297-bc8a-bbf2a02861e5",
   "metadata": {},
   "outputs": [
    {
     "data": {
      "text/plain": [
       "{'_id': 1, 'name': 'MZA', 'M1': [10, 20, 30, 40], 'M2': (1, 2, 3, 4)}"
      ]
     },
     "execution_count": 24,
     "metadata": {},
     "output_type": "execute_result"
    }
   ],
   "source": [
    "del d4['M3']\n",
    "d4"
   ]
  },
  {
   "cell_type": "code",
   "execution_count": 26,
   "id": "563a243e-b99b-4f22-b88e-01eb4f9bb03d",
   "metadata": {},
   "outputs": [],
   "source": [
    "d4.clear()"
   ]
  },
  {
   "cell_type": "code",
   "execution_count": 28,
   "id": "a8e98a20-d9e4-4c07-a3a5-0e389b572b95",
   "metadata": {},
   "outputs": [
    {
     "ename": "KeyError",
     "evalue": "'popitem(): dictionary is empty'",
     "output_type": "error",
     "traceback": [
      "\u001b[0;31m---------------------------------------------------------------------------\u001b[0m",
      "\u001b[0;31mKeyError\u001b[0m                                  Traceback (most recent call last)",
      "Cell \u001b[0;32mIn[28], line 1\u001b[0m\n\u001b[0;32m----> 1\u001b[0m d4\u001b[38;5;241m.\u001b[39mpopitem()\n",
      "\u001b[0;31mKeyError\u001b[0m: 'popitem(): dictionary is empty'"
     ]
    }
   ],
   "source": [
    "d4.popitem()\n"
   ]
  },
  {
   "cell_type": "code",
   "execution_count": 30,
   "id": "bd7f8008-72e2-4ffc-8b47-9003ccdbfa08",
   "metadata": {},
   "outputs": [
    {
     "ename": "NameError",
     "evalue": "name 'd4' is not defined",
     "output_type": "error",
     "traceback": [
      "\u001b[0;31m---------------------------------------------------------------------------\u001b[0m",
      "\u001b[0;31mNameError\u001b[0m                                 Traceback (most recent call last)",
      "Cell \u001b[0;32mIn[30], line 2\u001b[0m\n\u001b[1;32m      1\u001b[0m \u001b[38;5;28;01mdel\u001b[39;00m d4\n\u001b[0;32m----> 2\u001b[0m d4\n",
      "\u001b[0;31mNameError\u001b[0m: name 'd4' is not defined"
     ]
    }
   ],
   "source": [
    "del d4\n",
    "d4"
   ]
  }
 ],
 "metadata": {
  "kernelspec": {
   "display_name": "Python 3 (ipykernel)",
   "language": "python",
   "name": "python3"
  },
  "language_info": {
   "codemirror_mode": {
    "name": "ipython",
    "version": 3
   },
   "file_extension": ".py",
   "mimetype": "text/x-python",
   "name": "python",
   "nbconvert_exporter": "python",
   "pygments_lexer": "ipython3",
   "version": "3.12.2"
  }
 },
 "nbformat": 4,
 "nbformat_minor": 5
}
