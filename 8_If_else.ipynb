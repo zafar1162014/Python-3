{
 "cells": [
  {
   "cell_type": "markdown",
   "id": "d402da9b-ebe5-45de-b79d-7dbf2dc9b6ed",
   "metadata": {},
   "source": [
    "# If_else"
   ]
  },
  {
   "cell_type": "code",
   "execution_count": 10,
   "id": "68b0be87-b02a-4a38-821c-3906d21da1b7",
   "metadata": {},
   "outputs": [
    {
     "name": "stdout",
     "output_type": "stream",
     "text": [
      "The value of var1 is 10 and var2 is 20 \n"
     ]
    }
   ],
   "source": [
    "var1=10\n",
    "var2=20\n",
    "print('The value of var1 is {} and var2 is {} '.format(var1,var2))"
   ]
  },
  {
   "cell_type": "code",
   "execution_count": 12,
   "id": "f7e96143-a7f1-48c4-969f-60c040ec4a84",
   "metadata": {},
   "outputs": [
    {
     "name": "stdout",
     "output_type": "stream",
     "text": [
      "Not equal\n"
     ]
    }
   ],
   "source": [
    "if var1!=var2:\n",
    "    print('Not equal')"
   ]
  },
  {
   "cell_type": "code",
   "execution_count": 16,
   "id": "4ec40a0a-af66-4ff7-91c0-0c6fb988742d",
   "metadata": {},
   "outputs": [
    {
     "ename": "IndentationError",
     "evalue": "expected an indented block after 'if' statement on line 1 (1259007732.py, line 2)",
     "output_type": "error",
     "traceback": [
      "\u001b[0;36m  Cell \u001b[0;32mIn[16], line 2\u001b[0;36m\u001b[0m\n\u001b[0;31m    print('Not equal')\u001b[0m\n\u001b[0m    ^\u001b[0m\n\u001b[0;31mIndentationError\u001b[0m\u001b[0;31m:\u001b[0m expected an indented block after 'if' statement on line 1\n"
     ]
    }
   ],
   "source": [
    "if var1!=var2:\n",
    "print('Not equal')"
   ]
  },
  {
   "cell_type": "code",
   "execution_count": 20,
   "id": "ecbae04f-ab6f-4fda-a3c7-fe97ee049909",
   "metadata": {},
   "outputs": [],
   "source": [
    "if var1==var2:\n",
    "    print('Equal')"
   ]
  },
  {
   "cell_type": "code",
   "execution_count": 22,
   "id": "f17a6935-337c-4fc6-9764-73142b706783",
   "metadata": {},
   "outputs": [
    {
     "name": "stdout",
     "output_type": "stream",
     "text": [
      "if block\n"
     ]
    }
   ],
   "source": [
    "if var1 < var2 and var1>5 :\n",
    " print('if block')"
   ]
  },
  {
   "cell_type": "code",
   "execution_count": 24,
   "id": "5d7ea7de-90b9-494d-9037-2a783736d434",
   "metadata": {},
   "outputs": [
    {
     "name": "stdout",
     "output_type": "stream",
     "text": [
      "not equal\n"
     ]
    }
   ],
   "source": [
    "if not var1 == var2 :\n",
    " print('not equal')"
   ]
  },
  {
   "cell_type": "code",
   "execution_count": 26,
   "id": "d63f2ae2-1d3a-4d6b-bbf6-51c892ff2915",
   "metadata": {},
   "outputs": [
    {
     "name": "stdout",
     "output_type": "stream",
     "text": [
      "not equal\n"
     ]
    }
   ],
   "source": [
    "if not var1 == var2 : print('not equal')"
   ]
  },
  {
   "cell_type": "code",
   "execution_count": 42,
   "id": "f1201b5a-ddea-4acd-90e3-ab1c5d89588b",
   "metadata": {},
   "outputs": [
    {
     "name": "stdout",
     "output_type": "stream",
     "text": [
      "if\n"
     ]
    }
   ],
   "source": [
    "if var1 != var2 :\n",
    " print('if')\n",
    "elif var1 == 10 :\n",
    " print('elif')"
   ]
  },
  {
   "cell_type": "code",
   "execution_count": 44,
   "id": "66bb5e62-a1ab-426c-ba74-741c65d67f35",
   "metadata": {},
   "outputs": [
    {
     "name": "stdout",
     "output_type": "stream",
     "text": [
      "elif\n"
     ]
    }
   ],
   "source": [
    "if var1 == var2 :\n",
    " print('if')\n",
    "elif var1 == 10 :\n",
    " print('elif')"
   ]
  },
  {
   "cell_type": "code",
   "execution_count": 46,
   "id": "ac1a92b9-cb36-4d8d-92b7-e4c23d4e549d",
   "metadata": {},
   "outputs": [
    {
     "name": "stdout",
     "output_type": "stream",
     "text": [
      "else\n"
     ]
    }
   ],
   "source": [
    "if var1 == var2 :\n",
    " print('if')\n",
    "elif var1 == 5 :\n",
    " print('elif')\n",
    "else:\n",
    " print('else')"
   ]
  },
  {
   "cell_type": "code",
   "execution_count": 48,
   "id": "622af5ef-e95a-4934-8541-00c7bc7f5371",
   "metadata": {},
   "outputs": [
    {
     "name": "stdout",
     "output_type": "stream",
     "text": [
      "outer if\n",
      "inner if\n"
     ]
    }
   ],
   "source": [
    "if var1 != var2 :\n",
    " print('outer if')\n",
    " if var1 == 10 :\n",
    "  print('inner if')"
   ]
  },
  {
   "cell_type": "code",
   "execution_count": null,
   "id": "a16ed8b1-a3ec-4abf-bf52-e7ba38243b2d",
   "metadata": {},
   "outputs": [],
   "source": []
  }
 ],
 "metadata": {
  "kernelspec": {
   "display_name": "Python 3 (ipykernel)",
   "language": "python",
   "name": "python3"
  },
  "language_info": {
   "codemirror_mode": {
    "name": "ipython",
    "version": 3
   },
   "file_extension": ".py",
   "mimetype": "text/x-python",
   "name": "python",
   "nbconvert_exporter": "python",
   "pygments_lexer": "ipython3",
   "version": "3.12.2"
  }
 },
 "nbformat": 4,
 "nbformat_minor": 5
}
