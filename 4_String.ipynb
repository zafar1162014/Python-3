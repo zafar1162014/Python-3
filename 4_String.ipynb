{
 "cells": [
  {
   "cell_type": "markdown",
   "id": "3306be00-45c0-4e69-87b7-f6c9c5739a54",
   "metadata": {},
   "source": [
    "# String"
   ]
  },
  {
   "cell_type": "code",
   "execution_count": 9,
   "id": "31f3093e-8da5-4b7f-af43-eeca732c6570",
   "metadata": {},
   "outputs": [
    {
     "name": "stdout",
     "output_type": "stream",
     "text": [
      "this is declation\n",
      "of string in \n",
      "multiple line \n"
     ]
    }
   ],
   "source": [
    "string='''this is declation\n",
    "of string in \n",
    "multiple line '''\n",
    "print(string)"
   ]
  },
  {
   "cell_type": "code",
   "execution_count": 17,
   "id": "81f8fa2e-5165-421b-afd9-2221969385fd",
   "metadata": {},
   "outputs": [
    {
     "name": "stdout",
     "output_type": "stream",
     "text": [
      "this is declation\n",
      "of string in \n",
      "multiple line\n"
     ]
    }
   ],
   "source": [
    "str1='''this is declation\n",
    "of string in \n",
    "multiple line'''\n",
    "print(str1)"
   ]
  },
  {
   "cell_type": "code",
   "execution_count": 19,
   "id": "63102ca3-71e0-4f9e-844f-cbac7d7f1143",
   "metadata": {},
   "outputs": [
    {
     "name": "stdout",
     "output_type": "stream",
     "text": [
      "z\n",
      "a\n",
      "f\n",
      "a\n",
      "r\n"
     ]
    }
   ],
   "source": [
    "C = 'zafar'\n",
    "print(C[0])\n",
    "print(C[1])\n",
    "print(C[2])\n",
    "print(C[3])\n",
    "print(C[4])\n"
   ]
  },
  {
   "cell_type": "code",
   "execution_count": 21,
   "id": "458fbdbd-4d61-4032-b5a2-2a565743399e",
   "metadata": {},
   "outputs": [
    {
     "name": "stdout",
     "output_type": "stream",
     "text": [
      "46\n"
     ]
    }
   ],
   "source": [
    "print(len(string))"
   ]
  },
  {
   "cell_type": "code",
   "execution_count": null,
   "id": "f175e3f2-76f0-4dda-9d73-ed5d427c13c3",
   "metadata": {},
   "outputs": [],
   "source": []
  }
 ],
 "metadata": {
  "kernelspec": {
   "display_name": "Python 3 (ipykernel)",
   "language": "python",
   "name": "python3"
  },
  "language_info": {
   "codemirror_mode": {
    "name": "ipython",
    "version": 3
   },
   "file_extension": ".py",
   "mimetype": "text/x-python",
   "name": "python",
   "nbconvert_exporter": "python",
   "pygments_lexer": "ipython3",
   "version": "3.12.2"
  }
 },
 "nbformat": 4,
 "nbformat_minor": 5
}
