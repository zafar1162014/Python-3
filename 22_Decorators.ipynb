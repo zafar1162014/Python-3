{
 "cells": [
  {
   "cell_type": "markdown",
   "id": "0e4ad058-4150-4cf1-a0c8-e0efc63921e7",
   "metadata": {},
   "source": [
    "# Decorators"
   ]
  },
  {
   "cell_type": "code",
   "execution_count": 3,
   "id": "05543e60-0471-4f9e-b431-a3044d7d34e4",
   "metadata": {},
   "outputs": [
    {
     "name": "stdout",
     "output_type": "stream",
     "text": [
      "Hello ji Dosto\n"
     ]
    }
   ],
   "source": [
    "def deco_func(func):\n",
    "    \n",
    "    def inner():\n",
    "        func()\n",
    "        print(\"Dosto\")\n",
    "    return inner\n",
    "\n",
    "def original():\n",
    "    print(\"Hello ji\",end=\" \")\n",
    "    \n",
    "decorated_func = deco_func(original)\n",
    "\n",
    "decorated_func()"
   ]
  },
  {
   "cell_type": "code",
   "execution_count": 5,
   "id": "c1c45d38-e97b-490d-b96b-f1bb10fb925b",
   "metadata": {},
   "outputs": [],
   "source": [
    "def deco_func(func):\n",
    "    \n",
    "    def inner():\n",
    "        func()\n",
    "        print(\"Dosto\")\n",
    "    return inner\n",
    "\n",
    "@deco_func\n",
    "def original():\n",
    "    print(\"Hello ji\",end=\" \")"
   ]
  },
  {
   "cell_type": "code",
   "execution_count": 7,
   "id": "84adeb11-9ff1-476b-a477-95dcff3b2c02",
   "metadata": {},
   "outputs": [
    {
     "name": "stdout",
     "output_type": "stream",
     "text": [
      "Hello ji Dosto\n"
     ]
    }
   ],
   "source": [
    "original()"
   ]
  },
  {
   "cell_type": "code",
   "execution_count": null,
   "id": "dc4d406e-6d6a-4848-9b7d-6d2261848c5c",
   "metadata": {},
   "outputs": [],
   "source": []
  }
 ],
 "metadata": {
  "kernelspec": {
   "display_name": "Python 3 (ipykernel)",
   "language": "python",
   "name": "python3"
  },
  "language_info": {
   "codemirror_mode": {
    "name": "ipython",
    "version": 3
   },
   "file_extension": ".py",
   "mimetype": "text/x-python",
   "name": "python",
   "nbconvert_exporter": "python",
   "pygments_lexer": "ipython3",
   "version": "3.12.2"
  }
 },
 "nbformat": 4,
 "nbformat_minor": 5
}
