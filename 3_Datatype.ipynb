{
 "cells": [
  {
   "cell_type": "markdown",
   "id": "7bd6b2f5-d39f-4d1d-b5a1-98f60a64c17b",
   "metadata": {},
   "source": [
    "# Datatype"
   ]
  },
  {
   "cell_type": "code",
   "execution_count": 7,
   "id": "8b829d41-b00a-41d8-9460-9a3f96d32c54",
   "metadata": {},
   "outputs": [],
   "source": [
    "d1=1 # integer\n",
    "d2=2.304 # float\n",
    "d3='String' # string\n",
    "d4=True # Boolean \n",
    "d5=1+2j # complex\n",
    "d6=[1,2,3,4,5] # list\n",
    "d7={1,2,3,4,5} # set\n",
    "d8=(1,2,3,4,5) # tuple\n",
    "d9={'name': 'Zafar','City':'Lahore','Gender':'Male'} # dictionary \n",
    "d10=None # none"
   ]
  },
  {
   "cell_type": "code",
   "execution_count": 9,
   "id": "669b37f8-f8b4-4ea0-bd2a-b0b1ca3dbc58",
   "metadata": {},
   "outputs": [
    {
     "name": "stdout",
     "output_type": "stream",
     "text": [
      "<class 'int'>\n",
      "<class 'float'>\n",
      "<class 'str'>\n",
      "<class 'bool'>\n",
      "<class 'complex'>\n",
      "<class 'list'>\n",
      "<class 'set'>\n",
      "<class 'tuple'>\n",
      "<class 'dict'>\n",
      "<class 'NoneType'>\n"
     ]
    }
   ],
   "source": [
    "print(type(d1))\n",
    "print(type(d2))\n",
    "print(type(d3))\n",
    "print(type(d4))\n",
    "print(type(d5))\n",
    "print(type(d6))\n",
    "print(type(d7))\n",
    "print(type(d8))\n",
    "print(type(d9))\n",
    "print(type(d10))"
   ]
  },
  {
   "cell_type": "code",
   "execution_count": null,
   "id": "56698009-84fe-4029-8f5b-c927583fbb6d",
   "metadata": {},
   "outputs": [],
   "source": []
  }
 ],
 "metadata": {
  "kernelspec": {
   "display_name": "Python 3 (ipykernel)",
   "language": "python",
   "name": "python3"
  },
  "language_info": {
   "codemirror_mode": {
    "name": "ipython",
    "version": 3
   },
   "file_extension": ".py",
   "mimetype": "text/x-python",
   "name": "python",
   "nbconvert_exporter": "python",
   "pygments_lexer": "ipython3",
   "version": "3.12.2"
  }
 },
 "nbformat": 4,
 "nbformat_minor": 5
}
