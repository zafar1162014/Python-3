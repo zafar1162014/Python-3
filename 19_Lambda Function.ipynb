{
 "cells": [
  {
   "cell_type": "markdown",
   "id": "f8ab26e1-98e6-4542-8e71-991d5a463cb4",
   "metadata": {},
   "source": [
    "# Lambda Function"
   ]
  },
  {
   "cell_type": "code",
   "execution_count": 3,
   "id": "b033ba34-c8b0-40e2-b724-2c339171c9eb",
   "metadata": {},
   "outputs": [],
   "source": [
    "fun = lambda : print(\"5 Minutes Engineering\")"
   ]
  },
  {
   "cell_type": "code",
   "execution_count": 4,
   "id": "d575072a-31ca-4739-8d88-2f3ba3834908",
   "metadata": {},
   "outputs": [
    {
     "name": "stdout",
     "output_type": "stream",
     "text": [
      "5 Minutes Engineering\n"
     ]
    }
   ],
   "source": [
    "fun()"
   ]
  },
  {
   "cell_type": "code",
   "execution_count": 5,
   "id": "fffec2c2-d3f2-4236-a7df-bf0425c034ee",
   "metadata": {},
   "outputs": [],
   "source": [
    "Greetings =lambda x='name' : print(\"Assalam o alaikum \",x)\n"
   ]
  },
  {
   "cell_type": "code",
   "execution_count": 6,
   "id": "127c1c15-a71f-4be9-ade6-60f403073a97",
   "metadata": {},
   "outputs": [
    {
     "name": "stdout",
     "output_type": "stream",
     "text": [
      "Assalam o alaikum  Zafar\n"
     ]
    }
   ],
   "source": [
    "Greetings('Zafar')"
   ]
  },
  {
   "cell_type": "code",
   "execution_count": 7,
   "id": "ffd3996d-5ef2-4be5-a212-35fa604a6e2d",
   "metadata": {},
   "outputs": [
    {
     "data": {
      "text/plain": [
       "5"
      ]
     },
     "execution_count": 7,
     "metadata": {},
     "output_type": "execute_result"
    }
   ],
   "source": [
    "fun2 = lambda x,y : x if x>y else y\n",
    "fun2(5,2)"
   ]
  },
  {
   "cell_type": "code",
   "execution_count": 8,
   "id": "6060af1c-a7a1-416b-9ecf-02624643ac16",
   "metadata": {},
   "outputs": [
    {
     "data": {
      "text/plain": [
       "8"
      ]
     },
     "execution_count": 8,
     "metadata": {},
     "output_type": "execute_result"
    }
   ],
   "source": [
    "fun3 = lambda x,y,z : x+y+z\n",
    "fun3(5,2,1)"
   ]
  },
  {
   "cell_type": "code",
   "execution_count": 9,
   "id": "848095e7-7b7b-44bf-92f6-efc25a0d0e5e",
   "metadata": {},
   "outputs": [
    {
     "name": "stdout",
     "output_type": "stream",
     "text": [
      "5\n",
      "6\n"
     ]
    }
   ],
   "source": [
    "operation = lambda a, b, op: a + b if op == \"add\" else a * b\n",
    "print(operation(2, 3, \"add\"))  # 5\n",
    "print(operation(2, 3, \"mul\"))  # 6\n"
   ]
  },
  {
   "cell_type": "code",
   "execution_count": 10,
   "id": "74622d7f-df2a-44f3-9f2f-c78b7fa38b35",
   "metadata": {},
   "outputs": [
    {
     "name": "stdout",
     "output_type": "stream",
     "text": [
      "['Zafar scored 90', 'Hamza scored 85', 'Ali scored 92']\n"
     ]
    }
   ],
   "source": [
    "names = [\"Zafar\", \"Hamza\", \"Ali\"]\n",
    "scores = [90, 85, 92]\n",
    "\n",
    "result = list(map(lambda x: f\"{x[0]} scored {x[1]}\", zip(names, scores)))\n",
    "print(result)\n",
    "# ['Zafar scored 90', 'Hamza scored 85', 'Ali scored 92']\n"
   ]
  },
  {
   "cell_type": "code",
   "execution_count": 11,
   "id": "110a5510-dba6-41d3-a05a-77b454251f7c",
   "metadata": {},
   "outputs": [
    {
     "name": "stdout",
     "output_type": "stream",
     "text": [
      "[2, 4, 6]\n"
     ]
    }
   ],
   "source": [
    "nums = [1, 2, 3, 4, 5, 6]\n",
    "evens = list(filter(lambda x: x % 2 == 0, nums))\n",
    "print(evens)  # [2, 4, 6]\n"
   ]
  },
  {
   "cell_type": "code",
   "execution_count": 12,
   "id": "3ed66983-d86e-48de-807d-26539b9fb388",
   "metadata": {},
   "outputs": [
    {
     "name": "stdout",
     "output_type": "stream",
     "text": [
      "['Ali', 'Hamza', 'Zafar']\n"
     ]
    }
   ],
   "source": [
    "students = [\n",
    "    {\"name\": \"Zafar\", \"marks\": 80},\n",
    "    {\"name\": \"Ali\", \"marks\": 92},\n",
    "    {\"name\": \"Hamza\", \"marks\": 85},\n",
    "]\n",
    "\n",
    "sorted_students = sorted(students, key=lambda s: s['marks'], reverse=True)\n",
    "print([s['name'] for s in sorted_students])\n",
    "# ['Ali', 'Hamza', 'Zafar']\n"
   ]
  },
  {
   "cell_type": "code",
   "execution_count": 13,
   "id": "22a1eaf2-96b8-4bc2-83c3-02ac395906bb",
   "metadata": {},
   "outputs": [
    {
     "name": "stdout",
     "output_type": "stream",
     "text": [
      "10\n"
     ]
    }
   ],
   "source": [
    "multiply = lambda a: (lambda b: a * b)\n",
    "double = multiply(2)\n",
    "print(double(5))  # 10\n"
   ]
  },
  {
   "cell_type": "code",
   "execution_count": 14,
   "id": "710e4745-1318-415b-9681-61f5a0a4ea6c",
   "metadata": {},
   "outputs": [
    {
     "name": "stdout",
     "output_type": "stream",
     "text": [
      "16\n",
      "8\n"
     ]
    }
   ],
   "source": [
    "power = lambda x: lambda y: y ** x\n",
    "square = power(2)\n",
    "cube = power(3)\n",
    "\n",
    "print(square(4))  # 16\n",
    "print(cube(2))    # 8\n"
   ]
  },
  {
   "cell_type": "code",
   "execution_count": 15,
   "id": "115b861c-f84c-4651-b8d5-044a2841b8b8",
   "metadata": {},
   "outputs": [
    {
     "name": "stdout",
     "output_type": "stream",
     "text": [
      "8\n",
      "∞\n"
     ]
    }
   ],
   "source": [
    "calc = {\n",
    "    'add': lambda a, b: a + b,\n",
    "    'sub': lambda a, b: a - b,\n",
    "    'mul': lambda a, b: a * b,\n",
    "    'div': lambda a, b: a / b if b != 0 else '∞',\n",
    "}\n",
    "\n",
    "print(calc['add'](5, 3))  # 8\n",
    "print(calc['div'](10, 0)) # '∞'\n"
   ]
  },
  {
   "cell_type": "code",
   "execution_count": null,
   "id": "3c5679ee-296e-45fe-bd50-87cea5f5d68d",
   "metadata": {},
   "outputs": [],
   "source": []
  }
 ],
 "metadata": {
  "kernelspec": {
   "display_name": "Python 3 (ipykernel)",
   "language": "python",
   "name": "python3"
  },
  "language_info": {
   "codemirror_mode": {
    "name": "ipython",
    "version": 3
   },
   "file_extension": ".py",
   "mimetype": "text/x-python",
   "name": "python",
   "nbconvert_exporter": "python",
   "pygments_lexer": "ipython3",
   "version": "3.12.2"
  }
 },
 "nbformat": 4,
 "nbformat_minor": 5
}
