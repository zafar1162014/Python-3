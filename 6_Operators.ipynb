{
 "cells": [
  {
   "cell_type": "markdown",
   "id": "48823f47-a635-4677-ae19-71c42a6161dc",
   "metadata": {},
   "source": [
    "# Operators"
   ]
  },
  {
   "cell_type": "markdown",
   "id": "1fd46c8b-c88a-4a87-958b-806ecdc51d90",
   "metadata": {},
   "source": [
    "## Arithemetic Operators"
   ]
  },
  {
   "cell_type": "code",
   "execution_count": 7,
   "id": "e0fde334-1cb2-47cc-93ff-3c03bac21f82",
   "metadata": {},
   "outputs": [],
   "source": [
    "x=5\n",
    "y=3"
   ]
  },
  {
   "cell_type": "code",
   "execution_count": 11,
   "id": "0595a4b7-699f-497b-a610-60bd3e069bb1",
   "metadata": {},
   "outputs": [
    {
     "name": "stdout",
     "output_type": "stream",
     "text": [
      "8\n",
      "2\n",
      "15\n",
      "1.6666666666666667\n",
      "2\n",
      "125\n"
     ]
    }
   ],
   "source": [
    "print(x+y)\n",
    "print(x-y)\n",
    "print(x*y)\n",
    "print(x/y)\n",
    "print(x%y)\n",
    "print(x**y)\n"
   ]
  },
  {
   "cell_type": "markdown",
   "id": "05910ef5-0ba5-498b-a2db-b3198efc01e3",
   "metadata": {},
   "source": [
    "## Comparison Operators"
   ]
  },
  {
   "cell_type": "code",
   "execution_count": 19,
   "id": "75210686-97a7-4dc4-a0f9-4e633cb64d8a",
   "metadata": {},
   "outputs": [
    {
     "name": "stdout",
     "output_type": "stream",
     "text": [
      "False\n",
      "True\n",
      "False\n",
      "True\n",
      "False\n",
      "True\n"
     ]
    }
   ],
   "source": [
    "print(x==y)\n",
    "print(x>=y)\n",
    "print(x<=y)\n",
    "print(x>y)\n",
    "print(x<y)\n",
    "print(x!=y)"
   ]
  },
  {
   "cell_type": "markdown",
   "id": "acb0e7ab-b002-4b2f-945f-e3e957debd9c",
   "metadata": {},
   "source": [
    "## Assignment Operators"
   ]
  },
  {
   "cell_type": "code",
   "execution_count": 31,
   "id": "c6ee3157-2f65-4d29-a12e-0b476218dbd8",
   "metadata": {},
   "outputs": [
    {
     "name": "stdout",
     "output_type": "stream",
     "text": [
      "10\n",
      "20\n",
      "10\n",
      "100\n",
      "10.0\n",
      "10000000000.0\n",
      "0.0\n"
     ]
    }
   ],
   "source": [
    "N=10\n",
    "print(N)\n",
    "N+=N\n",
    "print(N)\n",
    "N -= 10\n",
    "print(N)\n",
    "N *= 10\n",
    "print(N)\n",
    "N/= 10\n",
    "print(N)\n",
    "N**=10\n",
    "print(N)\n",
    "N%=10\n",
    "print(N)"
   ]
  },
  {
   "cell_type": "markdown",
   "id": "7eb56dd8-d4db-4231-8b01-d432687d1bf5",
   "metadata": {},
   "source": [
    "## Logical Operators"
   ]
  },
  {
   "cell_type": "code",
   "execution_count": 36,
   "id": "ff3c0b8d-b923-454a-8a80-8762bf2352b1",
   "metadata": {},
   "outputs": [
    {
     "name": "stdout",
     "output_type": "stream",
     "text": [
      "True\n",
      "False\n",
      "True\n",
      "False\n"
     ]
    }
   ],
   "source": [
    "x=1 \n",
    "y=2\n",
    "print(x<2 and y>1)\n",
    "print(x>2 and y<1)\n",
    "print(x<2 and y>1)\n",
    "print(x>2 and y>1)\n"
   ]
  },
  {
   "cell_type": "code",
   "execution_count": 40,
   "id": "babff494-e74f-4af1-afbe-9d0f877b10be",
   "metadata": {},
   "outputs": [
    {
     "name": "stdout",
     "output_type": "stream",
     "text": [
      "True\n",
      "False\n",
      "True\n",
      "True\n"
     ]
    }
   ],
   "source": [
    "print(x<2 or y>1)\n",
    "print(x>2 or y<1)\n",
    "print(x<2 or y>1)\n",
    "print(x>2 or y>1)"
   ]
  },
  {
   "cell_type": "code",
   "execution_count": 44,
   "id": "93172ebf-e77c-4f2d-93dd-bedbac4e0e2b",
   "metadata": {},
   "outputs": [
    {
     "name": "stdout",
     "output_type": "stream",
     "text": [
      "False\n",
      "True\n",
      "False\n",
      "False\n"
     ]
    }
   ],
   "source": [
    "print(not(x<2 or y>1))\n",
    "print(not(x>2 or y<1))\n",
    "print(not(x<2 or y>1))\n",
    "print(not(x>2 or y>1))"
   ]
  },
  {
   "cell_type": "markdown",
   "id": "6a8799b6-9085-4c3d-ac0f-2c89d5307d9c",
   "metadata": {},
   "source": [
    "## Bitwise Operators"
   ]
  },
  {
   "cell_type": "code",
   "execution_count": 49,
   "id": "e6081497-d76e-4f25-b1bd-47d0dbe2b221",
   "metadata": {},
   "outputs": [],
   "source": [
    "u=2 #(0010)\n",
    "v=1 #(0001)"
   ]
  },
  {
   "cell_type": "code",
   "execution_count": 53,
   "id": "04a0303b-9a1e-4716-b400-bb5e1bfca319",
   "metadata": {},
   "outputs": [
    {
     "name": "stdout",
     "output_type": "stream",
     "text": [
      "0\n"
     ]
    }
   ],
   "source": [
    "print(u & v)"
   ]
  },
  {
   "cell_type": "code",
   "execution_count": 65,
   "id": "f43073b5-a110-40b5-bf81-d7963a39dcf0",
   "metadata": {},
   "outputs": [
    {
     "name": "stdout",
     "output_type": "stream",
     "text": [
      "3\n"
     ]
    }
   ],
   "source": [
    "print(u | v)"
   ]
  },
  {
   "cell_type": "code",
   "execution_count": 67,
   "id": "ecf08d63-88f4-474e-b94b-6a9c6cc242f9",
   "metadata": {},
   "outputs": [
    {
     "name": "stdout",
     "output_type": "stream",
     "text": [
      "3\n"
     ]
    }
   ],
   "source": [
    "print(u ^ v)"
   ]
  },
  {
   "cell_type": "code",
   "execution_count": 69,
   "id": "4b13ec3e-8385-4874-850c-b307697df676",
   "metadata": {},
   "outputs": [
    {
     "name": "stdout",
     "output_type": "stream",
     "text": [
      "0\n"
     ]
    }
   ],
   "source": [
    "print(u >> 2)"
   ]
  },
  {
   "cell_type": "code",
   "execution_count": 71,
   "id": "03328fa6-aa48-4ba8-b3c4-e1a0afb484d7",
   "metadata": {},
   "outputs": [
    {
     "data": {
      "text/plain": [
       "2"
      ]
     },
     "execution_count": 71,
     "metadata": {},
     "output_type": "execute_result"
    }
   ],
   "source": [
    "u"
   ]
  },
  {
   "cell_type": "code",
   "execution_count": 81,
   "id": "41e5a587-ffce-4145-b80f-2ecb471230f9",
   "metadata": {},
   "outputs": [
    {
     "name": "stdout",
     "output_type": "stream",
     "text": [
      "8\n"
     ]
    }
   ],
   "source": [
    "print(u<< 2)"
   ]
  },
  {
   "cell_type": "code",
   "execution_count": 83,
   "id": "5c83d4f8-25c9-4e69-a4e6-6dcbdbc10cba",
   "metadata": {},
   "outputs": [
    {
     "name": "stdout",
     "output_type": "stream",
     "text": [
      "16\n"
     ]
    }
   ],
   "source": [
    "print(u<<3)"
   ]
  },
  {
   "cell_type": "code",
   "execution_count": 85,
   "id": "a0e209a9-4dcb-4ac8-8dc6-4fdce74288da",
   "metadata": {},
   "outputs": [
    {
     "name": "stdout",
     "output_type": "stream",
     "text": [
      "2\n"
     ]
    }
   ],
   "source": [
    "print(u)"
   ]
  },
  {
   "cell_type": "code",
   "execution_count": null,
   "id": "af531b0c-711d-4029-a82e-7025cd795bce",
   "metadata": {},
   "outputs": [],
   "source": []
  }
 ],
 "metadata": {
  "kernelspec": {
   "display_name": "Python 3 (ipykernel)",
   "language": "python",
   "name": "python3"
  },
  "language_info": {
   "codemirror_mode": {
    "name": "ipython",
    "version": 3
   },
   "file_extension": ".py",
   "mimetype": "text/x-python",
   "name": "python",
   "nbconvert_exporter": "python",
   "pygments_lexer": "ipython3",
   "version": "3.12.2"
  }
 },
 "nbformat": 4,
 "nbformat_minor": 5
}
